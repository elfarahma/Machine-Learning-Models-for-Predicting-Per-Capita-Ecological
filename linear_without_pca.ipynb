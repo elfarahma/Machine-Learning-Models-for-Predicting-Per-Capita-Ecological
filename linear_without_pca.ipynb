{
 "cells": [
  {
   "cell_type": "code",
   "execution_count": 1,
   "id": "e566cdb5-df7c-4d0f-9fa0-19db17352c15",
   "metadata": {},
   "outputs": [],
   "source": [
    "import pandas as pd\n",
    "import numpy as np\n",
    "from sklearn import preprocessing\n",
    "from sklearn.preprocessing import normalize\n",
    "from sklearn.model_selection import train_test_split\n",
    "\n",
    "import matplotlib.pyplot as plt\n",
    "import seaborn as sns"
   ]
  },
  {
   "cell_type": "markdown",
   "id": "a2790137-4252-4425-adc6-69192a8e0736",
   "metadata": {},
   "source": [
    "Dataset yang didapat merupakan timeseries dataset dari https://github.com/as6140/hdi_v_ecology_plotly_blog. Dataset yang didapat relatif sudah clean, karena sudah melalui sejumlah tahapan Preprocessing, seperti imputasi data null dan pembersihan duplicate.\n"
   ]
  },
  {
   "cell_type": "markdown",
   "id": "a52d06f1-b406-4074-826d-cbad99d64662",
   "metadata": {},
   "source": [
    "### I.IMPOR DATA DAN HAPUS DATA DUPLIKAT"
   ]
  },
  {
   "cell_type": "code",
   "execution_count": 2,
   "id": "bcb623b6-e73f-4dde-bdf0-fee436f9e0d2",
   "metadata": {},
   "outputs": [],
   "source": [
    "def importData(filename):\n",
    "    \"\"\"\n",
    "    Fungsi untuk import data & hapus duplikat\n",
    "    :param filename: <string> nama file input (format .csv)\n",
    "    :return df: <pandas dataframe> sampel data\n",
    "    \"\"\"\n",
    "\n",
    "    # read data\n",
    "    df = pd.read_csv(filename)\n",
    "    print(\"Data asli            : \", df.shape, \"- (#observasi, #kolom)\")\n",
    "\n",
    "    # drop duplicates\n",
    "    df = df.drop_duplicates()\n",
    "    print(\"Data setelah di-drop : \", df.shape, \"- (#observasi, #kolom)\")\n",
    "\n",
    "    return df\n",
    "\n",
    "# (filename) adalah argumen\n",
    "# Argumen adalah sebuah variable. \n",
    "# Jika fungsi tsb. diberi argumen filename = \"bank_data.csv\", \n",
    "# maka semua variabel 'filename' di dalam fungsi \n",
    "# akan berubah menjadi \"bank_data.csv\"\n"
   ]
  },
  {
   "cell_type": "code",
   "execution_count": 3,
   "id": "38f2270f-6871-43fb-b353-636df0d53f55",
   "metadata": {},
   "outputs": [],
   "source": [
    "data = 'data_for_plotly_grid.csv'"
   ]
  },
  {
   "cell_type": "code",
   "execution_count": 5,
   "id": "fc0de85c-8b37-4a8a-9d6b-29eaf0c6728c",
   "metadata": {},
   "outputs": [
    {
     "name": "stdout",
     "output_type": "stream",
     "text": [
      "Data asli            :  (2157, 11) - (#observasi, #kolom)\n",
      "Data setelah di-drop :  (2157, 11) - (#observasi, #kolom)\n"
     ]
    }
   ],
   "source": [
    "footprint = importData(filename = data)"
   ]
  },
  {
   "cell_type": "code",
   "execution_count": 6,
   "id": "1846fd20-08bf-4f77-8879-0fb640db7551",
   "metadata": {},
   "outputs": [
    {
     "data": {
      "text/html": [
       "<div>\n",
       "<style scoped>\n",
       "    .dataframe tbody tr th:only-of-type {\n",
       "        vertical-align: middle;\n",
       "    }\n",
       "\n",
       "    .dataframe tbody tr th {\n",
       "        vertical-align: top;\n",
       "    }\n",
       "\n",
       "    .dataframe thead th {\n",
       "        text-align: right;\n",
       "    }\n",
       "</style>\n",
       "<table border=\"1\" class=\"dataframe\">\n",
       "  <thead>\n",
       "    <tr style=\"text-align: right;\">\n",
       "      <th></th>\n",
       "      <th>Unnamed: 0</th>\n",
       "      <th>country</th>\n",
       "      <th>year</th>\n",
       "      <th>hdi</th>\n",
       "      <th>life_expectancy</th>\n",
       "      <th>population</th>\n",
       "      <th>continent</th>\n",
       "      <th>EFConsPerCap</th>\n",
       "      <th>EFConsTotGHA</th>\n",
       "      <th>BiocapPerCap</th>\n",
       "      <th>BiocapTotGHA</th>\n",
       "    </tr>\n",
       "  </thead>\n",
       "  <tbody>\n",
       "    <tr>\n",
       "      <th>0</th>\n",
       "      <td>0</td>\n",
       "      <td>Afghanistan</td>\n",
       "      <td>2000</td>\n",
       "      <td>0.340</td>\n",
       "      <td>55.482</td>\n",
       "      <td>20093756.0</td>\n",
       "      <td>Asia</td>\n",
       "      <td>0.648085</td>\n",
       "      <td>12768498.74</td>\n",
       "      <td>0.509767</td>\n",
       "      <td>10043372.21</td>\n",
       "    </tr>\n",
       "    <tr>\n",
       "      <th>1</th>\n",
       "      <td>1</td>\n",
       "      <td>Afghanistan</td>\n",
       "      <td>2001</td>\n",
       "      <td>0.341</td>\n",
       "      <td>56.044</td>\n",
       "      <td>20966463.0</td>\n",
       "      <td>Asia</td>\n",
       "      <td>0.605820</td>\n",
       "      <td>12438205.89</td>\n",
       "      <td>0.500063</td>\n",
       "      <td>10266894.13</td>\n",
       "    </tr>\n",
       "    <tr>\n",
       "      <th>2</th>\n",
       "      <td>2</td>\n",
       "      <td>Afghanistan</td>\n",
       "      <td>2002</td>\n",
       "      <td>0.373</td>\n",
       "      <td>56.637</td>\n",
       "      <td>21979923.0</td>\n",
       "      <td>Asia</td>\n",
       "      <td>0.704061</td>\n",
       "      <td>15128227.46</td>\n",
       "      <td>0.570591</td>\n",
       "      <td>12260349.44</td>\n",
       "    </tr>\n",
       "    <tr>\n",
       "      <th>3</th>\n",
       "      <td>3</td>\n",
       "      <td>Afghanistan</td>\n",
       "      <td>2003</td>\n",
       "      <td>0.381</td>\n",
       "      <td>57.250</td>\n",
       "      <td>23064851.0</td>\n",
       "      <td>Asia</td>\n",
       "      <td>0.708856</td>\n",
       "      <td>15954511.65</td>\n",
       "      <td>0.591033</td>\n",
       "      <td>13302606.63</td>\n",
       "    </tr>\n",
       "    <tr>\n",
       "      <th>4</th>\n",
       "      <td>4</td>\n",
       "      <td>Afghanistan</td>\n",
       "      <td>2004</td>\n",
       "      <td>0.396</td>\n",
       "      <td>57.875</td>\n",
       "      <td>24118979.0</td>\n",
       "      <td>Asia</td>\n",
       "      <td>0.619414</td>\n",
       "      <td>14556109.86</td>\n",
       "      <td>0.502825</td>\n",
       "      <td>11816295.92</td>\n",
       "    </tr>\n",
       "  </tbody>\n",
       "</table>\n",
       "</div>"
      ],
      "text/plain": [
       "   Unnamed: 0      country  year    hdi  life_expectancy  population  \\\n",
       "0           0  Afghanistan  2000  0.340           55.482  20093756.0   \n",
       "1           1  Afghanistan  2001  0.341           56.044  20966463.0   \n",
       "2           2  Afghanistan  2002  0.373           56.637  21979923.0   \n",
       "3           3  Afghanistan  2003  0.381           57.250  23064851.0   \n",
       "4           4  Afghanistan  2004  0.396           57.875  24118979.0   \n",
       "\n",
       "  continent  EFConsPerCap  EFConsTotGHA  BiocapPerCap  BiocapTotGHA  \n",
       "0      Asia      0.648085   12768498.74      0.509767   10043372.21  \n",
       "1      Asia      0.605820   12438205.89      0.500063   10266894.13  \n",
       "2      Asia      0.704061   15128227.46      0.570591   12260349.44  \n",
       "3      Asia      0.708856   15954511.65      0.591033   13302606.63  \n",
       "4      Asia      0.619414   14556109.86      0.502825   11816295.92  "
      ]
     },
     "execution_count": 6,
     "metadata": {},
     "output_type": "execute_result"
    }
   ],
   "source": [
    "footprint.head()"
   ]
  },
  {
   "cell_type": "markdown",
   "id": "af60dc31-0a04-4e57-9b06-875b3e62483f",
   "metadata": {},
   "source": [
    "Melakukan sanity check pada dataset sebelum melakukan pre-processing. Dengan tahapan sebagai berikut:\n",
    "\n",
    "1. Pengecekan statistik data pada kolom\n",
    "2. Pengecekan tipe data pada kolom\n",
    "3. Pengecekan null data"
   ]
  },
  {
   "cell_type": "code",
   "execution_count": 7,
   "id": "c230f60b-47b3-4aba-9c09-c504750fa337",
   "metadata": {},
   "outputs": [
    {
     "data": {
      "text/html": [
       "<div>\n",
       "<style scoped>\n",
       "    .dataframe tbody tr th:only-of-type {\n",
       "        vertical-align: middle;\n",
       "    }\n",
       "\n",
       "    .dataframe tbody tr th {\n",
       "        vertical-align: top;\n",
       "    }\n",
       "\n",
       "    .dataframe thead th {\n",
       "        text-align: right;\n",
       "    }\n",
       "</style>\n",
       "<table border=\"1\" class=\"dataframe\">\n",
       "  <thead>\n",
       "    <tr style=\"text-align: right;\">\n",
       "      <th></th>\n",
       "      <th>Unnamed: 0</th>\n",
       "      <th>country</th>\n",
       "      <th>year</th>\n",
       "      <th>hdi</th>\n",
       "      <th>life_expectancy</th>\n",
       "      <th>population</th>\n",
       "      <th>continent</th>\n",
       "      <th>EFConsPerCap</th>\n",
       "      <th>EFConsTotGHA</th>\n",
       "      <th>BiocapPerCap</th>\n",
       "      <th>BiocapTotGHA</th>\n",
       "    </tr>\n",
       "  </thead>\n",
       "  <tbody>\n",
       "    <tr>\n",
       "      <th>count</th>\n",
       "      <td>2157.000000</td>\n",
       "      <td>2157</td>\n",
       "      <td>2157.000000</td>\n",
       "      <td>2157.000000</td>\n",
       "      <td>2157.000000</td>\n",
       "      <td>2.157000e+03</td>\n",
       "      <td>2157</td>\n",
       "      <td>2157.000000</td>\n",
       "      <td>2.157000e+03</td>\n",
       "      <td>2157.000000</td>\n",
       "      <td>2.157000e+03</td>\n",
       "    </tr>\n",
       "    <tr>\n",
       "      <th>unique</th>\n",
       "      <td>NaN</td>\n",
       "      <td>146</td>\n",
       "      <td>NaN</td>\n",
       "      <td>NaN</td>\n",
       "      <td>NaN</td>\n",
       "      <td>NaN</td>\n",
       "      <td>6</td>\n",
       "      <td>NaN</td>\n",
       "      <td>NaN</td>\n",
       "      <td>NaN</td>\n",
       "      <td>NaN</td>\n",
       "    </tr>\n",
       "    <tr>\n",
       "      <th>top</th>\n",
       "      <td>NaN</td>\n",
       "      <td>Afghanistan</td>\n",
       "      <td>NaN</td>\n",
       "      <td>NaN</td>\n",
       "      <td>NaN</td>\n",
       "      <td>NaN</td>\n",
       "      <td>Africa</td>\n",
       "      <td>NaN</td>\n",
       "      <td>NaN</td>\n",
       "      <td>NaN</td>\n",
       "      <td>NaN</td>\n",
       "    </tr>\n",
       "    <tr>\n",
       "      <th>freq</th>\n",
       "      <td>NaN</td>\n",
       "      <td>15</td>\n",
       "      <td>NaN</td>\n",
       "      <td>NaN</td>\n",
       "      <td>NaN</td>\n",
       "      <td>NaN</td>\n",
       "      <td>630</td>\n",
       "      <td>NaN</td>\n",
       "      <td>NaN</td>\n",
       "      <td>NaN</td>\n",
       "      <td>NaN</td>\n",
       "    </tr>\n",
       "    <tr>\n",
       "      <th>mean</th>\n",
       "      <td>1078.000000</td>\n",
       "      <td>NaN</td>\n",
       "      <td>2007.013445</td>\n",
       "      <td>0.663868</td>\n",
       "      <td>68.963548</td>\n",
       "      <td>4.149857e+07</td>\n",
       "      <td>NaN</td>\n",
       "      <td>3.332793</td>\n",
       "      <td>1.135235e+08</td>\n",
       "      <td>3.480864</td>\n",
       "      <td>7.334822e+07</td>\n",
       "    </tr>\n",
       "    <tr>\n",
       "      <th>std</th>\n",
       "      <td>622.816586</td>\n",
       "      <td>NaN</td>\n",
       "      <td>4.320348</td>\n",
       "      <td>0.168760</td>\n",
       "      <td>9.531841</td>\n",
       "      <td>1.497885e+08</td>\n",
       "      <td>NaN</td>\n",
       "      <td>2.636035</td>\n",
       "      <td>4.232561e+08</td>\n",
       "      <td>7.059596</td>\n",
       "      <td>2.138697e+08</td>\n",
       "    </tr>\n",
       "    <tr>\n",
       "      <th>min</th>\n",
       "      <td>0.000000</td>\n",
       "      <td>NaN</td>\n",
       "      <td>2000.000000</td>\n",
       "      <td>0.255000</td>\n",
       "      <td>38.702000</td>\n",
       "      <td>9.808200e+04</td>\n",
       "      <td>NaN</td>\n",
       "      <td>0.428228</td>\n",
       "      <td>1.800502e+05</td>\n",
       "      <td>0.033138</td>\n",
       "      <td>4.645019e+04</td>\n",
       "    </tr>\n",
       "    <tr>\n",
       "      <th>25%</th>\n",
       "      <td>539.000000</td>\n",
       "      <td>NaN</td>\n",
       "      <td>2003.000000</td>\n",
       "      <td>0.520000</td>\n",
       "      <td>62.501000</td>\n",
       "      <td>3.605439e+06</td>\n",
       "      <td>NaN</td>\n",
       "      <td>1.401618</td>\n",
       "      <td>8.442695e+06</td>\n",
       "      <td>0.771566</td>\n",
       "      <td>5.290507e+06</td>\n",
       "    </tr>\n",
       "    <tr>\n",
       "      <th>50%</th>\n",
       "      <td>1078.000000</td>\n",
       "      <td>NaN</td>\n",
       "      <td>2007.000000</td>\n",
       "      <td>0.692000</td>\n",
       "      <td>71.658537</td>\n",
       "      <td>9.474511e+06</td>\n",
       "      <td>NaN</td>\n",
       "      <td>2.402041</td>\n",
       "      <td>2.254306e+07</td>\n",
       "      <td>1.570229</td>\n",
       "      <td>1.714351e+07</td>\n",
       "    </tr>\n",
       "    <tr>\n",
       "      <th>75%</th>\n",
       "      <td>1617.000000</td>\n",
       "      <td>NaN</td>\n",
       "      <td>2011.000000</td>\n",
       "      <td>0.798000</td>\n",
       "      <td>75.932000</td>\n",
       "      <td>2.700843e+07</td>\n",
       "      <td>NaN</td>\n",
       "      <td>4.716975</td>\n",
       "      <td>6.294436e+07</td>\n",
       "      <td>3.128630</td>\n",
       "      <td>5.485825e+07</td>\n",
       "    </tr>\n",
       "    <tr>\n",
       "      <th>max</th>\n",
       "      <td>2156.000000</td>\n",
       "      <td>NaN</td>\n",
       "      <td>2014.000000</td>\n",
       "      <td>0.948000</td>\n",
       "      <td>83.587805</td>\n",
       "      <td>1.364270e+09</td>\n",
       "      <td>NaN</td>\n",
       "      <td>17.021936</td>\n",
       "      <td>5.212416e+09</td>\n",
       "      <td>72.505217</td>\n",
       "      <td>1.831483e+09</td>\n",
       "    </tr>\n",
       "  </tbody>\n",
       "</table>\n",
       "</div>"
      ],
      "text/plain": [
       "         Unnamed: 0      country         year          hdi  life_expectancy  \\\n",
       "count   2157.000000         2157  2157.000000  2157.000000      2157.000000   \n",
       "unique          NaN          146          NaN          NaN              NaN   \n",
       "top             NaN  Afghanistan          NaN          NaN              NaN   \n",
       "freq            NaN           15          NaN          NaN              NaN   \n",
       "mean    1078.000000          NaN  2007.013445     0.663868        68.963548   \n",
       "std      622.816586          NaN     4.320348     0.168760         9.531841   \n",
       "min        0.000000          NaN  2000.000000     0.255000        38.702000   \n",
       "25%      539.000000          NaN  2003.000000     0.520000        62.501000   \n",
       "50%     1078.000000          NaN  2007.000000     0.692000        71.658537   \n",
       "75%     1617.000000          NaN  2011.000000     0.798000        75.932000   \n",
       "max     2156.000000          NaN  2014.000000     0.948000        83.587805   \n",
       "\n",
       "          population continent  EFConsPerCap  EFConsTotGHA  BiocapPerCap  \\\n",
       "count   2.157000e+03      2157   2157.000000  2.157000e+03   2157.000000   \n",
       "unique           NaN         6           NaN           NaN           NaN   \n",
       "top              NaN    Africa           NaN           NaN           NaN   \n",
       "freq             NaN       630           NaN           NaN           NaN   \n",
       "mean    4.149857e+07       NaN      3.332793  1.135235e+08      3.480864   \n",
       "std     1.497885e+08       NaN      2.636035  4.232561e+08      7.059596   \n",
       "min     9.808200e+04       NaN      0.428228  1.800502e+05      0.033138   \n",
       "25%     3.605439e+06       NaN      1.401618  8.442695e+06      0.771566   \n",
       "50%     9.474511e+06       NaN      2.402041  2.254306e+07      1.570229   \n",
       "75%     2.700843e+07       NaN      4.716975  6.294436e+07      3.128630   \n",
       "max     1.364270e+09       NaN     17.021936  5.212416e+09     72.505217   \n",
       "\n",
       "        BiocapTotGHA  \n",
       "count   2.157000e+03  \n",
       "unique           NaN  \n",
       "top              NaN  \n",
       "freq             NaN  \n",
       "mean    7.334822e+07  \n",
       "std     2.138697e+08  \n",
       "min     4.645019e+04  \n",
       "25%     5.290507e+06  \n",
       "50%     1.714351e+07  \n",
       "75%     5.485825e+07  \n",
       "max     1.831483e+09  "
      ]
     },
     "execution_count": 7,
     "metadata": {},
     "output_type": "execute_result"
    }
   ],
   "source": [
    "#statistik kolom\n",
    "\n",
    "footprint.describe(include='all')"
   ]
  },
  {
   "cell_type": "code",
   "execution_count": 9,
   "id": "565dbefb-518a-4025-a864-e164284602a3",
   "metadata": {},
   "outputs": [
    {
     "name": "stdout",
     "output_type": "stream",
     "text": [
      "<class 'pandas.core.frame.DataFrame'>\n",
      "Int64Index: 2157 entries, 0 to 2156\n",
      "Data columns (total 11 columns):\n",
      " #   Column           Non-Null Count  Dtype  \n",
      "---  ------           --------------  -----  \n",
      " 0   Unnamed: 0       2157 non-null   int64  \n",
      " 1   country          2157 non-null   object \n",
      " 2   year             2157 non-null   int64  \n",
      " 3   hdi              2157 non-null   float64\n",
      " 4   life_expectancy  2157 non-null   float64\n",
      " 5   population       2157 non-null   float64\n",
      " 6   continent        2157 non-null   object \n",
      " 7   EFConsPerCap     2157 non-null   float64\n",
      " 8   EFConsTotGHA     2157 non-null   float64\n",
      " 9   BiocapPerCap     2157 non-null   float64\n",
      " 10  BiocapTotGHA     2157 non-null   float64\n",
      "dtypes: float64(7), int64(2), object(2)\n",
      "memory usage: 202.2+ KB\n"
     ]
    }
   ],
   "source": [
    "#tipe data tiap kolom\n",
    "\n",
    "footprint.info()\n"
   ]
  },
  {
   "cell_type": "code",
   "execution_count": 8,
   "id": "d80dbd4a-19d7-4cca-833d-14c8afca200d",
   "metadata": {},
   "outputs": [
    {
     "data": {
      "text/plain": [
       "Unnamed: 0         0.0\n",
       "country            0.0\n",
       "year               0.0\n",
       "hdi                0.0\n",
       "life_expectancy    0.0\n",
       "population         0.0\n",
       "continent          0.0\n",
       "EFConsPerCap       0.0\n",
       "EFConsTotGHA       0.0\n",
       "BiocapPerCap       0.0\n",
       "BiocapTotGHA       0.0\n",
       "dtype: float64"
      ]
     },
     "execution_count": 8,
     "metadata": {},
     "output_type": "execute_result"
    }
   ],
   "source": [
    "#persentase data null\n",
    "\n",
    "persentase_isnull = footprint.isnull().sum()*100/len(footprint)\n",
    "persentase_isnull"
   ]
  },
  {
   "cell_type": "markdown",
   "id": "499ec9d0-1ecd-4ef8-a482-ece4a4e981a9",
   "metadata": {},
   "source": [
    "Dari dataset di atas tidak ditemukan adanya data null"
   ]
  },
  {
   "cell_type": "markdown",
   "id": "76aeee03-264d-419e-803a-196684fed453",
   "metadata": {},
   "source": [
    "### II.DROP KOLOM YANG TIDAK DIGUNAKAN"
   ]
  },
  {
   "cell_type": "code",
   "execution_count": 9,
   "id": "b280369e-e796-4fc3-9ec2-0c3a1304d83c",
   "metadata": {},
   "outputs": [],
   "source": [
    "#Drop kolom yang tidak digunakan sebagai input\n",
    "footprint.drop(['Unnamed: 0', 'year', 'life_expectancy',\n",
    "                'population', 'country'], \n",
    "               axis=1, inplace=True)\n"
   ]
  },
  {
   "cell_type": "code",
   "execution_count": 10,
   "id": "15e9c051-0351-4325-babd-eea680c2f46a",
   "metadata": {},
   "outputs": [
    {
     "data": {
      "text/html": [
       "<div>\n",
       "<style scoped>\n",
       "    .dataframe tbody tr th:only-of-type {\n",
       "        vertical-align: middle;\n",
       "    }\n",
       "\n",
       "    .dataframe tbody tr th {\n",
       "        vertical-align: top;\n",
       "    }\n",
       "\n",
       "    .dataframe thead th {\n",
       "        text-align: right;\n",
       "    }\n",
       "</style>\n",
       "<table border=\"1\" class=\"dataframe\">\n",
       "  <thead>\n",
       "    <tr style=\"text-align: right;\">\n",
       "      <th></th>\n",
       "      <th>hdi</th>\n",
       "      <th>continent</th>\n",
       "      <th>EFConsPerCap</th>\n",
       "      <th>EFConsTotGHA</th>\n",
       "      <th>BiocapPerCap</th>\n",
       "      <th>BiocapTotGHA</th>\n",
       "    </tr>\n",
       "  </thead>\n",
       "  <tbody>\n",
       "    <tr>\n",
       "      <th>0</th>\n",
       "      <td>0.340</td>\n",
       "      <td>Asia</td>\n",
       "      <td>0.648085</td>\n",
       "      <td>12768498.74</td>\n",
       "      <td>0.509767</td>\n",
       "      <td>10043372.21</td>\n",
       "    </tr>\n",
       "    <tr>\n",
       "      <th>1</th>\n",
       "      <td>0.341</td>\n",
       "      <td>Asia</td>\n",
       "      <td>0.605820</td>\n",
       "      <td>12438205.89</td>\n",
       "      <td>0.500063</td>\n",
       "      <td>10266894.13</td>\n",
       "    </tr>\n",
       "    <tr>\n",
       "      <th>2</th>\n",
       "      <td>0.373</td>\n",
       "      <td>Asia</td>\n",
       "      <td>0.704061</td>\n",
       "      <td>15128227.46</td>\n",
       "      <td>0.570591</td>\n",
       "      <td>12260349.44</td>\n",
       "    </tr>\n",
       "    <tr>\n",
       "      <th>3</th>\n",
       "      <td>0.381</td>\n",
       "      <td>Asia</td>\n",
       "      <td>0.708856</td>\n",
       "      <td>15954511.65</td>\n",
       "      <td>0.591033</td>\n",
       "      <td>13302606.63</td>\n",
       "    </tr>\n",
       "    <tr>\n",
       "      <th>4</th>\n",
       "      <td>0.396</td>\n",
       "      <td>Asia</td>\n",
       "      <td>0.619414</td>\n",
       "      <td>14556109.86</td>\n",
       "      <td>0.502825</td>\n",
       "      <td>11816295.92</td>\n",
       "    </tr>\n",
       "  </tbody>\n",
       "</table>\n",
       "</div>"
      ],
      "text/plain": [
       "     hdi continent  EFConsPerCap  EFConsTotGHA  BiocapPerCap  BiocapTotGHA\n",
       "0  0.340      Asia      0.648085   12768498.74      0.509767   10043372.21\n",
       "1  0.341      Asia      0.605820   12438205.89      0.500063   10266894.13\n",
       "2  0.373      Asia      0.704061   15128227.46      0.570591   12260349.44\n",
       "3  0.381      Asia      0.708856   15954511.65      0.591033   13302606.63\n",
       "4  0.396      Asia      0.619414   14556109.86      0.502825   11816295.92"
      ]
     },
     "execution_count": 10,
     "metadata": {},
     "output_type": "execute_result"
    }
   ],
   "source": [
    "footprint.head()"
   ]
  },
  {
   "cell_type": "code",
   "execution_count": 11,
   "id": "2ac35413-401c-4f3f-ba80-b928d85f9f15",
   "metadata": {},
   "outputs": [
    {
     "data": {
      "text/plain": [
       "(2157, 6)"
      ]
     },
     "execution_count": 11,
     "metadata": {},
     "output_type": "execute_result"
    }
   ],
   "source": [
    "#cek dimensi\n",
    "\n",
    "footprint.shape"
   ]
  },
  {
   "cell_type": "markdown",
   "id": "2df011b4-8f12-4d7b-8544-2790bfbfa4e8",
   "metadata": {},
   "source": [
    "### III.DATA PREPROCESSING"
   ]
  },
  {
   "cell_type": "code",
   "execution_count": null,
   "id": "3d45cbbf-5461-4198-9147-57a78883d5ad",
   "metadata": {},
   "outputs": [],
   "source": []
  },
  {
   "cell_type": "markdown",
   "id": "b62ae35f-b755-47d4-93f0-6a1cb62264f2",
   "metadata": {},
   "source": [
    "#### **3.1. Pemisahan input dan output pada dataset**"
   ]
  },
  {
   "cell_type": "code",
   "execution_count": 12,
   "id": "0ee4c0ff-ba4a-4150-b7f8-f1c822524d41",
   "metadata": {},
   "outputs": [],
   "source": [
    "def extractInputOutput(data,\n",
    "                       output_column_name):\n",
    "    \"\"\"\n",
    "    Fungsi untuk memisahkan data input dan output\n",
    "    :param data: <pandas dataframe> data seluruh sample\n",
    "    :param output_column_name: <string> nama kolom output\n",
    "    :return input_data: <pandas dataframe> data input\n",
    "    :return output_data: <pandas series> data output\n",
    "    \"\"\"\n",
    "    output_data = data[output_column_name]\n",
    "    input_data = data.drop(output_column_name,\n",
    "                           axis = 1)\n",
    "    \n",
    "    return input_data, output_data\n",
    "\n",
    "# (data, output_column_name) adalah argumen\n",
    "# Argumen adalah sebuah variable. \n",
    "# Jika fungsi tsb. diberi argumen data = footprint, \n",
    "# maka semua variabel 'data' di dalam fungsi akan berubah menjadi footprint"
   ]
  },
  {
   "cell_type": "code",
   "execution_count": 13,
   "id": "ada2e2de-32d0-4ccd-9985-e666a0543265",
   "metadata": {},
   "outputs": [],
   "source": [
    "# Jangan sampai salah urutan dalam penempatan return\n",
    "X, y = extractInputOutput(data = footprint,\n",
    "                          output_column_name = [\"EFConsPerCap\", \"EFConsTotGHA\", \n",
    "                                                \"BiocapPerCap\", \"BiocapTotGHA\" ])"
   ]
  },
  {
   "cell_type": "markdown",
   "id": "c25e484f-1825-4868-a5a3-9ada517e1427",
   "metadata": {},
   "source": [
    "Melakukan sanity check"
   ]
  },
  {
   "cell_type": "code",
   "execution_count": 13,
   "id": "12422b57-b370-41b8-97ea-dd0abccabf85",
   "metadata": {},
   "outputs": [
    {
     "data": {
      "text/html": [
       "<div>\n",
       "<style scoped>\n",
       "    .dataframe tbody tr th:only-of-type {\n",
       "        vertical-align: middle;\n",
       "    }\n",
       "\n",
       "    .dataframe tbody tr th {\n",
       "        vertical-align: top;\n",
       "    }\n",
       "\n",
       "    .dataframe thead th {\n",
       "        text-align: right;\n",
       "    }\n",
       "</style>\n",
       "<table border=\"1\" class=\"dataframe\">\n",
       "  <thead>\n",
       "    <tr style=\"text-align: right;\">\n",
       "      <th></th>\n",
       "      <th>hdi</th>\n",
       "      <th>continent</th>\n",
       "    </tr>\n",
       "  </thead>\n",
       "  <tbody>\n",
       "    <tr>\n",
       "      <th>0</th>\n",
       "      <td>0.340</td>\n",
       "      <td>Asia</td>\n",
       "    </tr>\n",
       "    <tr>\n",
       "      <th>1</th>\n",
       "      <td>0.341</td>\n",
       "      <td>Asia</td>\n",
       "    </tr>\n",
       "    <tr>\n",
       "      <th>2</th>\n",
       "      <td>0.373</td>\n",
       "      <td>Asia</td>\n",
       "    </tr>\n",
       "    <tr>\n",
       "      <th>3</th>\n",
       "      <td>0.381</td>\n",
       "      <td>Asia</td>\n",
       "    </tr>\n",
       "    <tr>\n",
       "      <th>4</th>\n",
       "      <td>0.396</td>\n",
       "      <td>Asia</td>\n",
       "    </tr>\n",
       "  </tbody>\n",
       "</table>\n",
       "</div>"
      ],
      "text/plain": [
       "     hdi continent\n",
       "0  0.340      Asia\n",
       "1  0.341      Asia\n",
       "2  0.373      Asia\n",
       "3  0.381      Asia\n",
       "4  0.396      Asia"
      ]
     },
     "execution_count": 13,
     "metadata": {},
     "output_type": "execute_result"
    }
   ],
   "source": [
    "X.head()"
   ]
  },
  {
   "cell_type": "code",
   "execution_count": 482,
   "id": "248181da-c82a-4e06-bf83-26d62e0c7f21",
   "metadata": {},
   "outputs": [
    {
     "data": {
      "text/html": [
       "<div>\n",
       "<style scoped>\n",
       "    .dataframe tbody tr th:only-of-type {\n",
       "        vertical-align: middle;\n",
       "    }\n",
       "\n",
       "    .dataframe tbody tr th {\n",
       "        vertical-align: top;\n",
       "    }\n",
       "\n",
       "    .dataframe thead th {\n",
       "        text-align: right;\n",
       "    }\n",
       "</style>\n",
       "<table border=\"1\" class=\"dataframe\">\n",
       "  <thead>\n",
       "    <tr style=\"text-align: right;\">\n",
       "      <th></th>\n",
       "      <th>EFConsPerCap</th>\n",
       "      <th>EFConsTotGHA</th>\n",
       "      <th>BiocapPerCap</th>\n",
       "      <th>BiocapTotGHA</th>\n",
       "    </tr>\n",
       "  </thead>\n",
       "  <tbody>\n",
       "    <tr>\n",
       "      <th>0</th>\n",
       "      <td>0.648085</td>\n",
       "      <td>12768498.74</td>\n",
       "      <td>0.509767</td>\n",
       "      <td>10043372.21</td>\n",
       "    </tr>\n",
       "    <tr>\n",
       "      <th>1</th>\n",
       "      <td>0.605820</td>\n",
       "      <td>12438205.89</td>\n",
       "      <td>0.500063</td>\n",
       "      <td>10266894.13</td>\n",
       "    </tr>\n",
       "    <tr>\n",
       "      <th>2</th>\n",
       "      <td>0.704061</td>\n",
       "      <td>15128227.46</td>\n",
       "      <td>0.570591</td>\n",
       "      <td>12260349.44</td>\n",
       "    </tr>\n",
       "    <tr>\n",
       "      <th>3</th>\n",
       "      <td>0.708856</td>\n",
       "      <td>15954511.65</td>\n",
       "      <td>0.591033</td>\n",
       "      <td>13302606.63</td>\n",
       "    </tr>\n",
       "    <tr>\n",
       "      <th>4</th>\n",
       "      <td>0.619414</td>\n",
       "      <td>14556109.86</td>\n",
       "      <td>0.502825</td>\n",
       "      <td>11816295.92</td>\n",
       "    </tr>\n",
       "  </tbody>\n",
       "</table>\n",
       "</div>"
      ],
      "text/plain": [
       "   EFConsPerCap  EFConsTotGHA  BiocapPerCap  BiocapTotGHA\n",
       "0      0.648085   12768498.74      0.509767   10043372.21\n",
       "1      0.605820   12438205.89      0.500063   10266894.13\n",
       "2      0.704061   15128227.46      0.570591   12260349.44\n",
       "3      0.708856   15954511.65      0.591033   13302606.63\n",
       "4      0.619414   14556109.86      0.502825   11816295.92"
      ]
     },
     "execution_count": 482,
     "metadata": {},
     "output_type": "execute_result"
    }
   ],
   "source": [
    "y.head()"
   ]
  },
  {
   "cell_type": "code",
   "execution_count": 483,
   "id": "4cb6d67c-d96b-41af-8559-254178adbab3",
   "metadata": {},
   "outputs": [
    {
     "data": {
      "text/plain": [
       "((2157, 3), (2157, 4))"
      ]
     },
     "execution_count": 483,
     "metadata": {},
     "output_type": "execute_result"
    }
   ],
   "source": [
    "X.shape, y.shape"
   ]
  },
  {
   "cell_type": "markdown",
   "id": "ddbf73cd-3203-443b-adfe-fdd4b2098eb8",
   "metadata": {},
   "source": [
    "#### **3.2. Splitting dataset**"
   ]
  },
  {
   "cell_type": "markdown",
   "id": "0b1f56d9-27bf-4aad-a54f-eaa788436c39",
   "metadata": {},
   "source": [
    "Melakukan splitting data menjadi data training dan data test."
   ]
  },
  {
   "cell_type": "code",
   "execution_count": 14,
   "id": "6712c5e2-c59b-45c0-b1a7-4baf11b83c7d",
   "metadata": {},
   "outputs": [],
   "source": [
    "#Memisahkan data dengan dengan jumlah tes data sebesar 20%\n",
    "\n",
    "X_train, X_test, y_train, y_test = train_test_split(X,\n",
    "                                                    y,\n",
    "                                                    test_size = 0.2,\n",
    "                                                    random_state = 42)"
   ]
  },
  {
   "cell_type": "code",
   "execution_count": 11,
   "id": "90cc1685-dae8-4056-b930-d694f6a0dbde",
   "metadata": {},
   "outputs": [
    {
     "data": {
      "text/html": [
       "<div>\n",
       "<style scoped>\n",
       "    .dataframe tbody tr th:only-of-type {\n",
       "        vertical-align: middle;\n",
       "    }\n",
       "\n",
       "    .dataframe tbody tr th {\n",
       "        vertical-align: top;\n",
       "    }\n",
       "\n",
       "    .dataframe thead th {\n",
       "        text-align: right;\n",
       "    }\n",
       "</style>\n",
       "<table border=\"1\" class=\"dataframe\">\n",
       "  <thead>\n",
       "    <tr style=\"text-align: right;\">\n",
       "      <th></th>\n",
       "      <th>hdi</th>\n",
       "      <th>continent</th>\n",
       "    </tr>\n",
       "  </thead>\n",
       "  <tbody>\n",
       "    <tr>\n",
       "      <th>1476</th>\n",
       "      <td>0.797</td>\n",
       "      <td>Asia</td>\n",
       "    </tr>\n",
       "    <tr>\n",
       "      <th>2076</th>\n",
       "      <td>0.907</td>\n",
       "      <td>North America</td>\n",
       "    </tr>\n",
       "    <tr>\n",
       "      <th>693</th>\n",
       "      <td>0.852</td>\n",
       "      <td>Europe</td>\n",
       "    </tr>\n",
       "    <tr>\n",
       "      <th>679</th>\n",
       "      <td>0.869</td>\n",
       "      <td>Europe</td>\n",
       "    </tr>\n",
       "    <tr>\n",
       "      <th>810</th>\n",
       "      <td>0.613</td>\n",
       "      <td>South America</td>\n",
       "    </tr>\n",
       "  </tbody>\n",
       "</table>\n",
       "</div>"
      ],
      "text/plain": [
       "        hdi      continent\n",
       "1476  0.797           Asia\n",
       "2076  0.907  North America\n",
       "693   0.852         Europe\n",
       "679   0.869         Europe\n",
       "810   0.613  South America"
      ]
     },
     "execution_count": 11,
     "metadata": {},
     "output_type": "execute_result"
    }
   ],
   "source": [
    "#sanity check\n",
    "\n",
    "X_train.head()"
   ]
  },
  {
   "cell_type": "code",
   "execution_count": 12,
   "id": "0d8074a0-f6bb-47b1-ac03-c0c9e524c4cf",
   "metadata": {},
   "outputs": [
    {
     "data": {
      "text/html": [
       "<div>\n",
       "<style scoped>\n",
       "    .dataframe tbody tr th:only-of-type {\n",
       "        vertical-align: middle;\n",
       "    }\n",
       "\n",
       "    .dataframe tbody tr th {\n",
       "        vertical-align: top;\n",
       "    }\n",
       "\n",
       "    .dataframe thead th {\n",
       "        text-align: right;\n",
       "    }\n",
       "</style>\n",
       "<table border=\"1\" class=\"dataframe\">\n",
       "  <thead>\n",
       "    <tr style=\"text-align: right;\">\n",
       "      <th></th>\n",
       "      <th>hdi</th>\n",
       "      <th>continent</th>\n",
       "    </tr>\n",
       "  </thead>\n",
       "  <tbody>\n",
       "    <tr>\n",
       "      <th>746</th>\n",
       "      <td>0.924</td>\n",
       "      <td>Europe</td>\n",
       "    </tr>\n",
       "    <tr>\n",
       "      <th>1677</th>\n",
       "      <td>0.381</td>\n",
       "      <td>Africa</td>\n",
       "    </tr>\n",
       "    <tr>\n",
       "      <th>1858</th>\n",
       "      <td>0.890</td>\n",
       "      <td>Europe</td>\n",
       "    </tr>\n",
       "    <tr>\n",
       "      <th>1657</th>\n",
       "      <td>0.698</td>\n",
       "      <td>Oceania</td>\n",
       "    </tr>\n",
       "    <tr>\n",
       "      <th>479</th>\n",
       "      <td>0.459</td>\n",
       "      <td>Africa</td>\n",
       "    </tr>\n",
       "  </tbody>\n",
       "</table>\n",
       "</div>"
      ],
      "text/plain": [
       "        hdi continent\n",
       "746   0.924    Europe\n",
       "1677  0.381    Africa\n",
       "1858  0.890    Europe\n",
       "1657  0.698   Oceania\n",
       "479   0.459    Africa"
      ]
     },
     "execution_count": 12,
     "metadata": {},
     "output_type": "execute_result"
    }
   ],
   "source": [
    "X_test.head()"
   ]
  },
  {
   "cell_type": "code",
   "execution_count": 18,
   "id": "8b8e8f45-8426-43e5-8b69-93bd18ba41fa",
   "metadata": {},
   "outputs": [
    {
     "data": {
      "text/html": [
       "<div>\n",
       "<style scoped>\n",
       "    .dataframe tbody tr th:only-of-type {\n",
       "        vertical-align: middle;\n",
       "    }\n",
       "\n",
       "    .dataframe tbody tr th {\n",
       "        vertical-align: top;\n",
       "    }\n",
       "\n",
       "    .dataframe thead th {\n",
       "        text-align: right;\n",
       "    }\n",
       "</style>\n",
       "<table border=\"1\" class=\"dataframe\">\n",
       "  <thead>\n",
       "    <tr style=\"text-align: right;\">\n",
       "      <th></th>\n",
       "      <th>EFConsPerCap</th>\n",
       "      <th>EFConsTotGHA</th>\n",
       "      <th>BiocapPerCap</th>\n",
       "      <th>BiocapTotGHA</th>\n",
       "    </tr>\n",
       "  </thead>\n",
       "  <tbody>\n",
       "    <tr>\n",
       "      <th>1476</th>\n",
       "      <td>5.614577</td>\n",
       "      <td>1.652791e+07</td>\n",
       "      <td>2.127948</td>\n",
       "      <td>6.264147e+06</td>\n",
       "    </tr>\n",
       "    <tr>\n",
       "      <th>2076</th>\n",
       "      <td>8.576941</td>\n",
       "      <td>2.635111e+09</td>\n",
       "      <td>3.743064</td>\n",
       "      <td>1.149989e+09</td>\n",
       "    </tr>\n",
       "    <tr>\n",
       "      <th>693</th>\n",
       "      <td>5.496209</td>\n",
       "      <td>3.303683e+08</td>\n",
       "      <td>3.027679</td>\n",
       "      <td>1.819889e+08</td>\n",
       "    </tr>\n",
       "    <tr>\n",
       "      <th>679</th>\n",
       "      <td>7.184070</td>\n",
       "      <td>3.745630e+07</td>\n",
       "      <td>13.783007</td>\n",
       "      <td>7.186184e+07</td>\n",
       "    </tr>\n",
       "    <tr>\n",
       "      <th>810</th>\n",
       "      <td>2.497830</td>\n",
       "      <td>1.854731e+06</td>\n",
       "      <td>72.262349</td>\n",
       "      <td>5.365747e+07</td>\n",
       "    </tr>\n",
       "  </tbody>\n",
       "</table>\n",
       "</div>"
      ],
      "text/plain": [
       "      EFConsPerCap  EFConsTotGHA  BiocapPerCap  BiocapTotGHA\n",
       "1476      5.614577  1.652791e+07      2.127948  6.264147e+06\n",
       "2076      8.576941  2.635111e+09      3.743064  1.149989e+09\n",
       "693       5.496209  3.303683e+08      3.027679  1.819889e+08\n",
       "679       7.184070  3.745630e+07     13.783007  7.186184e+07\n",
       "810       2.497830  1.854731e+06     72.262349  5.365747e+07"
      ]
     },
     "execution_count": 18,
     "metadata": {},
     "output_type": "execute_result"
    }
   ],
   "source": [
    "y_train.head()"
   ]
  },
  {
   "cell_type": "code",
   "execution_count": 19,
   "id": "2716fab3-fd00-4e0b-8cea-a16b8e599853",
   "metadata": {},
   "outputs": [
    {
     "data": {
      "text/plain": [
       "((1725, 2), (432, 2), (1725, 4), (432, 4))"
      ]
     },
     "execution_count": 19,
     "metadata": {},
     "output_type": "execute_result"
    }
   ],
   "source": [
    "X_train.shape, X_test.shape, y_train.shape, y_test.shape"
   ]
  },
  {
   "cell_type": "markdown",
   "id": "d949e4f8-f2d0-4c2c-aad5-995b955ce7c8",
   "metadata": {},
   "source": [
    "#### **3.3. Processing Data Kategorikal**"
   ]
  },
  {
   "cell_type": "markdown",
   "id": "3ed41be6-b502-4353-90ff-e311a3c91b14",
   "metadata": {},
   "source": [
    "Transformasi data kategorikal menjadi numerikal dengan menggunakan metode One Hot Encoding."
   ]
  },
  {
   "cell_type": "code",
   "execution_count": 15,
   "id": "b57347ab-9167-4fdb-95bd-b8c043ca94ab",
   "metadata": {},
   "outputs": [],
   "source": [
    "#Fungsi imputasi data kategorikal yang berisi null\n",
    "\n",
    "def categoricalImputation(data, categorical_column):\n",
    "    \"\"\"\n",
    "    Fungsi untuk melakukan imputasi data kategorik\n",
    "    :param data: <pandas dataframe> sample data input\n",
    "    :param categorical_column: <list> list kolom kategorikal data\n",
    "    :return categorical_data: <pandas dataframe> data kategorikal\n",
    "    \"\"\"\n",
    "    # seleksi data\n",
    "    categorical_data = data[categorical_column]\n",
    "\n",
    "    # lakukan imputasi\n",
    "    categorical_data = categorical_data.fillna(value=\"KOSONG\")\n",
    "\n",
    "    return categorical_data"
   ]
  },
  {
   "cell_type": "code",
   "execution_count": 16,
   "id": "0a1c596d-449f-4e81-9c4c-cdf080c12c21",
   "metadata": {},
   "outputs": [],
   "source": [
    "#Membuat fungsi untuk mentransformasi data kategorikal \n",
    "\n",
    "def extractCategorical(data, categorical_column):\n",
    "    \"\"\"\n",
    "    Fungsi untuk ekstrak data kategorikal dengan One Hot Encoding\n",
    "    :param data: <pandas dataframe> data sample\n",
    "    :param categorical_column: <list> list kolom kategorik\n",
    "    :return categorical_ohe: <pandas dataframe> data sample dengan ohe\n",
    "    \"\"\"\n",
    "    data_categorical = categoricalImputation(data = data,\n",
    "                                             categorical_column = categorical_column)\n",
    "    categorical_ohe = pd.get_dummies(data_categorical)\n",
    "\n",
    "    return categorical_ohe"
   ]
  },
  {
   "cell_type": "code",
   "execution_count": 17,
   "id": "91350ca6-5099-487d-abad-9e457f11166b",
   "metadata": {},
   "outputs": [
    {
     "data": {
      "text/html": [
       "<div>\n",
       "<style scoped>\n",
       "    .dataframe tbody tr th:only-of-type {\n",
       "        vertical-align: middle;\n",
       "    }\n",
       "\n",
       "    .dataframe tbody tr th {\n",
       "        vertical-align: top;\n",
       "    }\n",
       "\n",
       "    .dataframe thead th {\n",
       "        text-align: right;\n",
       "    }\n",
       "</style>\n",
       "<table border=\"1\" class=\"dataframe\">\n",
       "  <thead>\n",
       "    <tr style=\"text-align: right;\">\n",
       "      <th></th>\n",
       "      <th>continent_Africa</th>\n",
       "      <th>continent_Asia</th>\n",
       "      <th>continent_Europe</th>\n",
       "      <th>continent_North America</th>\n",
       "      <th>continent_Oceania</th>\n",
       "      <th>continent_South America</th>\n",
       "    </tr>\n",
       "  </thead>\n",
       "  <tbody>\n",
       "    <tr>\n",
       "      <th>1476</th>\n",
       "      <td>0</td>\n",
       "      <td>1</td>\n",
       "      <td>0</td>\n",
       "      <td>0</td>\n",
       "      <td>0</td>\n",
       "      <td>0</td>\n",
       "    </tr>\n",
       "    <tr>\n",
       "      <th>2076</th>\n",
       "      <td>0</td>\n",
       "      <td>0</td>\n",
       "      <td>0</td>\n",
       "      <td>1</td>\n",
       "      <td>0</td>\n",
       "      <td>0</td>\n",
       "    </tr>\n",
       "    <tr>\n",
       "      <th>693</th>\n",
       "      <td>0</td>\n",
       "      <td>0</td>\n",
       "      <td>1</td>\n",
       "      <td>0</td>\n",
       "      <td>0</td>\n",
       "      <td>0</td>\n",
       "    </tr>\n",
       "    <tr>\n",
       "      <th>679</th>\n",
       "      <td>0</td>\n",
       "      <td>0</td>\n",
       "      <td>1</td>\n",
       "      <td>0</td>\n",
       "      <td>0</td>\n",
       "      <td>0</td>\n",
       "    </tr>\n",
       "    <tr>\n",
       "      <th>810</th>\n",
       "      <td>0</td>\n",
       "      <td>0</td>\n",
       "      <td>0</td>\n",
       "      <td>0</td>\n",
       "      <td>0</td>\n",
       "      <td>1</td>\n",
       "    </tr>\n",
       "  </tbody>\n",
       "</table>\n",
       "</div>"
      ],
      "text/plain": [
       "      continent_Africa  continent_Asia  continent_Europe  \\\n",
       "1476                 0               1                 0   \n",
       "2076                 0               0                 0   \n",
       "693                  0               0                 1   \n",
       "679                  0               0                 1   \n",
       "810                  0               0                 0   \n",
       "\n",
       "      continent_North America  continent_Oceania  continent_South America  \n",
       "1476                        0                  0                        0  \n",
       "2076                        1                  0                        0  \n",
       "693                         0                  0                        0  \n",
       "679                         0                  0                        0  \n",
       "810                         0                  0                        1  "
      ]
     },
     "execution_count": 17,
     "metadata": {},
     "output_type": "execute_result"
    }
   ],
   "source": [
    "# Transformasi data kategorikal dengan menggunakan fungsi di atas\n",
    "\n",
    "X_train_categorical_ohe = extractCategorical(data = X_train,\n",
    "                                             categorical_column = ['continent'])\n",
    "X_train_categorical_ohe.head()\n"
   ]
  },
  {
   "cell_type": "code",
   "execution_count": 16,
   "id": "822530ff-901d-48da-b72b-805a4709f3a8",
   "metadata": {},
   "outputs": [
    {
     "data": {
      "text/plain": [
       "(1725, 6)"
      ]
     },
     "execution_count": 16,
     "metadata": {},
     "output_type": "execute_result"
    }
   ],
   "source": [
    "\n",
    "X_train_categorical_ohe.shape\n"
   ]
  },
  {
   "cell_type": "code",
   "execution_count": 18,
   "id": "1ea400f4-670a-43b9-8c60-c8f588b82c7a",
   "metadata": {},
   "outputs": [
    {
     "data": {
      "text/plain": [
       "Index(['continent_Africa', 'continent_Asia', 'continent_Europe',\n",
       "       'continent_North America', 'continent_Oceania',\n",
       "       'continent_South America'],\n",
       "      dtype='object')"
      ]
     },
     "execution_count": 18,
     "metadata": {},
     "output_type": "execute_result"
    }
   ],
   "source": [
    "#Simpan nama kolom yang telah ditansformasi \n",
    "\n",
    "ohe_columns = X_train_categorical_ohe.columns\n",
    "ohe_columns"
   ]
  },
  {
   "cell_type": "markdown",
   "id": "159a1f3d-790a-4979-89b0-da673a17767e",
   "metadata": {},
   "source": [
    "#### **3.4. Processing data numerikal**"
   ]
  },
  {
   "cell_type": "code",
   "execution_count": 19,
   "id": "2872990c-e607-4255-aff7-92f45f0147b4",
   "metadata": {},
   "outputs": [],
   "source": [
    "#Membuat fungsi imputasi pada data numerikal\n",
    "\n",
    "from sklearn.impute import SimpleImputer\n",
    "\n",
    "def numericalImputation(data, numerical_column):\n",
    "    \"\"\"\n",
    "    Fungsi untuk melakukan imputasi data numerik\n",
    "    :param data: <pandas dataframe> sample data input\n",
    "    :param numerical_column: <list> list kolom numerik data\n",
    "    :return X_train_numerical: <pandas dataframe> data numerik\n",
    "    :return imputer_numerical: numerical imputer method\n",
    "    \"\"\"\n",
    "    # Filter data numerik\n",
    "    numerical_data = data[numerical_column]\n",
    "\n",
    "    # Buat imputer\n",
    "    imputer_numerical = SimpleImputer(missing_values = np.nan,\n",
    "                                      strategy = \"median\")\n",
    "    imputer_numerical.fit(numerical_data)\n",
    "\n",
    "    # Transform\n",
    "    imputed_data = imputer_numerical.transform(numerical_data)\n",
    "    numerical_data_imputed = pd.DataFrame(imputed_data)\n",
    "\n",
    "    numerical_data_imputed.columns = numerical_column\n",
    "    numerical_data_imputed.index = numerical_data.index\n",
    "\n",
    "    return numerical_data_imputed, imputer_numerical"
   ]
  },
  {
   "cell_type": "code",
   "execution_count": 20,
   "id": "71df4de2-e144-48fc-8ecf-a3023c8066cb",
   "metadata": {},
   "outputs": [],
   "source": [
    "# Input\n",
    "numerical_column = [\"hdi\"]\n",
    "\n",
    "# Imputation Numeric\n",
    "X_train_numerical, imputer_numerical = numericalImputation(data = X_train,\n",
    "                                                           numerical_column = numerical_column)\n",
    "\n"
   ]
  },
  {
   "cell_type": "code",
   "execution_count": 21,
   "id": "5df7ab6e-9067-4bfc-a0e0-18e9c2a914da",
   "metadata": {},
   "outputs": [
    {
     "data": {
      "text/html": [
       "<div>\n",
       "<style scoped>\n",
       "    .dataframe tbody tr th:only-of-type {\n",
       "        vertical-align: middle;\n",
       "    }\n",
       "\n",
       "    .dataframe tbody tr th {\n",
       "        vertical-align: top;\n",
       "    }\n",
       "\n",
       "    .dataframe thead th {\n",
       "        text-align: right;\n",
       "    }\n",
       "</style>\n",
       "<table border=\"1\" class=\"dataframe\">\n",
       "  <thead>\n",
       "    <tr style=\"text-align: right;\">\n",
       "      <th></th>\n",
       "      <th>hdi</th>\n",
       "    </tr>\n",
       "  </thead>\n",
       "  <tbody>\n",
       "    <tr>\n",
       "      <th>1476</th>\n",
       "      <td>0.797</td>\n",
       "    </tr>\n",
       "    <tr>\n",
       "      <th>2076</th>\n",
       "      <td>0.907</td>\n",
       "    </tr>\n",
       "    <tr>\n",
       "      <th>693</th>\n",
       "      <td>0.852</td>\n",
       "    </tr>\n",
       "    <tr>\n",
       "      <th>679</th>\n",
       "      <td>0.869</td>\n",
       "    </tr>\n",
       "    <tr>\n",
       "      <th>810</th>\n",
       "      <td>0.613</td>\n",
       "    </tr>\n",
       "  </tbody>\n",
       "</table>\n",
       "</div>"
      ],
      "text/plain": [
       "        hdi\n",
       "1476  0.797\n",
       "2076  0.907\n",
       "693   0.852\n",
       "679   0.869\n",
       "810   0.613"
      ]
     },
     "execution_count": 21,
     "metadata": {},
     "output_type": "execute_result"
    }
   ],
   "source": [
    "X_train_numerical.head()"
   ]
  },
  {
   "cell_type": "code",
   "execution_count": 21,
   "id": "e8f1850a-d69f-4c73-b80b-146500d527e1",
   "metadata": {},
   "outputs": [
    {
     "data": {
      "text/plain": [
       "(1725, 1)"
      ]
     },
     "execution_count": 21,
     "metadata": {},
     "output_type": "execute_result"
    }
   ],
   "source": [
    "X_train_numerical.shape\n"
   ]
  },
  {
   "cell_type": "markdown",
   "id": "18e79f32-d8bd-4a6a-bd03-81a0444aaabe",
   "metadata": {},
   "source": [
    "#### **3.5. Penggabungan input kategorikal dan numerikal**"
   ]
  },
  {
   "cell_type": "code",
   "execution_count": 22,
   "id": "af86f85b-fb34-4bf8-96e7-7efe763b9e02",
   "metadata": {},
   "outputs": [],
   "source": [
    "#Membuat variabel yang menggabungkan data kategorikal dan numerikal\n",
    "\n",
    "X_train_concat = pd.concat([X_train_numerical,\n",
    "                            X_train_categorical_ohe],\n",
    "                           axis = 1)"
   ]
  },
  {
   "cell_type": "code",
   "execution_count": 23,
   "id": "fbaa4a87-ff30-47c5-bdb8-6b234bc7f8a8",
   "metadata": {},
   "outputs": [
    {
     "data": {
      "text/html": [
       "<div>\n",
       "<style scoped>\n",
       "    .dataframe tbody tr th:only-of-type {\n",
       "        vertical-align: middle;\n",
       "    }\n",
       "\n",
       "    .dataframe tbody tr th {\n",
       "        vertical-align: top;\n",
       "    }\n",
       "\n",
       "    .dataframe thead th {\n",
       "        text-align: right;\n",
       "    }\n",
       "</style>\n",
       "<table border=\"1\" class=\"dataframe\">\n",
       "  <thead>\n",
       "    <tr style=\"text-align: right;\">\n",
       "      <th></th>\n",
       "      <th>hdi</th>\n",
       "      <th>continent_Africa</th>\n",
       "      <th>continent_Asia</th>\n",
       "      <th>continent_Europe</th>\n",
       "      <th>continent_North America</th>\n",
       "      <th>continent_Oceania</th>\n",
       "      <th>continent_South America</th>\n",
       "    </tr>\n",
       "  </thead>\n",
       "  <tbody>\n",
       "    <tr>\n",
       "      <th>1476</th>\n",
       "      <td>0.797</td>\n",
       "      <td>0</td>\n",
       "      <td>1</td>\n",
       "      <td>0</td>\n",
       "      <td>0</td>\n",
       "      <td>0</td>\n",
       "      <td>0</td>\n",
       "    </tr>\n",
       "    <tr>\n",
       "      <th>2076</th>\n",
       "      <td>0.907</td>\n",
       "      <td>0</td>\n",
       "      <td>0</td>\n",
       "      <td>0</td>\n",
       "      <td>1</td>\n",
       "      <td>0</td>\n",
       "      <td>0</td>\n",
       "    </tr>\n",
       "    <tr>\n",
       "      <th>693</th>\n",
       "      <td>0.852</td>\n",
       "      <td>0</td>\n",
       "      <td>0</td>\n",
       "      <td>1</td>\n",
       "      <td>0</td>\n",
       "      <td>0</td>\n",
       "      <td>0</td>\n",
       "    </tr>\n",
       "    <tr>\n",
       "      <th>679</th>\n",
       "      <td>0.869</td>\n",
       "      <td>0</td>\n",
       "      <td>0</td>\n",
       "      <td>1</td>\n",
       "      <td>0</td>\n",
       "      <td>0</td>\n",
       "      <td>0</td>\n",
       "    </tr>\n",
       "    <tr>\n",
       "      <th>810</th>\n",
       "      <td>0.613</td>\n",
       "      <td>0</td>\n",
       "      <td>0</td>\n",
       "      <td>0</td>\n",
       "      <td>0</td>\n",
       "      <td>0</td>\n",
       "      <td>1</td>\n",
       "    </tr>\n",
       "  </tbody>\n",
       "</table>\n",
       "</div>"
      ],
      "text/plain": [
       "        hdi  continent_Africa  continent_Asia  continent_Europe  \\\n",
       "1476  0.797                 0               1                 0   \n",
       "2076  0.907                 0               0                 0   \n",
       "693   0.852                 0               0                 1   \n",
       "679   0.869                 0               0                 1   \n",
       "810   0.613                 0               0                 0   \n",
       "\n",
       "      continent_North America  continent_Oceania  continent_South America  \n",
       "1476                        0                  0                        0  \n",
       "2076                        1                  0                        0  \n",
       "693                         0                  0                        0  \n",
       "679                         0                  0                        0  \n",
       "810                         0                  0                        1  "
      ]
     },
     "execution_count": 23,
     "metadata": {},
     "output_type": "execute_result"
    }
   ],
   "source": [
    "X_train_concat.head()"
   ]
  },
  {
   "cell_type": "code",
   "execution_count": 24,
   "id": "4e3cfb67-7f61-44b7-a129-b5ba06b8b3a8",
   "metadata": {},
   "outputs": [
    {
     "data": {
      "text/plain": [
       "(1725, 7)"
      ]
     },
     "execution_count": 24,
     "metadata": {},
     "output_type": "execute_result"
    }
   ],
   "source": [
    "X_train_concat.shape"
   ]
  },
  {
   "cell_type": "code",
   "execution_count": 25,
   "id": "aeb1bf2a-7597-40ee-a6ad-084b61c97ed9",
   "metadata": {},
   "outputs": [
    {
     "data": {
      "text/plain": [
       "1476    False\n",
       "2076    False\n",
       "693     False\n",
       "679     False\n",
       "810     False\n",
       "        ...  \n",
       "1638     True\n",
       "1095    False\n",
       "1130     True\n",
       "1294    False\n",
       "860     False\n",
       "Length: 1725, dtype: bool"
      ]
     },
     "execution_count": 25,
     "metadata": {},
     "output_type": "execute_result"
    }
   ],
   "source": [
    "#cek duplikat\n",
    "\n",
    "X_train_concat.duplicated()"
   ]
  },
  {
   "cell_type": "code",
   "execution_count": null,
   "id": "48233b4d-1d6f-4c2c-8e2b-20169aae7311",
   "metadata": {},
   "outputs": [],
   "source": []
  },
  {
   "cell_type": "markdown",
   "id": "4e086efe-0f95-4661-896d-672f2ced4348",
   "metadata": {},
   "source": [
    "#### **3.6. Standarisasi Data**"
   ]
  },
  {
   "cell_type": "markdown",
   "id": "c290511e-2098-4013-be0c-fed2ebc8ef98",
   "metadata": {},
   "source": [
    "Melakukan standarisasi data yang telah digabungkan."
   ]
  },
  {
   "cell_type": "code",
   "execution_count": 24,
   "id": "5b8de680-905f-416d-b583-0c442e867549",
   "metadata": {},
   "outputs": [],
   "source": [
    "# fungsi untuk melakukan standarisasi data\n",
    "\n",
    "from sklearn.preprocessing import StandardScaler\n",
    "\n",
    "\n",
    "def standardizerData(data):\n",
    "    \"\"\"\n",
    "    Fungsi untuk melakukan standarisasi data\n",
    "    :param data: <pandas dataframe> sampel data\n",
    "    :return standardized_data: <pandas dataframe> sampel data standard\n",
    "    :return standardizer: method untuk standardisasi data\n",
    "    \"\"\"\n",
    "    data_columns = data.columns  # agar nama kolom tidak hilang\n",
    "    data_index = data.index  # agar index tidak hilang\n",
    "\n",
    "    # buat (fit) standardizer\n",
    "    standardizer = StandardScaler()\n",
    "    standardizer.fit(data)\n",
    "\n",
    "    # transform data\n",
    "    standardized_data_raw = standardizer.transform(data)\n",
    "    standardized_data = pd.DataFrame(standardized_data_raw)\n",
    "    standardized_data.columns = data_columns\n",
    "    standardized_data.index = data_index\n",
    "\n",
    "    return standardized_data, standardizer"
   ]
  },
  {
   "cell_type": "code",
   "execution_count": 25,
   "id": "5d30106c-d353-414e-a41d-6e8094266777",
   "metadata": {},
   "outputs": [],
   "source": [
    "#Membuat standarized data dengan fungsi di atas\n",
    "\n",
    "X_train_clean, standardizer = standardizerData(data = X_train_concat)"
   ]
  },
  {
   "cell_type": "code",
   "execution_count": 26,
   "id": "f5d37fc2-644e-4777-b768-3a83a4ab7725",
   "metadata": {},
   "outputs": [
    {
     "data": {
      "text/html": [
       "<div>\n",
       "<style scoped>\n",
       "    .dataframe tbody tr th:only-of-type {\n",
       "        vertical-align: middle;\n",
       "    }\n",
       "\n",
       "    .dataframe tbody tr th {\n",
       "        vertical-align: top;\n",
       "    }\n",
       "\n",
       "    .dataframe thead th {\n",
       "        text-align: right;\n",
       "    }\n",
       "</style>\n",
       "<table border=\"1\" class=\"dataframe\">\n",
       "  <thead>\n",
       "    <tr style=\"text-align: right;\">\n",
       "      <th></th>\n",
       "      <th>hdi</th>\n",
       "      <th>continent_Africa</th>\n",
       "      <th>continent_Asia</th>\n",
       "      <th>continent_Europe</th>\n",
       "      <th>continent_North America</th>\n",
       "      <th>continent_Oceania</th>\n",
       "      <th>continent_South America</th>\n",
       "    </tr>\n",
       "  </thead>\n",
       "  <tbody>\n",
       "    <tr>\n",
       "      <th>1476</th>\n",
       "      <td>0.787931</td>\n",
       "      <td>-0.640676</td>\n",
       "      <td>1.865615</td>\n",
       "      <td>-0.586946</td>\n",
       "      <td>-0.343441</td>\n",
       "      <td>-0.240069</td>\n",
       "      <td>-0.273434</td>\n",
       "    </tr>\n",
       "    <tr>\n",
       "      <th>2076</th>\n",
       "      <td>1.437663</td>\n",
       "      <td>-0.640676</td>\n",
       "      <td>-0.536016</td>\n",
       "      <td>-0.586946</td>\n",
       "      <td>2.911704</td>\n",
       "      <td>-0.240069</td>\n",
       "      <td>-0.273434</td>\n",
       "    </tr>\n",
       "    <tr>\n",
       "      <th>693</th>\n",
       "      <td>1.112797</td>\n",
       "      <td>-0.640676</td>\n",
       "      <td>-0.536016</td>\n",
       "      <td>1.703736</td>\n",
       "      <td>-0.343441</td>\n",
       "      <td>-0.240069</td>\n",
       "      <td>-0.273434</td>\n",
       "    </tr>\n",
       "    <tr>\n",
       "      <th>679</th>\n",
       "      <td>1.213210</td>\n",
       "      <td>-0.640676</td>\n",
       "      <td>-0.536016</td>\n",
       "      <td>1.703736</td>\n",
       "      <td>-0.343441</td>\n",
       "      <td>-0.240069</td>\n",
       "      <td>-0.273434</td>\n",
       "    </tr>\n",
       "    <tr>\n",
       "      <th>810</th>\n",
       "      <td>-0.298894</td>\n",
       "      <td>-0.640676</td>\n",
       "      <td>-0.536016</td>\n",
       "      <td>-0.586946</td>\n",
       "      <td>-0.343441</td>\n",
       "      <td>-0.240069</td>\n",
       "      <td>3.657185</td>\n",
       "    </tr>\n",
       "  </tbody>\n",
       "</table>\n",
       "</div>"
      ],
      "text/plain": [
       "           hdi  continent_Africa  continent_Asia  continent_Europe  \\\n",
       "1476  0.787931         -0.640676        1.865615         -0.586946   \n",
       "2076  1.437663         -0.640676       -0.536016         -0.586946   \n",
       "693   1.112797         -0.640676       -0.536016          1.703736   \n",
       "679   1.213210         -0.640676       -0.536016          1.703736   \n",
       "810  -0.298894         -0.640676       -0.536016         -0.586946   \n",
       "\n",
       "      continent_North America  continent_Oceania  continent_South America  \n",
       "1476                -0.343441          -0.240069                -0.273434  \n",
       "2076                 2.911704          -0.240069                -0.273434  \n",
       "693                 -0.343441          -0.240069                -0.273434  \n",
       "679                 -0.343441          -0.240069                -0.273434  \n",
       "810                 -0.343441          -0.240069                 3.657185  "
      ]
     },
     "execution_count": 26,
     "metadata": {},
     "output_type": "execute_result"
    }
   ],
   "source": [
    "X_train_clean.head()"
   ]
  },
  {
   "cell_type": "code",
   "execution_count": 39,
   "id": "6104d6a9-fb12-4b4d-8db6-1d61e95c31f8",
   "metadata": {},
   "outputs": [
    {
     "data": {
      "text/plain": [
       "(1725, 7)"
      ]
     },
     "execution_count": 39,
     "metadata": {},
     "output_type": "execute_result"
    }
   ],
   "source": [
    "X_train_clean.shape"
   ]
  },
  {
   "cell_type": "markdown",
   "id": "a466829c-7808-4a0a-9821-da86fafbfb87",
   "metadata": {},
   "source": [
    "### IV.TRAINING (Tanpa PCA)"
   ]
  },
  {
   "cell_type": "markdown",
   "id": "2907065c-4566-4dd4-9cf5-15d1ee3df98c",
   "metadata": {},
   "source": [
    "Melakukan data training pada dataset input dan output dengan linear regression."
   ]
  },
  {
   "cell_type": "code",
   "execution_count": null,
   "id": "56f05d05-4c33-4b4d-b6d9-554633cb908e",
   "metadata": {},
   "outputs": [],
   "source": []
  },
  {
   "cell_type": "code",
   "execution_count": 27,
   "id": "41fb3da7-200f-4ed0-8fbf-4cb91bd6d58c",
   "metadata": {},
   "outputs": [],
   "source": [
    "# Import library\n",
    "\n",
    "from sklearn.linear_model import LinearRegression\n",
    "from sklearn.metrics import mean_squared_error, mean_absolute_percentage_error\n",
    "\n",
    "from sklearn.model_selection import cross_val_score"
   ]
  },
  {
   "cell_type": "code",
   "execution_count": 28,
   "id": "861da0a6-aff5-4b2b-ae82-8dfea2d483f5",
   "metadata": {},
   "outputs": [],
   "source": [
    "#Membuat variabel untuk library regresi linear\n",
    "lr = LinearRegression()"
   ]
  },
  {
   "cell_type": "code",
   "execution_count": 29,
   "id": "aaae786c-05b6-492e-a106-c8c516a4e458",
   "metadata": {},
   "outputs": [
    {
     "name": "stdout",
     "output_type": "stream",
     "text": [
      "3.3612194603049264\n"
     ]
    }
   ],
   "source": [
    "#membuat baseline\n",
    "baseline_pred = np.mean(y_train['EFConsPerCap'])\n",
    "print(baseline_pred)"
   ]
  },
  {
   "cell_type": "code",
   "execution_count": 30,
   "id": "f3479db0-76e9-43d8-9deb-cbc5db60fc8f",
   "metadata": {},
   "outputs": [
    {
     "name": "stdout",
     "output_type": "stream",
     "text": [
      "7.270068272974851\n"
     ]
    }
   ],
   "source": [
    "baseline_mse = mean_squared_error(y_train[\"EFConsPerCap\"], \n",
    "                                  np.ones(len(y_train[\"EFConsPerCap\"])) * baseline_pred)\n",
    "print(baseline_mse)"
   ]
  },
  {
   "cell_type": "code",
   "execution_count": 31,
   "id": "a45f696c-d514-426d-b6e9-0c47227000da",
   "metadata": {},
   "outputs": [],
   "source": [
    "# Melakukan cross validation\n",
    "\n",
    "scores_lin = cross_val_score(lr, X_train_clean,y_train[\"EFConsPerCap\"],\n",
    "                              scoring='neg_mean_squared_error',\n",
    "                            cv = 5, n_jobs = -1)"
   ]
  },
  {
   "cell_type": "code",
   "execution_count": 32,
   "id": "5b611cf8-0b18-4b64-b002-fdf18f2afa4f",
   "metadata": {},
   "outputs": [
    {
     "data": {
      "text/plain": [
       "array([-4.10517238, -3.2203045 , -3.82313833, -3.3738827 , -2.48764869])"
      ]
     },
     "execution_count": 32,
     "metadata": {},
     "output_type": "execute_result"
    }
   ],
   "source": [
    "scores_lin"
   ]
  },
  {
   "cell_type": "code",
   "execution_count": 33,
   "id": "6ef670be-28db-493c-931f-1b5f44c7d686",
   "metadata": {},
   "outputs": [
    {
     "data": {
      "text/plain": [
       "LinearRegression()"
      ]
     },
     "execution_count": 33,
     "metadata": {},
     "output_type": "execute_result"
    }
   ],
   "source": [
    "#fitting model pipeline dengan data training\n",
    "lr.fit(X = X_train_clean,\n",
    "       y = y_train[\"EFConsPerCap\"])"
   ]
  },
  {
   "cell_type": "code",
   "execution_count": 34,
   "id": "dff4e587-f8de-48ee-9301-10032c67f2a7",
   "metadata": {},
   "outputs": [],
   "source": [
    "#melakukan prediksi dengan model di atas\n",
    "y_pred_lin = lr.predict(X_train_clean)"
   ]
  },
  {
   "cell_type": "code",
   "execution_count": 35,
   "id": "180a5648-20fb-476a-83a7-01087fcf521c",
   "metadata": {},
   "outputs": [
    {
     "data": {
      "text/plain": [
       "array([5.19221681, 5.81994434, 5.60515318, ..., 5.25017268, 3.09399486,\n",
       "       5.13184585])"
      ]
     },
     "execution_count": 35,
     "metadata": {},
     "output_type": "execute_result"
    }
   ],
   "source": [
    "y_pred_lin"
   ]
  },
  {
   "cell_type": "code",
   "execution_count": 36,
   "id": "66c90972-4e00-4ba3-846f-6b1950c0d14a",
   "metadata": {},
   "outputs": [
    {
     "data": {
      "text/html": [
       "<div>\n",
       "<style scoped>\n",
       "    .dataframe tbody tr th:only-of-type {\n",
       "        vertical-align: middle;\n",
       "    }\n",
       "\n",
       "    .dataframe tbody tr th {\n",
       "        vertical-align: top;\n",
       "    }\n",
       "\n",
       "    .dataframe thead th {\n",
       "        text-align: right;\n",
       "    }\n",
       "</style>\n",
       "<table border=\"1\" class=\"dataframe\">\n",
       "  <thead>\n",
       "    <tr style=\"text-align: right;\">\n",
       "      <th></th>\n",
       "      <th>actual</th>\n",
       "      <th>prediction</th>\n",
       "    </tr>\n",
       "  </thead>\n",
       "  <tbody>\n",
       "    <tr>\n",
       "      <th>1476</th>\n",
       "      <td>5.614577</td>\n",
       "      <td>5.192217</td>\n",
       "    </tr>\n",
       "    <tr>\n",
       "      <th>2076</th>\n",
       "      <td>8.576941</td>\n",
       "      <td>5.819944</td>\n",
       "    </tr>\n",
       "    <tr>\n",
       "      <th>693</th>\n",
       "      <td>5.496209</td>\n",
       "      <td>5.605153</td>\n",
       "    </tr>\n",
       "    <tr>\n",
       "      <th>679</th>\n",
       "      <td>7.184070</td>\n",
       "      <td>5.828659</td>\n",
       "    </tr>\n",
       "    <tr>\n",
       "      <th>810</th>\n",
       "      <td>2.497830</td>\n",
       "      <td>1.922560</td>\n",
       "    </tr>\n",
       "  </tbody>\n",
       "</table>\n",
       "</div>"
      ],
      "text/plain": [
       "        actual  prediction\n",
       "1476  5.614577    5.192217\n",
       "2076  8.576941    5.819944\n",
       "693   5.496209    5.605153\n",
       "679   7.184070    5.828659\n",
       "810   2.497830    1.922560"
      ]
     },
     "execution_count": 36,
     "metadata": {},
     "output_type": "execute_result"
    }
   ],
   "source": [
    "#membuat dataframe summary komparasi antara hasil aktual dan prediksi\n",
    "summary_train_pred = pd.DataFrame({\"actual\": y_train['EFConsPerCap'],\n",
    "                                   \"prediction\": y_pred_lin})\n",
    "\n",
    "summary_train_pred.head()"
   ]
  },
  {
   "cell_type": "code",
   "execution_count": 37,
   "id": "723b5d4c-3bfa-4022-8cae-dd6e40f59472",
   "metadata": {},
   "outputs": [
    {
     "data": {
      "image/png": "[encoded data removed]",
      "text/plain": [
       "<Figure size 1000x1000 with 1 Axes>"
      ]
     },
     "metadata": {},
     "output_type": "display_data"
    }
   ],
   "source": [
    "fig, ax = plt.subplots(nrows=1, ncols=1, figsize=(10, 10))\n",
    "\n",
    "ax.scatter(summary_train_pred[\"actual\"], summary_train_pred[\"prediction\"])\n",
    "ax.plot([0, 30], [0, 30], \"--k\")\n",
    "\n",
    "ax.set_xlabel(\"Actual\")\n",
    "ax.set_ylabel(\"Prediction\")\n",
    "ax.set_xlim(0, 20)\n",
    "ax.set_ylim(0, 10)\n",
    "plt.show()"
   ]
  },
  {
   "cell_type": "code",
   "execution_count": 38,
   "id": "cda76566-2622-40b0-a779-9b09991b3758",
   "metadata": {},
   "outputs": [
    {
     "name": "stdout",
     "output_type": "stream",
     "text": [
      "3.382657651999864\n"
     ]
    }
   ],
   "source": [
    "#Melakukan analisis error\n",
    "\n",
    "# Cari MSE\n",
    "prediction_train_mse = mean_squared_error(y_pred_lin, y_train['EFConsPerCap'])\n",
    "print(prediction_train_mse)"
   ]
  },
  {
   "cell_type": "code",
   "execution_count": 39,
   "id": "7371f3b6-c06e-455c-b043-dc134900a842",
   "metadata": {},
   "outputs": [
    {
     "name": "stdout",
     "output_type": "stream",
     "text": [
      "MSE turun 53.47 %\n"
     ]
    }
   ],
   "source": [
    "# Cari perbandingan dengan baseline\n",
    "comparison_mse = 100*(baseline_mse - prediction_train_mse) / baseline_mse\n",
    "print(f\"MSE turun {comparison_mse:.2f} %\")"
   ]
  },
  {
   "cell_type": "code",
   "execution_count": null,
   "id": "5d3d2293-fbb7-4041-ae3d-84547c3180d5",
   "metadata": {},
   "outputs": [],
   "source": []
  },
  {
   "cell_type": "code",
   "execution_count": 40,
   "id": "cacbd696-fe70-443b-a4dc-75c9008b7cc4",
   "metadata": {},
   "outputs": [
    {
     "data": {
      "text/plain": [
       "array([ 2.22586683,  0.30666922,  0.04807253, -0.08500509, -0.21597706,\n",
       "       -0.03646864, -0.18701333])"
      ]
     },
     "execution_count": 40,
     "metadata": {},
     "output_type": "execute_result"
    }
   ],
   "source": [
    "lr.coef_"
   ]
  },
  {
   "cell_type": "code",
   "execution_count": 41,
   "id": "6dc7bc72-d9f5-44f0-ad0e-5c16745437ee",
   "metadata": {},
   "outputs": [
    {
     "data": {
      "text/plain": [
       "3.3612194603049286"
      ]
     },
     "execution_count": 41,
     "metadata": {},
     "output_type": "execute_result"
    }
   ],
   "source": [
    "lr.intercept_"
   ]
  },
  {
   "cell_type": "markdown",
   "id": "6e1eae9f-6825-4a41-90b4-332273509c3a",
   "metadata": {},
   "source": [
    "### V.MELAKUKAN PREDIKSI"
   ]
  },
  {
   "cell_type": "markdown",
   "id": "864c87ac-f427-4ba4-9e67-cd1d4532ac76",
   "metadata": {},
   "source": [
    "#### **5.1.Preprocessing Data Pengetesan**"
   ]
  },
  {
   "cell_type": "code",
   "execution_count": 42,
   "id": "ea70610d-f9db-4014-b871-7b83b83ee36e",
   "metadata": {},
   "outputs": [],
   "source": [
    "def extractTest(data,\n",
    "                numerical_column, categorical_column, ohe_column,\n",
    "                imputer_numerical, standardizer):\n",
    "    \"\"\"\n",
    "    Fungsi untuk mengekstrak & membersihkan test data \n",
    "    :param data: <pandas dataframe> sampel data test\n",
    "    :param numerical_column: <list> kolom numerik\n",
    "    :param categorical_column: <list> kolom kategorik\n",
    "    :param ohe_column: <list> kolom one-hot-encoding dari data kategorik\n",
    "    :param imputer_numerical: <sklearn method> imputer data numerik\n",
    "    :param standardizer: <sklearn method> standardizer data\n",
    "    :return cleaned_data: <pandas dataframe> data final\n",
    "    \"\"\"\n",
    "    # Filter data\n",
    "    numerical_data = data[numerical_column]\n",
    "    categorical_data = data[categorical_column]\n",
    "\n",
    "    # Proses data numerik\n",
    "    numerical_data = pd.DataFrame(imputer_numerical.transform(numerical_data))\n",
    "    numerical_data.columns = numerical_column\n",
    "    numerical_data.index = data.index\n",
    "\n",
    "    # Proses data kategorik\n",
    "    categorical_data = categorical_data.fillna(value=\"KOSONG\")\n",
    "    categorical_data.index = data.index\n",
    "    categorical_data = pd.get_dummies(categorical_data)\n",
    "    categorical_data.reindex(index = categorical_data.index, \n",
    "                             columns = ohe_column)\n",
    "\n",
    "    # Gabungkan data\n",
    "    concat_data = pd.concat([numerical_data, categorical_data],\n",
    "                             axis = 1)\n",
    "    cleaned_data = pd.DataFrame(standardizer.transform(concat_data))\n",
    "    cleaned_data.columns = concat_data.columns\n",
    "\n",
    "    return cleaned_data\n"
   ]
  },
  {
   "cell_type": "code",
   "execution_count": 43,
   "id": "56c7d11d-25f7-4101-a542-ae9102106335",
   "metadata": {},
   "outputs": [],
   "source": [
    "X_test_clean = extractTest(data = X_test,\n",
    "                           numerical_column = numerical_column,\n",
    "                           categorical_column = ['continent'],\n",
    "                           ohe_column = ohe_columns,\n",
    "                           imputer_numerical = imputer_numerical,\n",
    "                           standardizer = standardizer)"
   ]
  },
  {
   "cell_type": "code",
   "execution_count": 61,
   "id": "42e7ead4-e0ab-44a6-bdbb-1f9c46fb4fc5",
   "metadata": {},
   "outputs": [
    {
     "data": {
      "text/html": [
       "<div>\n",
       "<style scoped>\n",
       "    .dataframe tbody tr th:only-of-type {\n",
       "        vertical-align: middle;\n",
       "    }\n",
       "\n",
       "    .dataframe tbody tr th {\n",
       "        vertical-align: top;\n",
       "    }\n",
       "\n",
       "    .dataframe thead th {\n",
       "        text-align: right;\n",
       "    }\n",
       "</style>\n",
       "<table border=\"1\" class=\"dataframe\">\n",
       "  <thead>\n",
       "    <tr style=\"text-align: right;\">\n",
       "      <th></th>\n",
       "      <th>hdi</th>\n",
       "      <th>continent_Africa</th>\n",
       "      <th>continent_Asia</th>\n",
       "      <th>continent_Europe</th>\n",
       "      <th>continent_North America</th>\n",
       "      <th>continent_Oceania</th>\n",
       "      <th>continent_South America</th>\n",
       "    </tr>\n",
       "  </thead>\n",
       "  <tbody>\n",
       "    <tr>\n",
       "      <th>0</th>\n",
       "      <td>1.538076</td>\n",
       "      <td>-0.640676</td>\n",
       "      <td>-0.536016</td>\n",
       "      <td>1.703736</td>\n",
       "      <td>-0.343441</td>\n",
       "      <td>-0.240069</td>\n",
       "      <td>-0.273434</td>\n",
       "    </tr>\n",
       "    <tr>\n",
       "      <th>1</th>\n",
       "      <td>-1.669238</td>\n",
       "      <td>1.560851</td>\n",
       "      <td>-0.536016</td>\n",
       "      <td>-0.586946</td>\n",
       "      <td>-0.343441</td>\n",
       "      <td>-0.240069</td>\n",
       "      <td>-0.273434</td>\n",
       "    </tr>\n",
       "    <tr>\n",
       "      <th>2</th>\n",
       "      <td>1.337249</td>\n",
       "      <td>-0.640676</td>\n",
       "      <td>-0.536016</td>\n",
       "      <td>1.703736</td>\n",
       "      <td>-0.343441</td>\n",
       "      <td>-0.240069</td>\n",
       "      <td>-0.273434</td>\n",
       "    </tr>\n",
       "    <tr>\n",
       "      <th>3</th>\n",
       "      <td>0.203172</td>\n",
       "      <td>-0.640676</td>\n",
       "      <td>-0.536016</td>\n",
       "      <td>-0.586946</td>\n",
       "      <td>-0.343441</td>\n",
       "      <td>4.165461</td>\n",
       "      <td>-0.273434</td>\n",
       "    </tr>\n",
       "    <tr>\n",
       "      <th>4</th>\n",
       "      <td>-1.208519</td>\n",
       "      <td>1.560851</td>\n",
       "      <td>-0.536016</td>\n",
       "      <td>-0.586946</td>\n",
       "      <td>-0.343441</td>\n",
       "      <td>-0.240069</td>\n",
       "      <td>-0.273434</td>\n",
       "    </tr>\n",
       "  </tbody>\n",
       "</table>\n",
       "</div>"
      ],
      "text/plain": [
       "        hdi  continent_Africa  continent_Asia  continent_Europe  \\\n",
       "0  1.538076         -0.640676       -0.536016          1.703736   \n",
       "1 -1.669238          1.560851       -0.536016         -0.586946   \n",
       "2  1.337249         -0.640676       -0.536016          1.703736   \n",
       "3  0.203172         -0.640676       -0.536016         -0.586946   \n",
       "4 -1.208519          1.560851       -0.536016         -0.586946   \n",
       "\n",
       "   continent_North America  continent_Oceania  continent_South America  \n",
       "0                -0.343441          -0.240069                -0.273434  \n",
       "1                -0.343441          -0.240069                -0.273434  \n",
       "2                -0.343441          -0.240069                -0.273434  \n",
       "3                -0.343441           4.165461                -0.273434  \n",
       "4                -0.343441          -0.240069                -0.273434  "
      ]
     },
     "execution_count": 61,
     "metadata": {},
     "output_type": "execute_result"
    }
   ],
   "source": [
    "X_test_clean.head()"
   ]
  },
  {
   "cell_type": "markdown",
   "id": "cbe34cab-a9ae-405a-a2ac-76417edc6222",
   "metadata": {},
   "source": [
    "#### **5.2. Prediksi Pada Data Pengetesan**"
   ]
  },
  {
   "cell_type": "code",
   "execution_count": null,
   "id": "bdaa0f53-e8c6-415e-b291-ba17d689ecc9",
   "metadata": {},
   "outputs": [],
   "source": []
  },
  {
   "cell_type": "code",
   "execution_count": 44,
   "id": "d1609f92-709c-4ec8-809d-e17dbbe18be0",
   "metadata": {},
   "outputs": [],
   "source": [
    "#menjalankan model prediksi\n",
    "y_test_pred = lr.predict(X_test_clean)"
   ]
  },
  {
   "cell_type": "code",
   "execution_count": 45,
   "id": "df698846-e74b-4855-a5e5-6b3732290c0b",
   "metadata": {},
   "outputs": [
    {
     "data": {
      "text/plain": [
       "array([ 6.55176783e+00,  2.82575775e-01,  6.10475536e+00,  3.61450544e+00,\n",
       "        1.30807498e+00,  6.37548513e+00,  6.44658843e+00,  3.16751325e+00,\n",
       "        2.36217137e+00,  3.71968485e+00,  4.05818929e+00, -7.82365710e-01,\n",
       "        6.50693911e+00,  4.43716231e+00,  1.99404344e+00,  5.15277453e+00,\n",
       "        4.42188486e+00,  5.63922929e+00,  2.20209993e+00,  1.21604300e+00,\n",
       "        2.39931132e+00, -3.48500660e-01,  4.81630763e+00,  2.24154221e+00,\n",
       "        4.30568805e+00,  3.03038776e+00,  8.08472805e-01,  2.96120643e+00,\n",
       "        6.40177998e+00,  1.61276810e+00,  3.64080030e+00,  2.31291030e+00,\n",
       "        5.71033258e+00, -9.66429670e-01,  1.63676063e+00,  2.23404602e+00,\n",
       "        2.65141473e+00,  2.41808970e+00,  6.05994691e+00,  5.85495427e+00,\n",
       "        3.53969317e+00,  5.59200575e+00,  9.32430593e-01,  4.24560216e+00,\n",
       "        6.68324209e+00,  4.38244258e+00,  2.38403387e+00,  1.27093503e+00,\n",
       "        3.61450544e+00,  5.38164694e+00,  5.71033258e+00,  5.99957595e+00,\n",
       "        3.84783047e+00,  5.64322949e-01,  4.67946721e+00,  1.80997948e+00,\n",
       "        4.40337127e+00, -3.61648086e-01,  5.55256348e+00,  3.28018884e+00,\n",
       "        5.35978443e+00,  2.39181513e+00,  5.98113993e-01,  4.25096833e+00,\n",
       "        6.62526594e+00,  3.06638584e+00, -6.50891452e-01,  4.84473251e+00,\n",
       "        4.44817971e+00,  1.15593683e+00,  1.68935033e+00,  4.61909625e+00,\n",
       "        3.41731434e+00,  1.48464275e+00,  1.78138231e+00,  2.08032891e+00,\n",
       "        5.31590981e+00,  5.71033258e+00, -5.32564621e-01,  4.43371812e+00,\n",
       "        1.74194003e+00,  4.03929534e+00,  1.48464275e+00,  4.59148722e+00,\n",
       "        2.90861673e+00,  3.00064871e+00,  1.06392513e+00,  6.50703696e-01,\n",
       "        2.77309047e+00,  3.31963112e+00,  1.97109750e+00,  3.77766100e+00,\n",
       "        6.53325424e+00,  6.07846051e+00,  1.26863271e+00,  2.44440483e+00,\n",
       "        5.90695376e-02,  1.72129641e+00,  3.62767315e+00,  5.23702526e+00,\n",
       "        3.01954265e+00,  2.04088663e+00,  2.17236089e+00,  3.84552815e+00,\n",
       "        6.31511417e+00,  3.21675404e+00,  3.13786948e+00,  4.54021169e+00,\n",
       "        5.30276239e+00,  5.81994434e+00,  3.55284059e+00,  3.30648370e+00,\n",
       "        5.90754397e+00,  1.37381211e+00,  4.15022127e+00,  1.82312691e+00,\n",
       "        4.39022384e+00,  1.20854681e+00, -7.03481155e-01,  6.42807483e+00,\n",
       "        3.40081800e+00,  6.70953694e+00,  4.27594901e+00,  6.47288328e+00,\n",
       "        4.17986503e+00,  6.53862041e+00,  4.36392899e+00,  6.22308219e+00,\n",
       "        3.63516934e+00,  4.09188505e+00,  2.12321538e+00,  5.07925615e+00,\n",
       "        6.52010681e+00,  7.29588250e-01,  6.47983464e-03, -1.90731551e-01,\n",
       "        4.65317235e+00, -1.90731551e-01,  1.62926443e+00,  4.18736122e+00,\n",
       "        4.28504443e+00,  1.35316849e+00,  4.06153820e+00,  4.19837862e+00,\n",
       "        3.54543968e+00,  2.17810740e+00,  1.24233785e+00,  4.66639736e-01,\n",
       "        2.09692053e+00,  1.86997010e+00,  3.78209335e+00,  2.66225983e+00,\n",
       "        5.28961496e+00,  1.98829693e+00,  2.35642485e+00,  4.32985288e+00,\n",
       "        4.54799295e+00,  3.99580107e+00,  2.51994047e+00,  4.40344884e-01,\n",
       "        2.94805901e+00,  4.63224367e+00,  2.93085958e+00,  4.82945506e+00,\n",
       "        5.44738407e+00,  4.98722417e+00,  4.64752112e+00,  2.87261865e+00,\n",
       "        6.40175970e+00,  4.88204476e+00,  1.40240929e+00,  6.52547298e+00,\n",
       "        2.68642466e+00,  3.49054766e+00,  1.50528637e+00,  1.36066469e+00,\n",
       "        1.74194003e+00,  1.15030587e+00,  2.79028990e+00,  7.03293399e-01,\n",
       "        1.55787607e+00,  5.69718516e+00,  6.24408844e-01,  2.58902651e+00,\n",
       "        3.19786010e+00,  3.15436582e+00, -1.05846165e+00, -2.82763532e-01,\n",
       "        8.87357359e-01,  1.95229884e+00, -5.45712046e-01,  9.66241914e-01,\n",
       "        3.55628478e+00,  2.91206092e+00,  5.28961496e+00,  4.42401488e+00,\n",
       "        1.38926186e+00,  3.25952495e+00,  6.24937704e+00,  5.90695376e-02,\n",
       "        3.54876832e+00,  2.51419396e+00,  2.72050077e+00,  2.04088663e+00,\n",
       "        1.92600399e+00,  2.70735335e+00,  1.85277067e+00, -6.90333730e-01,\n",
       "        3.23325037e+00,  4.67946721e+00,  1.05827389e+00,  5.04194389e+00,\n",
       "        1.09771617e+00,  2.25255961e+00,  4.21595839e+00,  5.71033258e+00,\n",
       "        5.61830060e+00,  5.21286043e+00,  5.18443556e+00,  2.76974156e+00,\n",
       "        5.30276239e+00,  3.37452315e+00,  1.68935033e+00,  2.67540726e+00,\n",
       "        4.40742326e+00,  6.90145973e-01,  1.22169424e+00,  5.43423664e+00,\n",
       "        2.68511049e+00, -1.77584126e-01,  5.56571090e+00,  5.78921714e+00,\n",
       "        3.17731176e+00,  4.72296148e+00,  1.31037731e+00,  2.46504845e+00,\n",
       "        3.55858711e+00,  5.77606971e+00,  3.20695552e+00,  2.98344929e+00,\n",
       "        6.19140089e+00,  5.22600785e+00,  2.01053978e+00,  5.06082013e-01,\n",
       "        4.34168614e+00,  2.61937336e+00,  6.62526594e+00,  2.09322177e-01,\n",
       "       -2.43321254e-01,  5.61293443e+00,  1.37954092e-01,  1.49213894e+00,\n",
       "        6.48066453e+00,  5.99957595e+00,  4.42966612e+00,  2.58337528e+00,\n",
       "        4.59280140e+00,  3.58823087e+00,  6.07846051e+00,  3.90913526e+00,\n",
       "        2.52734138e+00,  4.14447475e+00,  3.67116742e+00,  6.08622148e+00,\n",
       "        4.60807884e+00,  1.81332839e+00,  3.10177612e+00,  5.68403773e+00,\n",
       "        5.07925615e+00,  5.90617801e-01,  3.32528236e+00,  3.87182300e+00,\n",
       "        4.77149919e+00,  2.92520835e+00,  2.98344929e+00,  6.24408844e-01,\n",
       "        6.20993476e+00,  5.38164694e+00,  4.27197458e-01,  9.26799637e-01,\n",
       "        5.93827117e+00,  6.11251633e+00,  3.37467801e-01,  3.67248159e+00,\n",
       "        6.69102334e+00,  3.17731176e+00,  4.17986503e+00,  2.06718148e+00,\n",
       "        4.54021169e+00,  1.20289558e+00,  5.19229439e-01,  2.47475168e+00,\n",
       "        4.88204476e+00,  3.41731434e+00,  1.88656172e+00,  5.32376864e-01,\n",
       "       -4.93122344e-01,  5.84966567e-01,  5.84180684e+00,  5.28961496e+00,\n",
       "        9.71893147e-01,  1.74759127e+00,  3.35165478e-01,  6.37546485e+00,\n",
       "        3.03269008e+00,  3.47395604e+00,  1.34002107e+00,  2.39931132e+00,\n",
       "        3.62432424e+00,  2.03118340e+00,  4.95556315e+00,  3.38192406e+00,\n",
       "        4.77686536e+00,  3.33842978e+00,  3.99245216e+00,  1.30807498e+00,\n",
       "        7.69030528e-01,  5.84966567e-01,  3.34822830e+00,  4.98722417e+00,\n",
       "        3.79856940e+00,  1.01883162e+00,  5.36849952e+00,  5.40794179e+00,\n",
       "        5.21073041e+00,  3.27269265e+00,  4.00902607e-01,  2.82568018e+00,\n",
       "        1.20289558e+00,  1.30057879e+00,  3.50932604e+00,  6.39399872e+00,\n",
       "        5.97328110e+00,  3.19380810e+00,  5.61293443e+00,  1.32122241e+00,\n",
       "        3.98265364e+00,  3.35157721e+00,  6.15734506e+00,  3.73690455e+00,\n",
       "        3.86097790e+00,  4.76584795e+00,  4.53484552e+00,  5.56034473e+00,\n",
       "        4.24560216e+00, -1.37399987e+00,  3.89598783e+00,  4.85574991e+00,\n",
       "        2.76399505e+00,  4.65853853e+00,  5.08703740e+00,  4.21930731e+00,\n",
       "        4.40337127e+00,  5.09453360e+00,  3.95635879e+00,  3.61460330e-01,\n",
       "        4.32448671e+00,  1.24233785e+00,  3.45110538e+00,  5.73662744e+00,\n",
       "        3.74034875e+00,  3.41731434e+00,  6.49917813e+00,  2.51419396e+00,\n",
       "        2.44845683e+00,  1.68935033e+00,  5.21286043e+00,  5.63144803e+00,\n",
       "        2.75992277e+00,  4.05244277e+00,  8.74209934e-01,  4.12392641e+00,\n",
       "        8.61062508e-01,  4.30568805e+00,  6.45973585e+00,  3.33064853e+00,\n",
       "        1.42640181e+00,  4.07468562e+00,  4.79787161e-01,  4.01300049e+00,\n",
       "        3.99578079e+00,  6.02587080e+00,  5.93383882e+00,  3.73285255e+00,\n",
       "        6.15197889e+00,  3.68775904e+00,  6.07846051e+00,  1.37381211e+00,\n",
       "        3.88284041e+00,  3.90376909e+00,  6.78842150e+00,  5.86810169e+00,\n",
       "        5.97328110e+00,  8.74209934e-01,  4.13707384e+00,  4.69798080e+00,\n",
       "        3.02287129e+00,  3.24639780e+00,  1.15030587e+00,  3.61117681e+00,\n",
       "        3.13786948e+00,  2.18550831e+00,  4.67037178e+00,  4.05818929e+00,\n",
       "        6.63851122e-01,  1.79452974e+00,  3.10177612e+00,  1.21604300e+00,\n",
       "        1.48129384e+00,  5.42108922e+00,  3.85523138e+00,  3.20360661e+00,\n",
       "        6.09160793e+00,  5.57349216e+00,  6.32289542e+00,  6.82786377e+00,\n",
       "        2.86917445e+00,  6.55176783e+00,  6.38085130e+00,  2.28098449e+00,\n",
       "        2.75429181e+00,  2.05978057e+00,  1.33436983e+00,  3.55415476e+00,\n",
       "        1.00568419e+00,  3.54876832e+00,  4.32853871e+00,  1.67620290e+00,\n",
       "        4.79001278e+00,  5.40257562e+00,  4.41651869e+00,  5.57349216e+00])"
      ]
     },
     "execution_count": 45,
     "metadata": {},
     "output_type": "execute_result"
    }
   ],
   "source": [
    "y_test_pred"
   ]
  },
  {
   "cell_type": "code",
   "execution_count": 46,
   "id": "5ffffca3-0d44-4bec-9db3-476bb043f65d",
   "metadata": {},
   "outputs": [
    {
     "data": {
      "text/html": [
       "<div>\n",
       "<style scoped>\n",
       "    .dataframe tbody tr th:only-of-type {\n",
       "        vertical-align: middle;\n",
       "    }\n",
       "\n",
       "    .dataframe tbody tr th {\n",
       "        vertical-align: top;\n",
       "    }\n",
       "\n",
       "    .dataframe thead th {\n",
       "        text-align: right;\n",
       "    }\n",
       "</style>\n",
       "<table border=\"1\" class=\"dataframe\">\n",
       "  <thead>\n",
       "    <tr style=\"text-align: right;\">\n",
       "      <th></th>\n",
       "      <th>actual</th>\n",
       "      <th>prediction</th>\n",
       "    </tr>\n",
       "  </thead>\n",
       "  <tbody>\n",
       "    <tr>\n",
       "      <th>746</th>\n",
       "      <td>5.047455</td>\n",
       "      <td>6.551768</td>\n",
       "    </tr>\n",
       "    <tr>\n",
       "      <th>1677</th>\n",
       "      <td>1.282832</td>\n",
       "      <td>0.282576</td>\n",
       "    </tr>\n",
       "    <tr>\n",
       "      <th>1858</th>\n",
       "      <td>5.346656</td>\n",
       "      <td>6.104755</td>\n",
       "    </tr>\n",
       "    <tr>\n",
       "      <th>1657</th>\n",
       "      <td>2.387510</td>\n",
       "      <td>3.614505</td>\n",
       "    </tr>\n",
       "    <tr>\n",
       "      <th>479</th>\n",
       "      <td>1.286801</td>\n",
       "      <td>1.308075</td>\n",
       "    </tr>\n",
       "  </tbody>\n",
       "</table>\n",
       "</div>"
      ],
      "text/plain": [
       "        actual  prediction\n",
       "746   5.047455    6.551768\n",
       "1677  1.282832    0.282576\n",
       "1858  5.346656    6.104755\n",
       "1657  2.387510    3.614505\n",
       "479   1.286801    1.308075"
      ]
     },
     "execution_count": 46,
     "metadata": {},
     "output_type": "execute_result"
    }
   ],
   "source": [
    "#membuat dataframe komparasi hasil aktual dan prediksi\n",
    "summary_test_pred = pd.DataFrame({\"actual\": y_test['EFConsPerCap'],\n",
    "                                   \"prediction\": y_test_pred})\n",
    "\n",
    "summary_test_pred.head()"
   ]
  },
  {
   "cell_type": "code",
   "execution_count": 47,
   "id": "e6dda36d-8e38-43c5-ae8c-5f5ad9478d02",
   "metadata": {},
   "outputs": [
    {
     "data": {
      "image/png": "[encoded data removed]",
      "text/plain": [
       "<Figure size 1000x1000 with 1 Axes>"
      ]
     },
     "metadata": {},
     "output_type": "display_data"
    }
   ],
   "source": [
    "fig, ax = plt.subplots(nrows=1, ncols=1, figsize=(10, 10))\n",
    "\n",
    "ax.scatter(summary_test_pred[\"actual\"], summary_test_pred[\"prediction\"])\n",
    "ax.plot([0, 30], [0, 30], \"--k\")\n",
    "\n",
    "ax.set_xlabel(\"Actual\")\n",
    "ax.set_ylabel(\"Prediction\")\n",
    "ax.set_xlim(0, 20)\n",
    "ax.set_ylim(0, 10)\n",
    "plt.show()"
   ]
  },
  {
   "cell_type": "markdown",
   "id": "1ec270a1-0012-4b98-8a45-3b9388e7089c",
   "metadata": {},
   "source": [
    "#### **5.3. Analisis Error**"
   ]
  },
  {
   "cell_type": "code",
   "execution_count": 48,
   "id": "42393fb6-c428-457d-83b8-9c3fce922626",
   "metadata": {},
   "outputs": [
    {
     "name": "stdout",
     "output_type": "stream",
     "text": [
      "2.5119417844809835\n"
     ]
    }
   ],
   "source": [
    "# Cari MSE\n",
    "prediction_test_mse = mean_squared_error(y_test_pred, y_test['EFConsPerCap'])\n",
    "print(prediction_test_mse)"
   ]
  },
  {
   "cell_type": "code",
   "execution_count": 49,
   "id": "0e9b1713-cd2a-4ff1-bb84-771da6237f56",
   "metadata": {},
   "outputs": [
    {
     "name": "stdout",
     "output_type": "stream",
     "text": [
      "MSE turun 65.45 %\n"
     ]
    }
   ],
   "source": [
    "# Cari perbandingan dengan baseline\n",
    "comparison_mse = 100*(baseline_mse - prediction_test_mse) / baseline_mse\n",
    "print(f\"MSE turun {comparison_mse:.2f} %\")"
   ]
  },
  {
   "cell_type": "code",
   "execution_count": 50,
   "id": "b45a656a-2f03-4c15-9e02-ee2e6ea3830c",
   "metadata": {},
   "outputs": [
    {
     "data": {
      "text/plain": [
       "array([ 2.22586683,  0.30666922,  0.04807253, -0.08500509, -0.21597706,\n",
       "       -0.03646864, -0.18701333])"
      ]
     },
     "execution_count": 50,
     "metadata": {},
     "output_type": "execute_result"
    }
   ],
   "source": [
    "#menampilkan hasil regresi polinomial\n",
    "\n",
    "lr.coef_"
   ]
  },
  {
   "cell_type": "code",
   "execution_count": 51,
   "id": "65d10e44-fc5b-4da7-bf3d-e13e8747aacb",
   "metadata": {},
   "outputs": [
    {
     "data": {
      "text/plain": [
       "3.3612194603049286"
      ]
     },
     "execution_count": 51,
     "metadata": {},
     "output_type": "execute_result"
    }
   ],
   "source": [
    "lr.intercept_"
   ]
  },
  {
   "cell_type": "code",
   "execution_count": null,
   "id": "981c467f-c26b-47d4-8676-8ddc22a3c2c7",
   "metadata": {},
   "outputs": [],
   "source": []
  }
 ],
 "metadata": {
  "kernelspec": {
   "display_name": "Python 3 (ipykernel)",
   "language": "python",
   "name": "python3"
  },
  "language_info": {
   "codemirror_mode": {
    "name": "ipython",
    "version": 3
   },
   "file_extension": ".py",
   "mimetype": "text/x-python",
   "name": "python",
   "nbconvert_exporter": "python",
   "pygments_lexer": "ipython3",
   "version": "3.9.13"
  }
 },
 "nbformat": 4,
 "nbformat_minor": 5
}
