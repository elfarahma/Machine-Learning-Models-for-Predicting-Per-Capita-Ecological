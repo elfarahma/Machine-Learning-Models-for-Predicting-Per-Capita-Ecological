{
 "cells": [
  {
   "cell_type": "code",
   "execution_count": 1,
   "id": "e566cdb5-df7c-4d0f-9fa0-19db17352c15",
   "metadata": {},
   "outputs": [],
   "source": [
    "import pandas as pd\n",
    "import numpy as np\n",
    "from sklearn import preprocessing\n",
    "from sklearn.preprocessing import normalize\n",
    "from sklearn.model_selection import train_test_split\n",
    "\n",
    "import matplotlib.pyplot as plt\n",
    "import seaborn as sns"
   ]
  },
  {
   "cell_type": "markdown",
   "id": "a2790137-4252-4425-adc6-69192a8e0736",
   "metadata": {},
   "source": [
    "Dataset yang didapat merupakan timeseries dataset dari https://github.com/as6140/hdi_v_ecology_plotly_blog. Dataset yang didapat relatif sudah clean, karena sudah melalui sejumlah tahapan Preprocessing, seperti imputasi data null dan pembersihan duplicate.\n"
   ]
  },
  {
   "cell_type": "markdown",
   "id": "a52d06f1-b406-4074-826d-cbad99d64662",
   "metadata": {},
   "source": [
    "### I.IMPOR DATA DAN HAPUS DATA DUPLIKAT"
   ]
  },
  {
   "cell_type": "code",
   "execution_count": 2,
   "id": "bcb623b6-e73f-4dde-bdf0-fee436f9e0d2",
   "metadata": {},
   "outputs": [],
   "source": [
    "def importData(filename):\n",
    "    \"\"\"\n",
    "    Fungsi untuk import data & hapus duplikat\n",
    "    :param filename: <string> nama file input (format .csv)\n",
    "    :return df: <pandas dataframe> sampel data\n",
    "    \"\"\"\n",
    "\n",
    "    # read data\n",
    "    df = pd.read_csv(filename)\n",
    "    print(\"Data asli            : \", df.shape, \"- (#observasi, #kolom)\")\n",
    "\n",
    "    # drop duplicates\n",
    "    df = df.drop_duplicates()\n",
    "    print(\"Data setelah di-drop : \", df.shape, \"- (#observasi, #kolom)\")\n",
    "\n",
    "    return df\n",
    "\n",
    "# (filename) adalah argumen\n",
    "# Argumen adalah sebuah variable. \n",
    "# Jika fungsi tsb. diberi argumen filename = \"bank_data.csv\", \n",
    "# maka semua variabel 'filename' di dalam fungsi \n",
    "# akan berubah menjadi \"bank_data.csv\"\n"
   ]
  },
  {
   "cell_type": "code",
   "execution_count": 3,
   "id": "38f2270f-6871-43fb-b353-636df0d53f55",
   "metadata": {},
   "outputs": [],
   "source": [
    "data = 'data_for_plotly_grid.csv'"
   ]
  },
  {
   "cell_type": "code",
   "execution_count": 4,
   "id": "fc0de85c-8b37-4a8a-9d6b-29eaf0c6728c",
   "metadata": {},
   "outputs": [
    {
     "name": "stdout",
     "output_type": "stream",
     "text": [
      "Data asli            :  (2157, 11) - (#observasi, #kolom)\n",
      "Data setelah di-drop :  (2157, 11) - (#observasi, #kolom)\n"
     ]
    }
   ],
   "source": [
    "footprint = importData(filename = data)"
   ]
  },
  {
   "cell_type": "code",
   "execution_count": 5,
   "id": "1846fd20-08bf-4f77-8879-0fb640db7551",
   "metadata": {},
   "outputs": [
    {
     "data": {
      "text/html": [
       "<div>\n",
       "<style scoped>\n",
       "    .dataframe tbody tr th:only-of-type {\n",
       "        vertical-align: middle;\n",
       "    }\n",
       "\n",
       "    .dataframe tbody tr th {\n",
       "        vertical-align: top;\n",
       "    }\n",
       "\n",
       "    .dataframe thead th {\n",
       "        text-align: right;\n",
       "    }\n",
       "</style>\n",
       "<table border=\"1\" class=\"dataframe\">\n",
       "  <thead>\n",
       "    <tr style=\"text-align: right;\">\n",
       "      <th></th>\n",
       "      <th>Unnamed: 0</th>\n",
       "      <th>country</th>\n",
       "      <th>year</th>\n",
       "      <th>hdi</th>\n",
       "      <th>life_expectancy</th>\n",
       "      <th>population</th>\n",
       "      <th>continent</th>\n",
       "      <th>EFConsPerCap</th>\n",
       "      <th>EFConsTotGHA</th>\n",
       "      <th>BiocapPerCap</th>\n",
       "      <th>BiocapTotGHA</th>\n",
       "    </tr>\n",
       "  </thead>\n",
       "  <tbody>\n",
       "    <tr>\n",
       "      <th>0</th>\n",
       "      <td>0</td>\n",
       "      <td>Afghanistan</td>\n",
       "      <td>2000</td>\n",
       "      <td>0.340</td>\n",
       "      <td>55.482</td>\n",
       "      <td>20093756.0</td>\n",
       "      <td>Asia</td>\n",
       "      <td>0.648085</td>\n",
       "      <td>12768498.74</td>\n",
       "      <td>0.509767</td>\n",
       "      <td>10043372.21</td>\n",
       "    </tr>\n",
       "    <tr>\n",
       "      <th>1</th>\n",
       "      <td>1</td>\n",
       "      <td>Afghanistan</td>\n",
       "      <td>2001</td>\n",
       "      <td>0.341</td>\n",
       "      <td>56.044</td>\n",
       "      <td>20966463.0</td>\n",
       "      <td>Asia</td>\n",
       "      <td>0.605820</td>\n",
       "      <td>12438205.89</td>\n",
       "      <td>0.500063</td>\n",
       "      <td>10266894.13</td>\n",
       "    </tr>\n",
       "    <tr>\n",
       "      <th>2</th>\n",
       "      <td>2</td>\n",
       "      <td>Afghanistan</td>\n",
       "      <td>2002</td>\n",
       "      <td>0.373</td>\n",
       "      <td>56.637</td>\n",
       "      <td>21979923.0</td>\n",
       "      <td>Asia</td>\n",
       "      <td>0.704061</td>\n",
       "      <td>15128227.46</td>\n",
       "      <td>0.570591</td>\n",
       "      <td>12260349.44</td>\n",
       "    </tr>\n",
       "    <tr>\n",
       "      <th>3</th>\n",
       "      <td>3</td>\n",
       "      <td>Afghanistan</td>\n",
       "      <td>2003</td>\n",
       "      <td>0.381</td>\n",
       "      <td>57.250</td>\n",
       "      <td>23064851.0</td>\n",
       "      <td>Asia</td>\n",
       "      <td>0.708856</td>\n",
       "      <td>15954511.65</td>\n",
       "      <td>0.591033</td>\n",
       "      <td>13302606.63</td>\n",
       "    </tr>\n",
       "    <tr>\n",
       "      <th>4</th>\n",
       "      <td>4</td>\n",
       "      <td>Afghanistan</td>\n",
       "      <td>2004</td>\n",
       "      <td>0.396</td>\n",
       "      <td>57.875</td>\n",
       "      <td>24118979.0</td>\n",
       "      <td>Asia</td>\n",
       "      <td>0.619414</td>\n",
       "      <td>14556109.86</td>\n",
       "      <td>0.502825</td>\n",
       "      <td>11816295.92</td>\n",
       "    </tr>\n",
       "  </tbody>\n",
       "</table>\n",
       "</div>"
      ],
      "text/plain": [
       "   Unnamed: 0      country  year    hdi  life_expectancy  population  \\\n",
       "0           0  Afghanistan  2000  0.340           55.482  20093756.0   \n",
       "1           1  Afghanistan  2001  0.341           56.044  20966463.0   \n",
       "2           2  Afghanistan  2002  0.373           56.637  21979923.0   \n",
       "3           3  Afghanistan  2003  0.381           57.250  23064851.0   \n",
       "4           4  Afghanistan  2004  0.396           57.875  24118979.0   \n",
       "\n",
       "  continent  EFConsPerCap  EFConsTotGHA  BiocapPerCap  BiocapTotGHA  \n",
       "0      Asia      0.648085   12768498.74      0.509767   10043372.21  \n",
       "1      Asia      0.605820   12438205.89      0.500063   10266894.13  \n",
       "2      Asia      0.704061   15128227.46      0.570591   12260349.44  \n",
       "3      Asia      0.708856   15954511.65      0.591033   13302606.63  \n",
       "4      Asia      0.619414   14556109.86      0.502825   11816295.92  "
      ]
     },
     "execution_count": 5,
     "metadata": {},
     "output_type": "execute_result"
    }
   ],
   "source": [
    "footprint.head()"
   ]
  },
  {
   "cell_type": "markdown",
   "id": "af60dc31-0a04-4e57-9b06-875b3e62483f",
   "metadata": {},
   "source": [
    "Melakukan sanity check pada dataset sebelum melakukan pre-processing. Dengan tahapan sebagai berikut:\n",
    "\n",
    "1. Pengecekan statistik data pada kolom\n",
    "2. Pengecekan tipe data pada kolom\n",
    "3. Pengecekan null data"
   ]
  },
  {
   "cell_type": "code",
   "execution_count": 6,
   "id": "c230f60b-47b3-4aba-9c09-c504750fa337",
   "metadata": {},
   "outputs": [
    {
     "data": {
      "text/html": [
       "<div>\n",
       "<style scoped>\n",
       "    .dataframe tbody tr th:only-of-type {\n",
       "        vertical-align: middle;\n",
       "    }\n",
       "\n",
       "    .dataframe tbody tr th {\n",
       "        vertical-align: top;\n",
       "    }\n",
       "\n",
       "    .dataframe thead th {\n",
       "        text-align: right;\n",
       "    }\n",
       "</style>\n",
       "<table border=\"1\" class=\"dataframe\">\n",
       "  <thead>\n",
       "    <tr style=\"text-align: right;\">\n",
       "      <th></th>\n",
       "      <th>Unnamed: 0</th>\n",
       "      <th>country</th>\n",
       "      <th>year</th>\n",
       "      <th>hdi</th>\n",
       "      <th>life_expectancy</th>\n",
       "      <th>population</th>\n",
       "      <th>continent</th>\n",
       "      <th>EFConsPerCap</th>\n",
       "      <th>EFConsTotGHA</th>\n",
       "      <th>BiocapPerCap</th>\n",
       "      <th>BiocapTotGHA</th>\n",
       "    </tr>\n",
       "  </thead>\n",
       "  <tbody>\n",
       "    <tr>\n",
       "      <th>count</th>\n",
       "      <td>2157.000000</td>\n",
       "      <td>2157</td>\n",
       "      <td>2157.000000</td>\n",
       "      <td>2157.000000</td>\n",
       "      <td>2157.000000</td>\n",
       "      <td>2.157000e+03</td>\n",
       "      <td>2157</td>\n",
       "      <td>2157.000000</td>\n",
       "      <td>2.157000e+03</td>\n",
       "      <td>2157.000000</td>\n",
       "      <td>2.157000e+03</td>\n",
       "    </tr>\n",
       "    <tr>\n",
       "      <th>unique</th>\n",
       "      <td>NaN</td>\n",
       "      <td>146</td>\n",
       "      <td>NaN</td>\n",
       "      <td>NaN</td>\n",
       "      <td>NaN</td>\n",
       "      <td>NaN</td>\n",
       "      <td>6</td>\n",
       "      <td>NaN</td>\n",
       "      <td>NaN</td>\n",
       "      <td>NaN</td>\n",
       "      <td>NaN</td>\n",
       "    </tr>\n",
       "    <tr>\n",
       "      <th>top</th>\n",
       "      <td>NaN</td>\n",
       "      <td>Afghanistan</td>\n",
       "      <td>NaN</td>\n",
       "      <td>NaN</td>\n",
       "      <td>NaN</td>\n",
       "      <td>NaN</td>\n",
       "      <td>Africa</td>\n",
       "      <td>NaN</td>\n",
       "      <td>NaN</td>\n",
       "      <td>NaN</td>\n",
       "      <td>NaN</td>\n",
       "    </tr>\n",
       "    <tr>\n",
       "      <th>freq</th>\n",
       "      <td>NaN</td>\n",
       "      <td>15</td>\n",
       "      <td>NaN</td>\n",
       "      <td>NaN</td>\n",
       "      <td>NaN</td>\n",
       "      <td>NaN</td>\n",
       "      <td>630</td>\n",
       "      <td>NaN</td>\n",
       "      <td>NaN</td>\n",
       "      <td>NaN</td>\n",
       "      <td>NaN</td>\n",
       "    </tr>\n",
       "    <tr>\n",
       "      <th>mean</th>\n",
       "      <td>1078.000000</td>\n",
       "      <td>NaN</td>\n",
       "      <td>2007.013445</td>\n",
       "      <td>0.663868</td>\n",
       "      <td>68.963548</td>\n",
       "      <td>4.149857e+07</td>\n",
       "      <td>NaN</td>\n",
       "      <td>3.332793</td>\n",
       "      <td>1.135235e+08</td>\n",
       "      <td>3.480864</td>\n",
       "      <td>7.334822e+07</td>\n",
       "    </tr>\n",
       "    <tr>\n",
       "      <th>std</th>\n",
       "      <td>622.816586</td>\n",
       "      <td>NaN</td>\n",
       "      <td>4.320348</td>\n",
       "      <td>0.168760</td>\n",
       "      <td>9.531841</td>\n",
       "      <td>1.497885e+08</td>\n",
       "      <td>NaN</td>\n",
       "      <td>2.636035</td>\n",
       "      <td>4.232561e+08</td>\n",
       "      <td>7.059596</td>\n",
       "      <td>2.138697e+08</td>\n",
       "    </tr>\n",
       "    <tr>\n",
       "      <th>min</th>\n",
       "      <td>0.000000</td>\n",
       "      <td>NaN</td>\n",
       "      <td>2000.000000</td>\n",
       "      <td>0.255000</td>\n",
       "      <td>38.702000</td>\n",
       "      <td>9.808200e+04</td>\n",
       "      <td>NaN</td>\n",
       "      <td>0.428228</td>\n",
       "      <td>1.800502e+05</td>\n",
       "      <td>0.033138</td>\n",
       "      <td>4.645019e+04</td>\n",
       "    </tr>\n",
       "    <tr>\n",
       "      <th>25%</th>\n",
       "      <td>539.000000</td>\n",
       "      <td>NaN</td>\n",
       "      <td>2003.000000</td>\n",
       "      <td>0.520000</td>\n",
       "      <td>62.501000</td>\n",
       "      <td>3.605439e+06</td>\n",
       "      <td>NaN</td>\n",
       "      <td>1.401618</td>\n",
       "      <td>8.442695e+06</td>\n",
       "      <td>0.771566</td>\n",
       "      <td>5.290507e+06</td>\n",
       "    </tr>\n",
       "    <tr>\n",
       "      <th>50%</th>\n",
       "      <td>1078.000000</td>\n",
       "      <td>NaN</td>\n",
       "      <td>2007.000000</td>\n",
       "      <td>0.692000</td>\n",
       "      <td>71.658537</td>\n",
       "      <td>9.474511e+06</td>\n",
       "      <td>NaN</td>\n",
       "      <td>2.402041</td>\n",
       "      <td>2.254306e+07</td>\n",
       "      <td>1.570229</td>\n",
       "      <td>1.714351e+07</td>\n",
       "    </tr>\n",
       "    <tr>\n",
       "      <th>75%</th>\n",
       "      <td>1617.000000</td>\n",
       "      <td>NaN</td>\n",
       "      <td>2011.000000</td>\n",
       "      <td>0.798000</td>\n",
       "      <td>75.932000</td>\n",
       "      <td>2.700843e+07</td>\n",
       "      <td>NaN</td>\n",
       "      <td>4.716975</td>\n",
       "      <td>6.294436e+07</td>\n",
       "      <td>3.128630</td>\n",
       "      <td>5.485825e+07</td>\n",
       "    </tr>\n",
       "    <tr>\n",
       "      <th>max</th>\n",
       "      <td>2156.000000</td>\n",
       "      <td>NaN</td>\n",
       "      <td>2014.000000</td>\n",
       "      <td>0.948000</td>\n",
       "      <td>83.587805</td>\n",
       "      <td>1.364270e+09</td>\n",
       "      <td>NaN</td>\n",
       "      <td>17.021936</td>\n",
       "      <td>5.212416e+09</td>\n",
       "      <td>72.505217</td>\n",
       "      <td>1.831483e+09</td>\n",
       "    </tr>\n",
       "  </tbody>\n",
       "</table>\n",
       "</div>"
      ],
      "text/plain": [
       "         Unnamed: 0      country         year          hdi  life_expectancy  \\\n",
       "count   2157.000000         2157  2157.000000  2157.000000      2157.000000   \n",
       "unique          NaN          146          NaN          NaN              NaN   \n",
       "top             NaN  Afghanistan          NaN          NaN              NaN   \n",
       "freq            NaN           15          NaN          NaN              NaN   \n",
       "mean    1078.000000          NaN  2007.013445     0.663868        68.963548   \n",
       "std      622.816586          NaN     4.320348     0.168760         9.531841   \n",
       "min        0.000000          NaN  2000.000000     0.255000        38.702000   \n",
       "25%      539.000000          NaN  2003.000000     0.520000        62.501000   \n",
       "50%     1078.000000          NaN  2007.000000     0.692000        71.658537   \n",
       "75%     1617.000000          NaN  2011.000000     0.798000        75.932000   \n",
       "max     2156.000000          NaN  2014.000000     0.948000        83.587805   \n",
       "\n",
       "          population continent  EFConsPerCap  EFConsTotGHA  BiocapPerCap  \\\n",
       "count   2.157000e+03      2157   2157.000000  2.157000e+03   2157.000000   \n",
       "unique           NaN         6           NaN           NaN           NaN   \n",
       "top              NaN    Africa           NaN           NaN           NaN   \n",
       "freq             NaN       630           NaN           NaN           NaN   \n",
       "mean    4.149857e+07       NaN      3.332793  1.135235e+08      3.480864   \n",
       "std     1.497885e+08       NaN      2.636035  4.232561e+08      7.059596   \n",
       "min     9.808200e+04       NaN      0.428228  1.800502e+05      0.033138   \n",
       "25%     3.605439e+06       NaN      1.401618  8.442695e+06      0.771566   \n",
       "50%     9.474511e+06       NaN      2.402041  2.254306e+07      1.570229   \n",
       "75%     2.700843e+07       NaN      4.716975  6.294436e+07      3.128630   \n",
       "max     1.364270e+09       NaN     17.021936  5.212416e+09     72.505217   \n",
       "\n",
       "        BiocapTotGHA  \n",
       "count   2.157000e+03  \n",
       "unique           NaN  \n",
       "top              NaN  \n",
       "freq             NaN  \n",
       "mean    7.334822e+07  \n",
       "std     2.138697e+08  \n",
       "min     4.645019e+04  \n",
       "25%     5.290507e+06  \n",
       "50%     1.714351e+07  \n",
       "75%     5.485825e+07  \n",
       "max     1.831483e+09  "
      ]
     },
     "execution_count": 6,
     "metadata": {},
     "output_type": "execute_result"
    }
   ],
   "source": [
    "#statistik kolom\n",
    "\n",
    "footprint.describe(include='all')"
   ]
  },
  {
   "cell_type": "code",
   "execution_count": 7,
   "id": "565dbefb-518a-4025-a864-e164284602a3",
   "metadata": {},
   "outputs": [
    {
     "name": "stdout",
     "output_type": "stream",
     "text": [
      "<class 'pandas.core.frame.DataFrame'>\n",
      "Int64Index: 2157 entries, 0 to 2156\n",
      "Data columns (total 11 columns):\n",
      " #   Column           Non-Null Count  Dtype  \n",
      "---  ------           --------------  -----  \n",
      " 0   Unnamed: 0       2157 non-null   int64  \n",
      " 1   country          2157 non-null   object \n",
      " 2   year             2157 non-null   int64  \n",
      " 3   hdi              2157 non-null   float64\n",
      " 4   life_expectancy  2157 non-null   float64\n",
      " 5   population       2157 non-null   float64\n",
      " 6   continent        2157 non-null   object \n",
      " 7   EFConsPerCap     2157 non-null   float64\n",
      " 8   EFConsTotGHA     2157 non-null   float64\n",
      " 9   BiocapPerCap     2157 non-null   float64\n",
      " 10  BiocapTotGHA     2157 non-null   float64\n",
      "dtypes: float64(7), int64(2), object(2)\n",
      "memory usage: 202.2+ KB\n"
     ]
    }
   ],
   "source": [
    "#tipe data tiap kolom\n",
    "\n",
    "footprint.info()\n"
   ]
  },
  {
   "cell_type": "code",
   "execution_count": 8,
   "id": "d80dbd4a-19d7-4cca-833d-14c8afca200d",
   "metadata": {},
   "outputs": [
    {
     "data": {
      "text/plain": [
       "Unnamed: 0         0.0\n",
       "country            0.0\n",
       "year               0.0\n",
       "hdi                0.0\n",
       "life_expectancy    0.0\n",
       "population         0.0\n",
       "continent          0.0\n",
       "EFConsPerCap       0.0\n",
       "EFConsTotGHA       0.0\n",
       "BiocapPerCap       0.0\n",
       "BiocapTotGHA       0.0\n",
       "dtype: float64"
      ]
     },
     "execution_count": 8,
     "metadata": {},
     "output_type": "execute_result"
    }
   ],
   "source": [
    "#persentase data null\n",
    "\n",
    "persentase_isnull = footprint.isnull().sum()*100/len(footprint)\n",
    "persentase_isnull"
   ]
  },
  {
   "cell_type": "markdown",
   "id": "499ec9d0-1ecd-4ef8-a482-ece4a4e981a9",
   "metadata": {},
   "source": [
    "Dari dataset di atas tidak ditemukan adanya data null"
   ]
  },
  {
   "cell_type": "markdown",
   "id": "76aeee03-264d-419e-803a-196684fed453",
   "metadata": {},
   "source": [
    "### II.DROP KOLOM YANG TIDAK DIGUNAKAN"
   ]
  },
  {
   "cell_type": "code",
   "execution_count": 9,
   "id": "b280369e-e796-4fc3-9ec2-0c3a1304d83c",
   "metadata": {},
   "outputs": [],
   "source": [
    "#Drop kolom yang tidak digunakan sebagai input\n",
    "footprint.drop(['Unnamed: 0', 'year', \n",
    "                'population', 'country',\n",
    "               'life_expectancy'], \n",
    "               axis=1, inplace=True)\n"
   ]
  },
  {
   "cell_type": "code",
   "execution_count": 10,
   "id": "15e9c051-0351-4325-babd-eea680c2f46a",
   "metadata": {},
   "outputs": [
    {
     "data": {
      "text/html": [
       "<div>\n",
       "<style scoped>\n",
       "    .dataframe tbody tr th:only-of-type {\n",
       "        vertical-align: middle;\n",
       "    }\n",
       "\n",
       "    .dataframe tbody tr th {\n",
       "        vertical-align: top;\n",
       "    }\n",
       "\n",
       "    .dataframe thead th {\n",
       "        text-align: right;\n",
       "    }\n",
       "</style>\n",
       "<table border=\"1\" class=\"dataframe\">\n",
       "  <thead>\n",
       "    <tr style=\"text-align: right;\">\n",
       "      <th></th>\n",
       "      <th>hdi</th>\n",
       "      <th>continent</th>\n",
       "      <th>EFConsPerCap</th>\n",
       "      <th>EFConsTotGHA</th>\n",
       "      <th>BiocapPerCap</th>\n",
       "      <th>BiocapTotGHA</th>\n",
       "    </tr>\n",
       "  </thead>\n",
       "  <tbody>\n",
       "    <tr>\n",
       "      <th>0</th>\n",
       "      <td>0.340</td>\n",
       "      <td>Asia</td>\n",
       "      <td>0.648085</td>\n",
       "      <td>12768498.74</td>\n",
       "      <td>0.509767</td>\n",
       "      <td>10043372.21</td>\n",
       "    </tr>\n",
       "    <tr>\n",
       "      <th>1</th>\n",
       "      <td>0.341</td>\n",
       "      <td>Asia</td>\n",
       "      <td>0.605820</td>\n",
       "      <td>12438205.89</td>\n",
       "      <td>0.500063</td>\n",
       "      <td>10266894.13</td>\n",
       "    </tr>\n",
       "    <tr>\n",
       "      <th>2</th>\n",
       "      <td>0.373</td>\n",
       "      <td>Asia</td>\n",
       "      <td>0.704061</td>\n",
       "      <td>15128227.46</td>\n",
       "      <td>0.570591</td>\n",
       "      <td>12260349.44</td>\n",
       "    </tr>\n",
       "    <tr>\n",
       "      <th>3</th>\n",
       "      <td>0.381</td>\n",
       "      <td>Asia</td>\n",
       "      <td>0.708856</td>\n",
       "      <td>15954511.65</td>\n",
       "      <td>0.591033</td>\n",
       "      <td>13302606.63</td>\n",
       "    </tr>\n",
       "    <tr>\n",
       "      <th>4</th>\n",
       "      <td>0.396</td>\n",
       "      <td>Asia</td>\n",
       "      <td>0.619414</td>\n",
       "      <td>14556109.86</td>\n",
       "      <td>0.502825</td>\n",
       "      <td>11816295.92</td>\n",
       "    </tr>\n",
       "  </tbody>\n",
       "</table>\n",
       "</div>"
      ],
      "text/plain": [
       "     hdi continent  EFConsPerCap  EFConsTotGHA  BiocapPerCap  BiocapTotGHA\n",
       "0  0.340      Asia      0.648085   12768498.74      0.509767   10043372.21\n",
       "1  0.341      Asia      0.605820   12438205.89      0.500063   10266894.13\n",
       "2  0.373      Asia      0.704061   15128227.46      0.570591   12260349.44\n",
       "3  0.381      Asia      0.708856   15954511.65      0.591033   13302606.63\n",
       "4  0.396      Asia      0.619414   14556109.86      0.502825   11816295.92"
      ]
     },
     "execution_count": 10,
     "metadata": {},
     "output_type": "execute_result"
    }
   ],
   "source": [
    "footprint.head()"
   ]
  },
  {
   "cell_type": "code",
   "execution_count": 11,
   "id": "2ac35413-401c-4f3f-ba80-b928d85f9f15",
   "metadata": {},
   "outputs": [
    {
     "data": {
      "text/plain": [
       "(2157, 6)"
      ]
     },
     "execution_count": 11,
     "metadata": {},
     "output_type": "execute_result"
    }
   ],
   "source": [
    "#cek dimensi\n",
    "\n",
    "footprint.shape"
   ]
  },
  {
   "cell_type": "markdown",
   "id": "2df011b4-8f12-4d7b-8544-2790bfbfa4e8",
   "metadata": {},
   "source": [
    "### III.DATA PREPROCESSING"
   ]
  },
  {
   "cell_type": "code",
   "execution_count": null,
   "id": "3d45cbbf-5461-4198-9147-57a78883d5ad",
   "metadata": {},
   "outputs": [],
   "source": []
  },
  {
   "cell_type": "markdown",
   "id": "b62ae35f-b755-47d4-93f0-6a1cb62264f2",
   "metadata": {},
   "source": [
    "#### **3.1. Pemisahan input dan output pada dataset**"
   ]
  },
  {
   "cell_type": "code",
   "execution_count": 12,
   "id": "0ee4c0ff-ba4a-4150-b7f8-f1c822524d41",
   "metadata": {},
   "outputs": [],
   "source": [
    "def extractInputOutput(data,\n",
    "                       output_column_name):\n",
    "    \"\"\"\n",
    "    Fungsi untuk memisahkan data input dan output\n",
    "    :param data: <pandas dataframe> data seluruh sample\n",
    "    :param output_column_name: <string> nama kolom output\n",
    "    :return input_data: <pandas dataframe> data input\n",
    "    :return output_data: <pandas series> data output\n",
    "    \"\"\"\n",
    "    output_data = data[output_column_name]\n",
    "    input_data = data.drop(output_column_name,\n",
    "                           axis = 1)\n",
    "    \n",
    "    return input_data, output_data\n",
    "\n",
    "# (data, output_column_name) adalah argumen\n",
    "# Argumen adalah sebuah variable. \n",
    "# Jika fungsi tsb. diberi argumen data = footprint, \n",
    "# maka semua variabel 'data' di dalam fungsi akan berubah menjadi footprint"
   ]
  },
  {
   "cell_type": "code",
   "execution_count": 13,
   "id": "ada2e2de-32d0-4ccd-9985-e666a0543265",
   "metadata": {},
   "outputs": [],
   "source": [
    "# Jangan sampai salah urutan dalam penempatan return\n",
    "X, y = extractInputOutput(data = footprint,\n",
    "                          output_column_name = [\"EFConsPerCap\", \"EFConsTotGHA\", \n",
    "                                                \"BiocapPerCap\", \"BiocapTotGHA\" ])"
   ]
  },
  {
   "cell_type": "markdown",
   "id": "c25e484f-1825-4868-a5a3-9ada517e1427",
   "metadata": {},
   "source": [
    "Melakukan sanity check"
   ]
  },
  {
   "cell_type": "code",
   "execution_count": 14,
   "id": "12422b57-b370-41b8-97ea-dd0abccabf85",
   "metadata": {},
   "outputs": [
    {
     "data": {
      "text/html": [
       "<div>\n",
       "<style scoped>\n",
       "    .dataframe tbody tr th:only-of-type {\n",
       "        vertical-align: middle;\n",
       "    }\n",
       "\n",
       "    .dataframe tbody tr th {\n",
       "        vertical-align: top;\n",
       "    }\n",
       "\n",
       "    .dataframe thead th {\n",
       "        text-align: right;\n",
       "    }\n",
       "</style>\n",
       "<table border=\"1\" class=\"dataframe\">\n",
       "  <thead>\n",
       "    <tr style=\"text-align: right;\">\n",
       "      <th></th>\n",
       "      <th>hdi</th>\n",
       "      <th>continent</th>\n",
       "    </tr>\n",
       "  </thead>\n",
       "  <tbody>\n",
       "    <tr>\n",
       "      <th>0</th>\n",
       "      <td>0.340</td>\n",
       "      <td>Asia</td>\n",
       "    </tr>\n",
       "    <tr>\n",
       "      <th>1</th>\n",
       "      <td>0.341</td>\n",
       "      <td>Asia</td>\n",
       "    </tr>\n",
       "    <tr>\n",
       "      <th>2</th>\n",
       "      <td>0.373</td>\n",
       "      <td>Asia</td>\n",
       "    </tr>\n",
       "    <tr>\n",
       "      <th>3</th>\n",
       "      <td>0.381</td>\n",
       "      <td>Asia</td>\n",
       "    </tr>\n",
       "    <tr>\n",
       "      <th>4</th>\n",
       "      <td>0.396</td>\n",
       "      <td>Asia</td>\n",
       "    </tr>\n",
       "  </tbody>\n",
       "</table>\n",
       "</div>"
      ],
      "text/plain": [
       "     hdi continent\n",
       "0  0.340      Asia\n",
       "1  0.341      Asia\n",
       "2  0.373      Asia\n",
       "3  0.381      Asia\n",
       "4  0.396      Asia"
      ]
     },
     "execution_count": 14,
     "metadata": {},
     "output_type": "execute_result"
    }
   ],
   "source": [
    "X.head()"
   ]
  },
  {
   "cell_type": "code",
   "execution_count": 15,
   "id": "248181da-c82a-4e06-bf83-26d62e0c7f21",
   "metadata": {},
   "outputs": [
    {
     "data": {
      "text/html": [
       "<div>\n",
       "<style scoped>\n",
       "    .dataframe tbody tr th:only-of-type {\n",
       "        vertical-align: middle;\n",
       "    }\n",
       "\n",
       "    .dataframe tbody tr th {\n",
       "        vertical-align: top;\n",
       "    }\n",
       "\n",
       "    .dataframe thead th {\n",
       "        text-align: right;\n",
       "    }\n",
       "</style>\n",
       "<table border=\"1\" class=\"dataframe\">\n",
       "  <thead>\n",
       "    <tr style=\"text-align: right;\">\n",
       "      <th></th>\n",
       "      <th>EFConsPerCap</th>\n",
       "      <th>EFConsTotGHA</th>\n",
       "      <th>BiocapPerCap</th>\n",
       "      <th>BiocapTotGHA</th>\n",
       "    </tr>\n",
       "  </thead>\n",
       "  <tbody>\n",
       "    <tr>\n",
       "      <th>0</th>\n",
       "      <td>0.648085</td>\n",
       "      <td>12768498.74</td>\n",
       "      <td>0.509767</td>\n",
       "      <td>10043372.21</td>\n",
       "    </tr>\n",
       "    <tr>\n",
       "      <th>1</th>\n",
       "      <td>0.605820</td>\n",
       "      <td>12438205.89</td>\n",
       "      <td>0.500063</td>\n",
       "      <td>10266894.13</td>\n",
       "    </tr>\n",
       "    <tr>\n",
       "      <th>2</th>\n",
       "      <td>0.704061</td>\n",
       "      <td>15128227.46</td>\n",
       "      <td>0.570591</td>\n",
       "      <td>12260349.44</td>\n",
       "    </tr>\n",
       "    <tr>\n",
       "      <th>3</th>\n",
       "      <td>0.708856</td>\n",
       "      <td>15954511.65</td>\n",
       "      <td>0.591033</td>\n",
       "      <td>13302606.63</td>\n",
       "    </tr>\n",
       "    <tr>\n",
       "      <th>4</th>\n",
       "      <td>0.619414</td>\n",
       "      <td>14556109.86</td>\n",
       "      <td>0.502825</td>\n",
       "      <td>11816295.92</td>\n",
       "    </tr>\n",
       "  </tbody>\n",
       "</table>\n",
       "</div>"
      ],
      "text/plain": [
       "   EFConsPerCap  EFConsTotGHA  BiocapPerCap  BiocapTotGHA\n",
       "0      0.648085   12768498.74      0.509767   10043372.21\n",
       "1      0.605820   12438205.89      0.500063   10266894.13\n",
       "2      0.704061   15128227.46      0.570591   12260349.44\n",
       "3      0.708856   15954511.65      0.591033   13302606.63\n",
       "4      0.619414   14556109.86      0.502825   11816295.92"
      ]
     },
     "execution_count": 15,
     "metadata": {},
     "output_type": "execute_result"
    }
   ],
   "source": [
    "y.head()"
   ]
  },
  {
   "cell_type": "code",
   "execution_count": 16,
   "id": "4cb6d67c-d96b-41af-8559-254178adbab3",
   "metadata": {},
   "outputs": [
    {
     "data": {
      "text/plain": [
       "((2157, 2), (2157, 4))"
      ]
     },
     "execution_count": 16,
     "metadata": {},
     "output_type": "execute_result"
    }
   ],
   "source": [
    "X.shape, y.shape"
   ]
  },
  {
   "cell_type": "markdown",
   "id": "ddbf73cd-3203-443b-adfe-fdd4b2098eb8",
   "metadata": {},
   "source": [
    "#### **3.2. Splitting dataset**"
   ]
  },
  {
   "cell_type": "markdown",
   "id": "0b1f56d9-27bf-4aad-a54f-eaa788436c39",
   "metadata": {},
   "source": [
    "Melakukan splitting data menjadi data training dan data test."
   ]
  },
  {
   "cell_type": "code",
   "execution_count": 18,
   "id": "6712c5e2-c59b-45c0-b1a7-4baf11b83c7d",
   "metadata": {},
   "outputs": [],
   "source": [
    "#Memisahkan data dengan dengan jumlah tes data sebesar 20%\n",
    "\n",
    "X_train, X_test, y_train, y_test = train_test_split(X,\n",
    "                                                    y,\n",
    "                                                    test_size = 0.2,\n",
    "                                                    random_state = 42)"
   ]
  },
  {
   "cell_type": "code",
   "execution_count": 19,
   "id": "90cc1685-dae8-4056-b930-d694f6a0dbde",
   "metadata": {},
   "outputs": [
    {
     "data": {
      "text/html": [
       "<div>\n",
       "<style scoped>\n",
       "    .dataframe tbody tr th:only-of-type {\n",
       "        vertical-align: middle;\n",
       "    }\n",
       "\n",
       "    .dataframe tbody tr th {\n",
       "        vertical-align: top;\n",
       "    }\n",
       "\n",
       "    .dataframe thead th {\n",
       "        text-align: right;\n",
       "    }\n",
       "</style>\n",
       "<table border=\"1\" class=\"dataframe\">\n",
       "  <thead>\n",
       "    <tr style=\"text-align: right;\">\n",
       "      <th></th>\n",
       "      <th>hdi</th>\n",
       "      <th>continent</th>\n",
       "    </tr>\n",
       "  </thead>\n",
       "  <tbody>\n",
       "    <tr>\n",
       "      <th>1476</th>\n",
       "      <td>0.797</td>\n",
       "      <td>Asia</td>\n",
       "    </tr>\n",
       "    <tr>\n",
       "      <th>2076</th>\n",
       "      <td>0.907</td>\n",
       "      <td>North America</td>\n",
       "    </tr>\n",
       "    <tr>\n",
       "      <th>693</th>\n",
       "      <td>0.852</td>\n",
       "      <td>Europe</td>\n",
       "    </tr>\n",
       "    <tr>\n",
       "      <th>679</th>\n",
       "      <td>0.869</td>\n",
       "      <td>Europe</td>\n",
       "    </tr>\n",
       "    <tr>\n",
       "      <th>810</th>\n",
       "      <td>0.613</td>\n",
       "      <td>South America</td>\n",
       "    </tr>\n",
       "  </tbody>\n",
       "</table>\n",
       "</div>"
      ],
      "text/plain": [
       "        hdi      continent\n",
       "1476  0.797           Asia\n",
       "2076  0.907  North America\n",
       "693   0.852         Europe\n",
       "679   0.869         Europe\n",
       "810   0.613  South America"
      ]
     },
     "execution_count": 19,
     "metadata": {},
     "output_type": "execute_result"
    }
   ],
   "source": [
    "#sanity check\n",
    "\n",
    "X_train.head()"
   ]
  },
  {
   "cell_type": "code",
   "execution_count": 16,
   "id": "0d8074a0-f6bb-47b1-ac03-c0c9e524c4cf",
   "metadata": {},
   "outputs": [
    {
     "data": {
      "text/html": [
       "<div>\n",
       "<style scoped>\n",
       "    .dataframe tbody tr th:only-of-type {\n",
       "        vertical-align: middle;\n",
       "    }\n",
       "\n",
       "    .dataframe tbody tr th {\n",
       "        vertical-align: top;\n",
       "    }\n",
       "\n",
       "    .dataframe thead th {\n",
       "        text-align: right;\n",
       "    }\n",
       "</style>\n",
       "<table border=\"1\" class=\"dataframe\">\n",
       "  <thead>\n",
       "    <tr style=\"text-align: right;\">\n",
       "      <th></th>\n",
       "      <th>hdi</th>\n",
       "      <th>continent</th>\n",
       "    </tr>\n",
       "  </thead>\n",
       "  <tbody>\n",
       "    <tr>\n",
       "      <th>746</th>\n",
       "      <td>0.924</td>\n",
       "      <td>Europe</td>\n",
       "    </tr>\n",
       "    <tr>\n",
       "      <th>1677</th>\n",
       "      <td>0.381</td>\n",
       "      <td>Africa</td>\n",
       "    </tr>\n",
       "    <tr>\n",
       "      <th>1858</th>\n",
       "      <td>0.890</td>\n",
       "      <td>Europe</td>\n",
       "    </tr>\n",
       "    <tr>\n",
       "      <th>1657</th>\n",
       "      <td>0.698</td>\n",
       "      <td>Oceania</td>\n",
       "    </tr>\n",
       "    <tr>\n",
       "      <th>479</th>\n",
       "      <td>0.459</td>\n",
       "      <td>Africa</td>\n",
       "    </tr>\n",
       "  </tbody>\n",
       "</table>\n",
       "</div>"
      ],
      "text/plain": [
       "        hdi continent\n",
       "746   0.924    Europe\n",
       "1677  0.381    Africa\n",
       "1858  0.890    Europe\n",
       "1657  0.698   Oceania\n",
       "479   0.459    Africa"
      ]
     },
     "execution_count": 16,
     "metadata": {},
     "output_type": "execute_result"
    }
   ],
   "source": [
    "X_test.head()"
   ]
  },
  {
   "cell_type": "code",
   "execution_count": 17,
   "id": "8b8e8f45-8426-43e5-8b69-93bd18ba41fa",
   "metadata": {},
   "outputs": [
    {
     "data": {
      "text/html": [
       "<div>\n",
       "<style scoped>\n",
       "    .dataframe tbody tr th:only-of-type {\n",
       "        vertical-align: middle;\n",
       "    }\n",
       "\n",
       "    .dataframe tbody tr th {\n",
       "        vertical-align: top;\n",
       "    }\n",
       "\n",
       "    .dataframe thead th {\n",
       "        text-align: right;\n",
       "    }\n",
       "</style>\n",
       "<table border=\"1\" class=\"dataframe\">\n",
       "  <thead>\n",
       "    <tr style=\"text-align: right;\">\n",
       "      <th></th>\n",
       "      <th>EFConsPerCap</th>\n",
       "      <th>EFConsTotGHA</th>\n",
       "      <th>BiocapPerCap</th>\n",
       "      <th>BiocapTotGHA</th>\n",
       "    </tr>\n",
       "  </thead>\n",
       "  <tbody>\n",
       "    <tr>\n",
       "      <th>1476</th>\n",
       "      <td>5.614577</td>\n",
       "      <td>1.652791e+07</td>\n",
       "      <td>2.127948</td>\n",
       "      <td>6.264147e+06</td>\n",
       "    </tr>\n",
       "    <tr>\n",
       "      <th>2076</th>\n",
       "      <td>8.576941</td>\n",
       "      <td>2.635111e+09</td>\n",
       "      <td>3.743064</td>\n",
       "      <td>1.149989e+09</td>\n",
       "    </tr>\n",
       "    <tr>\n",
       "      <th>693</th>\n",
       "      <td>5.496209</td>\n",
       "      <td>3.303683e+08</td>\n",
       "      <td>3.027679</td>\n",
       "      <td>1.819889e+08</td>\n",
       "    </tr>\n",
       "    <tr>\n",
       "      <th>679</th>\n",
       "      <td>7.184070</td>\n",
       "      <td>3.745630e+07</td>\n",
       "      <td>13.783007</td>\n",
       "      <td>7.186184e+07</td>\n",
       "    </tr>\n",
       "    <tr>\n",
       "      <th>810</th>\n",
       "      <td>2.497830</td>\n",
       "      <td>1.854731e+06</td>\n",
       "      <td>72.262349</td>\n",
       "      <td>5.365747e+07</td>\n",
       "    </tr>\n",
       "  </tbody>\n",
       "</table>\n",
       "</div>"
      ],
      "text/plain": [
       "      EFConsPerCap  EFConsTotGHA  BiocapPerCap  BiocapTotGHA\n",
       "1476      5.614577  1.652791e+07      2.127948  6.264147e+06\n",
       "2076      8.576941  2.635111e+09      3.743064  1.149989e+09\n",
       "693       5.496209  3.303683e+08      3.027679  1.819889e+08\n",
       "679       7.184070  3.745630e+07     13.783007  7.186184e+07\n",
       "810       2.497830  1.854731e+06     72.262349  5.365747e+07"
      ]
     },
     "execution_count": 17,
     "metadata": {},
     "output_type": "execute_result"
    }
   ],
   "source": [
    "y_train.head()"
   ]
  },
  {
   "cell_type": "code",
   "execution_count": 18,
   "id": "2716fab3-fd00-4e0b-8cea-a16b8e599853",
   "metadata": {},
   "outputs": [
    {
     "data": {
      "text/plain": [
       "((1725, 2), (432, 2), (1725, 4), (432, 4))"
      ]
     },
     "execution_count": 18,
     "metadata": {},
     "output_type": "execute_result"
    }
   ],
   "source": [
    "X_train.shape, X_test.shape, y_train.shape, y_test.shape"
   ]
  },
  {
   "cell_type": "markdown",
   "id": "d949e4f8-f2d0-4c2c-aad5-995b955ce7c8",
   "metadata": {},
   "source": [
    "#### **3.3. Processing Data Kategorikal**"
   ]
  },
  {
   "cell_type": "markdown",
   "id": "3ed41be6-b502-4353-90ff-e311a3c91b14",
   "metadata": {},
   "source": [
    "Transformasi data kategorikal menjadi numerikal dengan menggunakan metode One Hot Encoding."
   ]
  },
  {
   "cell_type": "code",
   "execution_count": 20,
   "id": "b57347ab-9167-4fdb-95bd-b8c043ca94ab",
   "metadata": {},
   "outputs": [],
   "source": [
    "#Fungsi imputasi data kategorikal yang berisi null\n",
    "\n",
    "def categoricalImputation(data, categorical_column):\n",
    "    \"\"\"\n",
    "    Fungsi untuk melakukan imputasi data kategorik\n",
    "    :param data: <pandas dataframe> sample data input\n",
    "    :param categorical_column: <list> list kolom kategorikal data\n",
    "    :return categorical_data: <pandas dataframe> data kategorikal\n",
    "    \"\"\"\n",
    "    # seleksi data\n",
    "    categorical_data = data[categorical_column]\n",
    "\n",
    "    # lakukan imputasi\n",
    "    categorical_data = categorical_data.fillna(value=\"KOSONG\")\n",
    "\n",
    "    return categorical_data"
   ]
  },
  {
   "cell_type": "code",
   "execution_count": 21,
   "id": "0a1c596d-449f-4e81-9c4c-cdf080c12c21",
   "metadata": {},
   "outputs": [],
   "source": [
    "#Membuat fungsi untuk mentransformasi data kategorikal \n",
    "\n",
    "def extractCategorical(data, categorical_column):\n",
    "    \"\"\"\n",
    "    Fungsi untuk ekstrak data kategorikal dengan One Hot Encoding\n",
    "    :param data: <pandas dataframe> data sample\n",
    "    :param categorical_column: <list> list kolom kategorik\n",
    "    :return categorical_ohe: <pandas dataframe> data sample dengan ohe\n",
    "    \"\"\"\n",
    "    data_categorical = categoricalImputation(data = data,\n",
    "                                             categorical_column = categorical_column)\n",
    "    categorical_ohe = pd.get_dummies(data_categorical)\n",
    "\n",
    "    return categorical_ohe"
   ]
  },
  {
   "cell_type": "code",
   "execution_count": 22,
   "id": "91350ca6-5099-487d-abad-9e457f11166b",
   "metadata": {},
   "outputs": [
    {
     "data": {
      "text/html": [
       "<div>\n",
       "<style scoped>\n",
       "    .dataframe tbody tr th:only-of-type {\n",
       "        vertical-align: middle;\n",
       "    }\n",
       "\n",
       "    .dataframe tbody tr th {\n",
       "        vertical-align: top;\n",
       "    }\n",
       "\n",
       "    .dataframe thead th {\n",
       "        text-align: right;\n",
       "    }\n",
       "</style>\n",
       "<table border=\"1\" class=\"dataframe\">\n",
       "  <thead>\n",
       "    <tr style=\"text-align: right;\">\n",
       "      <th></th>\n",
       "      <th>continent_Africa</th>\n",
       "      <th>continent_Asia</th>\n",
       "      <th>continent_Europe</th>\n",
       "      <th>continent_North America</th>\n",
       "      <th>continent_Oceania</th>\n",
       "      <th>continent_South America</th>\n",
       "    </tr>\n",
       "  </thead>\n",
       "  <tbody>\n",
       "    <tr>\n",
       "      <th>1476</th>\n",
       "      <td>0</td>\n",
       "      <td>1</td>\n",
       "      <td>0</td>\n",
       "      <td>0</td>\n",
       "      <td>0</td>\n",
       "      <td>0</td>\n",
       "    </tr>\n",
       "    <tr>\n",
       "      <th>2076</th>\n",
       "      <td>0</td>\n",
       "      <td>0</td>\n",
       "      <td>0</td>\n",
       "      <td>1</td>\n",
       "      <td>0</td>\n",
       "      <td>0</td>\n",
       "    </tr>\n",
       "    <tr>\n",
       "      <th>693</th>\n",
       "      <td>0</td>\n",
       "      <td>0</td>\n",
       "      <td>1</td>\n",
       "      <td>0</td>\n",
       "      <td>0</td>\n",
       "      <td>0</td>\n",
       "    </tr>\n",
       "    <tr>\n",
       "      <th>679</th>\n",
       "      <td>0</td>\n",
       "      <td>0</td>\n",
       "      <td>1</td>\n",
       "      <td>0</td>\n",
       "      <td>0</td>\n",
       "      <td>0</td>\n",
       "    </tr>\n",
       "    <tr>\n",
       "      <th>810</th>\n",
       "      <td>0</td>\n",
       "      <td>0</td>\n",
       "      <td>0</td>\n",
       "      <td>0</td>\n",
       "      <td>0</td>\n",
       "      <td>1</td>\n",
       "    </tr>\n",
       "  </tbody>\n",
       "</table>\n",
       "</div>"
      ],
      "text/plain": [
       "      continent_Africa  continent_Asia  continent_Europe  \\\n",
       "1476                 0               1                 0   \n",
       "2076                 0               0                 0   \n",
       "693                  0               0                 1   \n",
       "679                  0               0                 1   \n",
       "810                  0               0                 0   \n",
       "\n",
       "      continent_North America  continent_Oceania  continent_South America  \n",
       "1476                        0                  0                        0  \n",
       "2076                        1                  0                        0  \n",
       "693                         0                  0                        0  \n",
       "679                         0                  0                        0  \n",
       "810                         0                  0                        1  "
      ]
     },
     "execution_count": 22,
     "metadata": {},
     "output_type": "execute_result"
    }
   ],
   "source": [
    "# Transformasi data kategorikal dengan menggunakan fungsi di atas\n",
    "\n",
    "X_train_categorical_ohe = extractCategorical(data = X_train,\n",
    "                                             categorical_column = ['continent'])\n",
    "X_train_categorical_ohe.head()\n"
   ]
  },
  {
   "cell_type": "code",
   "execution_count": 22,
   "id": "822530ff-901d-48da-b72b-805a4709f3a8",
   "metadata": {},
   "outputs": [
    {
     "data": {
      "text/plain": [
       "(1725, 6)"
      ]
     },
     "execution_count": 22,
     "metadata": {},
     "output_type": "execute_result"
    }
   ],
   "source": [
    "\n",
    "X_train_categorical_ohe.shape"
   ]
  },
  {
   "cell_type": "code",
   "execution_count": 64,
   "id": "1ea400f4-670a-43b9-8c60-c8f588b82c7a",
   "metadata": {},
   "outputs": [
    {
     "data": {
      "text/plain": [
       "Index(['continent_Africa', 'continent_Asia', 'continent_Europe',\n",
       "       'continent_North America', 'continent_Oceania',\n",
       "       'continent_South America'],\n",
       "      dtype='object')"
      ]
     },
     "execution_count": 64,
     "metadata": {},
     "output_type": "execute_result"
    }
   ],
   "source": [
    "#Simpan nama kolom yang telah ditansformasi \n",
    "\n",
    "ohe_columns = X_train_categorical_ohe.columns\n",
    "ohe_columns"
   ]
  },
  {
   "cell_type": "markdown",
   "id": "159a1f3d-790a-4979-89b0-da673a17767e",
   "metadata": {},
   "source": [
    "#### **3.4. Processing data numerikal**"
   ]
  },
  {
   "cell_type": "code",
   "execution_count": 23,
   "id": "2872990c-e607-4255-aff7-92f45f0147b4",
   "metadata": {},
   "outputs": [],
   "source": [
    "#Membuat fungsi imputasi pada data numerikal\n",
    "\n",
    "from sklearn.impute import SimpleImputer\n",
    "\n",
    "def numericalImputation(data, numerical_column):\n",
    "    \"\"\"\n",
    "    Fungsi untuk melakukan imputasi data numerik\n",
    "    :param data: <pandas dataframe> sample data input\n",
    "    :param numerical_column: <list> list kolom numerik data\n",
    "    :return X_train_numerical: <pandas dataframe> data numerik\n",
    "    :return imputer_numerical: numerical imputer method\n",
    "    \"\"\"\n",
    "    # Filter data numerik\n",
    "    numerical_data = data[numerical_column]\n",
    "\n",
    "    # Buat imputer\n",
    "    imputer_numerical = SimpleImputer(missing_values = np.nan,\n",
    "                                      strategy = \"median\")\n",
    "    imputer_numerical.fit(numerical_data)\n",
    "\n",
    "    # Transform\n",
    "    imputed_data = imputer_numerical.transform(numerical_data)\n",
    "    numerical_data_imputed = pd.DataFrame(imputed_data)\n",
    "\n",
    "    numerical_data_imputed.columns = numerical_column\n",
    "    numerical_data_imputed.index = numerical_data.index\n",
    "\n",
    "    return numerical_data_imputed, imputer_numerical"
   ]
  },
  {
   "cell_type": "code",
   "execution_count": 24,
   "id": "71df4de2-e144-48fc-8ecf-a3023c8066cb",
   "metadata": {},
   "outputs": [],
   "source": [
    "# Input\n",
    "numerical_column = [\"hdi\"]\n",
    "\n",
    "# Imputation Numeric\n",
    "X_train_numerical, imputer_numerical = numericalImputation(data = X_train,\n",
    "                                                           numerical_column = numerical_column)\n",
    "\n"
   ]
  },
  {
   "cell_type": "code",
   "execution_count": 25,
   "id": "5df7ab6e-9067-4bfc-a0e0-18e9c2a914da",
   "metadata": {},
   "outputs": [
    {
     "data": {
      "text/html": [
       "<div>\n",
       "<style scoped>\n",
       "    .dataframe tbody tr th:only-of-type {\n",
       "        vertical-align: middle;\n",
       "    }\n",
       "\n",
       "    .dataframe tbody tr th {\n",
       "        vertical-align: top;\n",
       "    }\n",
       "\n",
       "    .dataframe thead th {\n",
       "        text-align: right;\n",
       "    }\n",
       "</style>\n",
       "<table border=\"1\" class=\"dataframe\">\n",
       "  <thead>\n",
       "    <tr style=\"text-align: right;\">\n",
       "      <th></th>\n",
       "      <th>hdi</th>\n",
       "    </tr>\n",
       "  </thead>\n",
       "  <tbody>\n",
       "    <tr>\n",
       "      <th>1476</th>\n",
       "      <td>0.797</td>\n",
       "    </tr>\n",
       "    <tr>\n",
       "      <th>2076</th>\n",
       "      <td>0.907</td>\n",
       "    </tr>\n",
       "    <tr>\n",
       "      <th>693</th>\n",
       "      <td>0.852</td>\n",
       "    </tr>\n",
       "    <tr>\n",
       "      <th>679</th>\n",
       "      <td>0.869</td>\n",
       "    </tr>\n",
       "    <tr>\n",
       "      <th>810</th>\n",
       "      <td>0.613</td>\n",
       "    </tr>\n",
       "  </tbody>\n",
       "</table>\n",
       "</div>"
      ],
      "text/plain": [
       "        hdi\n",
       "1476  0.797\n",
       "2076  0.907\n",
       "693   0.852\n",
       "679   0.869\n",
       "810   0.613"
      ]
     },
     "execution_count": 25,
     "metadata": {},
     "output_type": "execute_result"
    }
   ],
   "source": [
    "X_train_numerical.head()"
   ]
  },
  {
   "cell_type": "code",
   "execution_count": 27,
   "id": "e8f1850a-d69f-4c73-b80b-146500d527e1",
   "metadata": {},
   "outputs": [
    {
     "data": {
      "text/plain": [
       "(1725, 1)"
      ]
     },
     "execution_count": 27,
     "metadata": {},
     "output_type": "execute_result"
    }
   ],
   "source": [
    "X_train_numerical.shape\n"
   ]
  },
  {
   "cell_type": "markdown",
   "id": "18e79f32-d8bd-4a6a-bd03-81a0444aaabe",
   "metadata": {},
   "source": [
    "#### **3.5. Penggabungan input kategorikal dan numerikal**"
   ]
  },
  {
   "cell_type": "code",
   "execution_count": 26,
   "id": "af86f85b-fb34-4bf8-96e7-7efe763b9e02",
   "metadata": {},
   "outputs": [],
   "source": [
    "#Membuat variabel yang menggabungkan data kategorikal dan numerikal\n",
    "\n",
    "X_train_concat = pd.concat([X_train_numerical,\n",
    "                            X_train_categorical_ohe],\n",
    "                           axis = 1)"
   ]
  },
  {
   "cell_type": "code",
   "execution_count": 29,
   "id": "fbaa4a87-ff30-47c5-bdb8-6b234bc7f8a8",
   "metadata": {},
   "outputs": [
    {
     "data": {
      "text/html": [
       "<div>\n",
       "<style scoped>\n",
       "    .dataframe tbody tr th:only-of-type {\n",
       "        vertical-align: middle;\n",
       "    }\n",
       "\n",
       "    .dataframe tbody tr th {\n",
       "        vertical-align: top;\n",
       "    }\n",
       "\n",
       "    .dataframe thead th {\n",
       "        text-align: right;\n",
       "    }\n",
       "</style>\n",
       "<table border=\"1\" class=\"dataframe\">\n",
       "  <thead>\n",
       "    <tr style=\"text-align: right;\">\n",
       "      <th></th>\n",
       "      <th>hdi</th>\n",
       "      <th>continent_Africa</th>\n",
       "      <th>continent_Asia</th>\n",
       "      <th>continent_Europe</th>\n",
       "      <th>continent_North America</th>\n",
       "      <th>continent_Oceania</th>\n",
       "      <th>continent_South America</th>\n",
       "    </tr>\n",
       "  </thead>\n",
       "  <tbody>\n",
       "    <tr>\n",
       "      <th>1476</th>\n",
       "      <td>0.797</td>\n",
       "      <td>0</td>\n",
       "      <td>1</td>\n",
       "      <td>0</td>\n",
       "      <td>0</td>\n",
       "      <td>0</td>\n",
       "      <td>0</td>\n",
       "    </tr>\n",
       "    <tr>\n",
       "      <th>2076</th>\n",
       "      <td>0.907</td>\n",
       "      <td>0</td>\n",
       "      <td>0</td>\n",
       "      <td>0</td>\n",
       "      <td>1</td>\n",
       "      <td>0</td>\n",
       "      <td>0</td>\n",
       "    </tr>\n",
       "    <tr>\n",
       "      <th>693</th>\n",
       "      <td>0.852</td>\n",
       "      <td>0</td>\n",
       "      <td>0</td>\n",
       "      <td>1</td>\n",
       "      <td>0</td>\n",
       "      <td>0</td>\n",
       "      <td>0</td>\n",
       "    </tr>\n",
       "    <tr>\n",
       "      <th>679</th>\n",
       "      <td>0.869</td>\n",
       "      <td>0</td>\n",
       "      <td>0</td>\n",
       "      <td>1</td>\n",
       "      <td>0</td>\n",
       "      <td>0</td>\n",
       "      <td>0</td>\n",
       "    </tr>\n",
       "    <tr>\n",
       "      <th>810</th>\n",
       "      <td>0.613</td>\n",
       "      <td>0</td>\n",
       "      <td>0</td>\n",
       "      <td>0</td>\n",
       "      <td>0</td>\n",
       "      <td>0</td>\n",
       "      <td>1</td>\n",
       "    </tr>\n",
       "  </tbody>\n",
       "</table>\n",
       "</div>"
      ],
      "text/plain": [
       "        hdi  continent_Africa  continent_Asia  continent_Europe  \\\n",
       "1476  0.797                 0               1                 0   \n",
       "2076  0.907                 0               0                 0   \n",
       "693   0.852                 0               0                 1   \n",
       "679   0.869                 0               0                 1   \n",
       "810   0.613                 0               0                 0   \n",
       "\n",
       "      continent_North America  continent_Oceania  continent_South America  \n",
       "1476                        0                  0                        0  \n",
       "2076                        1                  0                        0  \n",
       "693                         0                  0                        0  \n",
       "679                         0                  0                        0  \n",
       "810                         0                  0                        1  "
      ]
     },
     "execution_count": 29,
     "metadata": {},
     "output_type": "execute_result"
    }
   ],
   "source": [
    "X_train_concat.head()"
   ]
  },
  {
   "cell_type": "code",
   "execution_count": 30,
   "id": "4e3cfb67-7f61-44b7-a129-b5ba06b8b3a8",
   "metadata": {},
   "outputs": [
    {
     "data": {
      "text/plain": [
       "(1725, 7)"
      ]
     },
     "execution_count": 30,
     "metadata": {},
     "output_type": "execute_result"
    }
   ],
   "source": [
    "X_train_concat.shape"
   ]
  },
  {
   "cell_type": "code",
   "execution_count": 27,
   "id": "aeb1bf2a-7597-40ee-a6ad-084b61c97ed9",
   "metadata": {},
   "outputs": [
    {
     "data": {
      "text/plain": [
       "1476    False\n",
       "2076    False\n",
       "693     False\n",
       "679     False\n",
       "810     False\n",
       "        ...  \n",
       "1638     True\n",
       "1095    False\n",
       "1130     True\n",
       "1294    False\n",
       "860     False\n",
       "Length: 1725, dtype: bool"
      ]
     },
     "execution_count": 27,
     "metadata": {},
     "output_type": "execute_result"
    }
   ],
   "source": [
    "#cek duplikat\n",
    "\n",
    "X_train_concat.duplicated()"
   ]
  },
  {
   "cell_type": "code",
   "execution_count": null,
   "id": "48233b4d-1d6f-4c2c-8e2b-20169aae7311",
   "metadata": {},
   "outputs": [],
   "source": []
  },
  {
   "cell_type": "markdown",
   "id": "4e086efe-0f95-4661-896d-672f2ced4348",
   "metadata": {},
   "source": [
    "#### **3.6. Standarisasi Data**"
   ]
  },
  {
   "cell_type": "markdown",
   "id": "c290511e-2098-4013-be0c-fed2ebc8ef98",
   "metadata": {},
   "source": [
    "Melakukan standarisasi data yang telah digabungkan."
   ]
  },
  {
   "cell_type": "code",
   "execution_count": 28,
   "id": "5b8de680-905f-416d-b583-0c442e867549",
   "metadata": {},
   "outputs": [],
   "source": [
    "# fungsi untuk melakukan standarisasi data\n",
    "\n",
    "from sklearn.preprocessing import StandardScaler\n",
    "\n",
    "\n",
    "def standardizerData(data):\n",
    "    \"\"\"\n",
    "    Fungsi untuk melakukan standarisasi data\n",
    "    :param data: <pandas dataframe> sampel data\n",
    "    :return standardized_data: <pandas dataframe> sampel data standard\n",
    "    :return standardizer: method untuk standardisasi data\n",
    "    \"\"\"\n",
    "    data_columns = data.columns  # agar nama kolom tidak hilang\n",
    "    data_index = data.index  # agar index tidak hilang\n",
    "\n",
    "    # buat (fit) standardizer\n",
    "    standardizer = StandardScaler()\n",
    "    standardizer.fit(data)\n",
    "\n",
    "    # transform data\n",
    "    standardized_data_raw = standardizer.transform(data)\n",
    "    standardized_data = pd.DataFrame(standardized_data_raw)\n",
    "    standardized_data.columns = data_columns\n",
    "    standardized_data.index = data_index\n",
    "\n",
    "    return standardized_data, standardizer"
   ]
  },
  {
   "cell_type": "code",
   "execution_count": 29,
   "id": "5d30106c-d353-414e-a41d-6e8094266777",
   "metadata": {},
   "outputs": [],
   "source": [
    "#Membuat standarized data dengan fungsi di atas\n",
    "\n",
    "X_train_clean, standardizer = standardizerData(data = X_train_concat)"
   ]
  },
  {
   "cell_type": "code",
   "execution_count": 31,
   "id": "f5d37fc2-644e-4777-b768-3a83a4ab7725",
   "metadata": {},
   "outputs": [
    {
     "data": {
      "text/html": [
       "<div>\n",
       "<style scoped>\n",
       "    .dataframe tbody tr th:only-of-type {\n",
       "        vertical-align: middle;\n",
       "    }\n",
       "\n",
       "    .dataframe tbody tr th {\n",
       "        vertical-align: top;\n",
       "    }\n",
       "\n",
       "    .dataframe thead th {\n",
       "        text-align: right;\n",
       "    }\n",
       "</style>\n",
       "<table border=\"1\" class=\"dataframe\">\n",
       "  <thead>\n",
       "    <tr style=\"text-align: right;\">\n",
       "      <th></th>\n",
       "      <th>hdi</th>\n",
       "      <th>continent_Africa</th>\n",
       "      <th>continent_Asia</th>\n",
       "      <th>continent_Europe</th>\n",
       "      <th>continent_North America</th>\n",
       "      <th>continent_Oceania</th>\n",
       "      <th>continent_South America</th>\n",
       "    </tr>\n",
       "  </thead>\n",
       "  <tbody>\n",
       "    <tr>\n",
       "      <th>1476</th>\n",
       "      <td>0.787931</td>\n",
       "      <td>-0.640676</td>\n",
       "      <td>1.865615</td>\n",
       "      <td>-0.586946</td>\n",
       "      <td>-0.343441</td>\n",
       "      <td>-0.240069</td>\n",
       "      <td>-0.273434</td>\n",
       "    </tr>\n",
       "    <tr>\n",
       "      <th>2076</th>\n",
       "      <td>1.437663</td>\n",
       "      <td>-0.640676</td>\n",
       "      <td>-0.536016</td>\n",
       "      <td>-0.586946</td>\n",
       "      <td>2.911704</td>\n",
       "      <td>-0.240069</td>\n",
       "      <td>-0.273434</td>\n",
       "    </tr>\n",
       "    <tr>\n",
       "      <th>693</th>\n",
       "      <td>1.112797</td>\n",
       "      <td>-0.640676</td>\n",
       "      <td>-0.536016</td>\n",
       "      <td>1.703736</td>\n",
       "      <td>-0.343441</td>\n",
       "      <td>-0.240069</td>\n",
       "      <td>-0.273434</td>\n",
       "    </tr>\n",
       "    <tr>\n",
       "      <th>679</th>\n",
       "      <td>1.213210</td>\n",
       "      <td>-0.640676</td>\n",
       "      <td>-0.536016</td>\n",
       "      <td>1.703736</td>\n",
       "      <td>-0.343441</td>\n",
       "      <td>-0.240069</td>\n",
       "      <td>-0.273434</td>\n",
       "    </tr>\n",
       "    <tr>\n",
       "      <th>810</th>\n",
       "      <td>-0.298894</td>\n",
       "      <td>-0.640676</td>\n",
       "      <td>-0.536016</td>\n",
       "      <td>-0.586946</td>\n",
       "      <td>-0.343441</td>\n",
       "      <td>-0.240069</td>\n",
       "      <td>3.657185</td>\n",
       "    </tr>\n",
       "  </tbody>\n",
       "</table>\n",
       "</div>"
      ],
      "text/plain": [
       "           hdi  continent_Africa  continent_Asia  continent_Europe  \\\n",
       "1476  0.787931         -0.640676        1.865615         -0.586946   \n",
       "2076  1.437663         -0.640676       -0.536016         -0.586946   \n",
       "693   1.112797         -0.640676       -0.536016          1.703736   \n",
       "679   1.213210         -0.640676       -0.536016          1.703736   \n",
       "810  -0.298894         -0.640676       -0.536016         -0.586946   \n",
       "\n",
       "      continent_North America  continent_Oceania  continent_South America  \n",
       "1476                -0.343441          -0.240069                -0.273434  \n",
       "2076                 2.911704          -0.240069                -0.273434  \n",
       "693                 -0.343441          -0.240069                -0.273434  \n",
       "679                 -0.343441          -0.240069                -0.273434  \n",
       "810                 -0.343441          -0.240069                 3.657185  "
      ]
     },
     "execution_count": 31,
     "metadata": {},
     "output_type": "execute_result"
    }
   ],
   "source": [
    "X_train_clean.head()"
   ]
  },
  {
   "cell_type": "code",
   "execution_count": 32,
   "id": "6104d6a9-fb12-4b4d-8db6-1d61e95c31f8",
   "metadata": {},
   "outputs": [
    {
     "data": {
      "text/plain": [
       "(1725, 7)"
      ]
     },
     "execution_count": 32,
     "metadata": {},
     "output_type": "execute_result"
    }
   ],
   "source": [
    "X_train_clean.shape"
   ]
  },
  {
   "cell_type": "code",
   "execution_count": null,
   "id": "b6910467-086e-4b45-bc1e-9bdc07b3b84f",
   "metadata": {},
   "outputs": [],
   "source": []
  },
  {
   "cell_type": "markdown",
   "id": "baf54af7-9368-42a8-a9a1-b36a18670896",
   "metadata": {
    "tags": []
   },
   "source": [
    "#### **3.7.Feature Engineering: Principal Component Analysis (PCA)**"
   ]
  },
  {
   "cell_type": "code",
   "execution_count": 33,
   "id": "bc63ed3f-6f82-4b33-9b2d-31cdb511bb78",
   "metadata": {},
   "outputs": [],
   "source": [
    "from sklearn.decomposition import PCA"
   ]
  },
  {
   "cell_type": "code",
   "execution_count": 34,
   "id": "d0dbc2b7-e691-4cba-94a4-2d940efdec4f",
   "metadata": {},
   "outputs": [
    {
     "data": {
      "text/plain": [
       "PCA(n_components=5)"
      ]
     },
     "execution_count": 34,
     "metadata": {},
     "output_type": "execute_result"
    }
   ],
   "source": [
    "# Buat objek\n",
    "pca_object = PCA(n_components = 5)\n",
    "\n",
    "# Fit objek\n",
    "pca_train_object = pca_object.fit(X_train_clean)\n",
    "pca_train_object"
   ]
  },
  {
   "cell_type": "code",
   "execution_count": 35,
   "id": "45708e5b-fa6d-464c-96d4-94a0ed544861",
   "metadata": {},
   "outputs": [
    {
     "data": {
      "text/plain": [
       "array([[-0.63033234,  0.59674895, -0.04856585, -0.48648159, -0.06205153,\n",
       "        -0.02188018, -0.05674253],\n",
       "       [-0.01218745, -0.33865866,  0.79679653, -0.49344656,  0.06282786,\n",
       "         0.03504844,  0.04014762],\n",
       "       [ 0.020749  , -0.15755802, -0.35574443, -0.32839219,  0.77884599,\n",
       "         0.20889923,  0.30018237],\n",
       "       [ 0.0107065 , -0.05459341, -0.10752476, -0.11327609, -0.49657635,\n",
       "         0.30455529,  0.79571973],\n",
       "       [-0.00828529, -0.05504911, -0.04848429, -0.02692517, -0.11822415,\n",
       "         0.8919725 , -0.42922414]])"
      ]
     },
     "execution_count": 35,
     "metadata": {},
     "output_type": "execute_result"
    }
   ],
   "source": [
    "# Ekstrak principal components\n",
    "pca_train_object.components_\n",
    "\n",
    "# Baris 1 --> PC 1\n",
    "# Baris 2 -->  PC 2\n",
    "# Baris 3 --> PC 3\n",
    "# Baris 4 -->  PC 4\n",
    "# Baris 5 --> PC 5"
   ]
  },
  {
   "cell_type": "code",
   "execution_count": 36,
   "id": "2af9360f-196c-49e8-898c-c039b71e94fa",
   "metadata": {},
   "outputs": [
    {
     "data": {
      "text/plain": [
       "array([0.30165722, 0.18751937, 0.16535326, 0.15560571, 0.15185974])"
      ]
     },
     "execution_count": 36,
     "metadata": {},
     "output_type": "execute_result"
    }
   ],
   "source": [
    "# Ekstrak variance yang dijelaskan\n",
    "pca_train_object.explained_variance_ratio_"
   ]
  },
  {
   "cell_type": "code",
   "execution_count": null,
   "id": "2ad2d5e6-1fb0-424d-8744-d17bf3acee18",
   "metadata": {},
   "outputs": [],
   "source": []
  },
  {
   "cell_type": "code",
   "execution_count": 37,
   "id": "d7235115-4a5b-472c-8394-e2e7410639f6",
   "metadata": {},
   "outputs": [
    {
     "data": {
      "text/html": [
       "<div>\n",
       "<style scoped>\n",
       "    .dataframe tbody tr th:only-of-type {\n",
       "        vertical-align: middle;\n",
       "    }\n",
       "\n",
       "    .dataframe tbody tr th {\n",
       "        vertical-align: top;\n",
       "    }\n",
       "\n",
       "    .dataframe thead th {\n",
       "        text-align: right;\n",
       "    }\n",
       "</style>\n",
       "<table border=\"1\" class=\"dataframe\">\n",
       "  <thead>\n",
       "    <tr style=\"text-align: right;\">\n",
       "      <th></th>\n",
       "      <th>PC-1</th>\n",
       "      <th>PC-2</th>\n",
       "      <th>PC-3</th>\n",
       "      <th>PC-4</th>\n",
       "      <th>PC-5</th>\n",
       "    </tr>\n",
       "  </thead>\n",
       "  <tbody>\n",
       "    <tr>\n",
       "      <th>1476</th>\n",
       "      <td>-0.641969</td>\n",
       "      <td>1.942540</td>\n",
       "      <td>-0.753360</td>\n",
       "      <td>-0.210847</td>\n",
       "      <td>-0.102077</td>\n",
       "    </tr>\n",
       "    <tr>\n",
       "      <th>2076</th>\n",
       "      <td>-1.136865</td>\n",
       "      <td>0.225524</td>\n",
       "      <td>2.649746</td>\n",
       "      <td>-1.562084</td>\n",
       "      <td>-0.375855</td>\n",
       "    </tr>\n",
       "    <tr>\n",
       "      <th>693</th>\n",
       "      <td>-1.844479</td>\n",
       "      <td>-1.105359</td>\n",
       "      <td>-0.644494</td>\n",
       "      <td>-0.208613</td>\n",
       "      <td>-0.050004</td>\n",
       "    </tr>\n",
       "    <tr>\n",
       "      <th>679</th>\n",
       "      <td>-1.907773</td>\n",
       "      <td>-1.106583</td>\n",
       "      <td>-0.642411</td>\n",
       "      <td>-0.207538</td>\n",
       "      <td>-0.050836</td>\n",
       "    </tr>\n",
       "    <tr>\n",
       "      <th>810</th>\n",
       "      <td>-0.063304</td>\n",
       "      <td>0.199979</td>\n",
       "      <td>1.258359</td>\n",
       "      <td>3.163423</td>\n",
       "      <td>-1.663747</td>\n",
       "    </tr>\n",
       "  </tbody>\n",
       "</table>\n",
       "</div>"
      ],
      "text/plain": [
       "          PC-1      PC-2      PC-3      PC-4      PC-5\n",
       "1476 -0.641969  1.942540 -0.753360 -0.210847 -0.102077\n",
       "2076 -1.136865  0.225524  2.649746 -1.562084 -0.375855\n",
       "693  -1.844479 -1.105359 -0.644494 -0.208613 -0.050004\n",
       "679  -1.907773 -1.106583 -0.642411 -0.207538 -0.050836\n",
       "810  -0.063304  0.199979  1.258359  3.163423 -1.663747"
      ]
     },
     "execution_count": 37,
     "metadata": {},
     "output_type": "execute_result"
    }
   ],
   "source": [
    "#generate dataframe dengan fitur dari PCA\n",
    "X_train_pca = pca_object.transform(X_train_clean)\n",
    "X_train_pca = pd.DataFrame(data = X_train_pca,\n",
    "                                 columns = [f\"PC-{i+1}\" for i in range(5)],\n",
    "                                 index = X_train.index)\n",
    "\n",
    "X_train_pca.head()"
   ]
  },
  {
   "cell_type": "markdown",
   "id": "a466829c-7808-4a0a-9821-da86fafbfb87",
   "metadata": {},
   "source": [
    "### IV.TRAINING"
   ]
  },
  {
   "cell_type": "markdown",
   "id": "2907065c-4566-4dd4-9cf5-15d1ee3df98c",
   "metadata": {},
   "source": [
    "Melakukan data training pada dataset input dan output dengan polynomial regression."
   ]
  },
  {
   "cell_type": "code",
   "execution_count": null,
   "id": "56f05d05-4c33-4b4d-b6d9-554633cb908e",
   "metadata": {},
   "outputs": [],
   "source": []
  },
  {
   "cell_type": "code",
   "execution_count": 38,
   "id": "41fb3da7-200f-4ed0-8fbf-4cb91bd6d58c",
   "metadata": {},
   "outputs": [],
   "source": [
    "# Import library\n",
    "from sklearn.preprocessing import PolynomialFeatures\n",
    "from sklearn.pipeline import Pipeline\n",
    "from sklearn.linear_model import LinearRegression\n",
    "from sklearn.metrics import mean_squared_error, mean_absolute_percentage_error\n",
    "\n",
    "from sklearn.model_selection import cross_val_score"
   ]
  },
  {
   "cell_type": "code",
   "execution_count": 39,
   "id": "861da0a6-aff5-4b2b-ae82-8dfea2d483f5",
   "metadata": {},
   "outputs": [],
   "source": [
    "#Membuat variabel untuk library polynomial\n",
    "poly = PolynomialFeatures(degree=2, include_bias=False)"
   ]
  },
  {
   "cell_type": "code",
   "execution_count": 40,
   "id": "aaae786c-05b6-492e-a106-c8c516a4e458",
   "metadata": {},
   "outputs": [
    {
     "name": "stdout",
     "output_type": "stream",
     "text": [
      "3.3612194603049264\n"
     ]
    }
   ],
   "source": [
    "#membuat baseline\n",
    "baseline_pred = np.mean(y_train['EFConsPerCap'])\n",
    "print(baseline_pred)"
   ]
  },
  {
   "cell_type": "code",
   "execution_count": 41,
   "id": "f3479db0-76e9-43d8-9deb-cbc5db60fc8f",
   "metadata": {},
   "outputs": [
    {
     "name": "stdout",
     "output_type": "stream",
     "text": [
      "7.270068272974851\n"
     ]
    }
   ],
   "source": [
    "baseline_mse = mean_squared_error(y_train[\"EFConsPerCap\"], \n",
    "                                  np.ones(len(y_train[\"EFConsPerCap\"])) * baseline_pred)\n",
    "print(baseline_mse)"
   ]
  },
  {
   "cell_type": "code",
   "execution_count": 42,
   "id": "9804141c-1c2b-48b1-ad07-d8f3e420db82",
   "metadata": {},
   "outputs": [],
   "source": [
    "#membuat model pipeline yang melakukan intersepsi regresi linear ke dalam regresi polinomial\n",
    "model = Pipeline([('poly', PolynomialFeatures(degree=2, include_bias=False)),\n",
    "    ('linear', LinearRegression(fit_intercept=False))])"
   ]
  },
  {
   "cell_type": "code",
   "execution_count": 43,
   "id": "a45f696c-d514-426d-b6e9-0c47227000da",
   "metadata": {},
   "outputs": [],
   "source": [
    "# Melakukan cross validation\n",
    "\n",
    "scores_poly = cross_val_score(model, X_train_pca,y_train[\"EFConsPerCap\"],scoring='neg_mean_squared_error',\n",
    "                            cv = 5, n_jobs = -1)"
   ]
  },
  {
   "cell_type": "code",
   "execution_count": 44,
   "id": "5b611cf8-0b18-4b64-b002-fdf18f2afa4f",
   "metadata": {},
   "outputs": [
    {
     "data": {
      "text/plain": [
       "array([-3.22797359, -2.79325424, -3.12339213, -2.83953113, -1.88736533])"
      ]
     },
     "execution_count": 44,
     "metadata": {},
     "output_type": "execute_result"
    }
   ],
   "source": [
    "scores_poly"
   ]
  },
  {
   "cell_type": "code",
   "execution_count": 81,
   "id": "4aef3abf-8bd7-418e-ad9e-70d6ceebace2",
   "metadata": {},
   "outputs": [
    {
     "data": {
      "text/plain": [
       "2.7743032824769385"
      ]
     },
     "execution_count": 81,
     "metadata": {},
     "output_type": "execute_result"
    }
   ],
   "source": [
    "np.mean(scores_poly)*-1"
   ]
  },
  {
   "cell_type": "code",
   "execution_count": 45,
   "id": "6ef670be-28db-493c-931f-1b5f44c7d686",
   "metadata": {},
   "outputs": [
    {
     "data": {
      "text/plain": [
       "Pipeline(steps=[('poly', PolynomialFeatures(include_bias=False)),\n",
       "                ('linear', LinearRegression(fit_intercept=False))])"
      ]
     },
     "execution_count": 45,
     "metadata": {},
     "output_type": "execute_result"
    }
   ],
   "source": [
    "#fitting model pipeline dengan data training\n",
    "model.fit(X = X_train_pca,\n",
    "       y = y_train[\"EFConsPerCap\"])"
   ]
  },
  {
   "cell_type": "code",
   "execution_count": 46,
   "id": "dff4e587-f8de-48ee-9301-10032c67f2a7",
   "metadata": {},
   "outputs": [],
   "source": [
    "#melakukan prediksi dengan model di atas\n",
    "y_pred_poly = model.predict(X_train_pca)"
   ]
  },
  {
   "cell_type": "code",
   "execution_count": 47,
   "id": "180a5648-20fb-476a-83a7-01087fcf521c",
   "metadata": {},
   "outputs": [
    {
     "data": {
      "text/plain": [
       "array([5.93135205, 7.21233188, 5.78808313, ..., 5.18959865, 1.85733515,\n",
       "       4.99323765])"
      ]
     },
     "execution_count": 47,
     "metadata": {},
     "output_type": "execute_result"
    }
   ],
   "source": [
    "y_pred_poly"
   ]
  },
  {
   "cell_type": "code",
   "execution_count": 48,
   "id": "66c90972-4e00-4ba3-846f-6b1950c0d14a",
   "metadata": {},
   "outputs": [
    {
     "data": {
      "text/html": [
       "<div>\n",
       "<style scoped>\n",
       "    .dataframe tbody tr th:only-of-type {\n",
       "        vertical-align: middle;\n",
       "    }\n",
       "\n",
       "    .dataframe tbody tr th {\n",
       "        vertical-align: top;\n",
       "    }\n",
       "\n",
       "    .dataframe thead th {\n",
       "        text-align: right;\n",
       "    }\n",
       "</style>\n",
       "<table border=\"1\" class=\"dataframe\">\n",
       "  <thead>\n",
       "    <tr style=\"text-align: right;\">\n",
       "      <th></th>\n",
       "      <th>actual</th>\n",
       "      <th>prediction</th>\n",
       "    </tr>\n",
       "  </thead>\n",
       "  <tbody>\n",
       "    <tr>\n",
       "      <th>1476</th>\n",
       "      <td>5.614577</td>\n",
       "      <td>5.931352</td>\n",
       "    </tr>\n",
       "    <tr>\n",
       "      <th>2076</th>\n",
       "      <td>8.576941</td>\n",
       "      <td>7.212332</td>\n",
       "    </tr>\n",
       "    <tr>\n",
       "      <th>693</th>\n",
       "      <td>5.496209</td>\n",
       "      <td>5.788083</td>\n",
       "    </tr>\n",
       "    <tr>\n",
       "      <th>679</th>\n",
       "      <td>7.184070</td>\n",
       "      <td>6.172142</td>\n",
       "    </tr>\n",
       "    <tr>\n",
       "      <th>810</th>\n",
       "      <td>2.497830</td>\n",
       "      <td>2.196007</td>\n",
       "    </tr>\n",
       "  </tbody>\n",
       "</table>\n",
       "</div>"
      ],
      "text/plain": [
       "        actual  prediction\n",
       "1476  5.614577    5.931352\n",
       "2076  8.576941    7.212332\n",
       "693   5.496209    5.788083\n",
       "679   7.184070    6.172142\n",
       "810   2.497830    2.196007"
      ]
     },
     "execution_count": 48,
     "metadata": {},
     "output_type": "execute_result"
    }
   ],
   "source": [
    "#membuat dataframe summary komparasi antara hasil aktual dan prediksi\n",
    "summary_train_pred = pd.DataFrame({\"actual\": y_train['EFConsPerCap'],\n",
    "                                   \"prediction\": y_pred_poly})\n",
    "\n",
    "summary_train_pred.head()"
   ]
  },
  {
   "cell_type": "code",
   "execution_count": 49,
   "id": "723b5d4c-3bfa-4022-8cae-dd6e40f59472",
   "metadata": {},
   "outputs": [
    {
     "data": {
      "image/png": "[encoded data removed]",
      "text/plain": [
       "<Figure size 1000x1000 with 1 Axes>"
      ]
     },
     "metadata": {},
     "output_type": "display_data"
    }
   ],
   "source": [
    "fig, ax = plt.subplots(nrows=1, ncols=1, figsize=(10, 10))\n",
    "\n",
    "ax.scatter(summary_train_pred[\"actual\"], summary_train_pred[\"prediction\"])\n",
    "ax.plot([0, 30], [0, 30], \"--k\")\n",
    "\n",
    "ax.set_xlabel(\"Actual\")\n",
    "ax.set_ylabel(\"Prediction\")\n",
    "ax.set_xlim(0, 20)\n",
    "ax.set_ylim(0, 10)\n",
    "plt.show()"
   ]
  },
  {
   "cell_type": "code",
   "execution_count": 50,
   "id": "cda76566-2622-40b0-a779-9b09991b3758",
   "metadata": {},
   "outputs": [
    {
     "name": "stdout",
     "output_type": "stream",
     "text": [
      "2.7331845481363963\n"
     ]
    }
   ],
   "source": [
    "#Melakukan analisis error\n",
    "\n",
    "# Cari MSE\n",
    "prediction_train_mse = mean_squared_error(y_pred_poly, y_train['EFConsPerCap'])\n",
    "print(prediction_train_mse)"
   ]
  },
  {
   "cell_type": "code",
   "execution_count": 51,
   "id": "7371f3b6-c06e-455c-b043-dc134900a842",
   "metadata": {},
   "outputs": [
    {
     "name": "stdout",
     "output_type": "stream",
     "text": [
      "MSE turun 62.40 %\n"
     ]
    }
   ],
   "source": [
    "# Cari perbandingan dengan baseline\n",
    "comparison_mse = 100*(baseline_mse - prediction_train_mse) / baseline_mse\n",
    "print(f\"MSE turun {comparison_mse:.2f} %\")"
   ]
  },
  {
   "cell_type": "code",
   "execution_count": null,
   "id": "5d3d2293-fbb7-4041-ae3d-84547c3180d5",
   "metadata": {},
   "outputs": [],
   "source": []
  },
  {
   "cell_type": "code",
   "execution_count": 56,
   "id": "031b23d3-193c-47c7-ba5a-cc25b6de71bb",
   "metadata": {},
   "outputs": [],
   "source": [
    "#menampilkan hasil regresi polinomial\n",
    "\n",
    "#fitting dan transform data training\n",
    "poly_features = poly.fit_transform(X_train_pca)"
   ]
  },
  {
   "cell_type": "code",
   "execution_count": 57,
   "id": "18704e81-3385-4334-80b8-cab4e6275e13",
   "metadata": {},
   "outputs": [
    {
     "data": {
      "text/plain": [
       "LinearRegression()"
      ]
     },
     "execution_count": 57,
     "metadata": {},
     "output_type": "execute_result"
    }
   ],
   "source": [
    "#fitting ke regresi linear\n",
    "poly_reg_model = LinearRegression()\n",
    "poly_reg_model.fit(poly_features, y_train['EFConsPerCap'])"
   ]
  },
  {
   "cell_type": "code",
   "execution_count": 58,
   "id": "cacbd696-fe70-443b-a4dc-75c9008b7cc4",
   "metadata": {},
   "outputs": [
    {
     "data": {
      "text/plain": [
       "array([-7.01734619e+10,  2.30314834e+12, -1.44751723e+12,  1.26006117e+12,\n",
       "       -4.59352183e+10,  4.27143562e+09,  1.19786440e+11,  3.13755304e+11,\n",
       "        1.48683519e+08, -4.01963896e+10, -2.86730509e+12, -1.73634924e+11,\n",
       "        4.53084371e+11, -5.27055045e+11,  3.81851807e+12,  3.27135119e+12,\n",
       "       -2.61713715e+11, -3.61016725e+12, -1.81561657e+12,  4.15878127e+11])"
      ]
     },
     "execution_count": 58,
     "metadata": {},
     "output_type": "execute_result"
    }
   ],
   "source": [
    "poly_reg_model.coef_"
   ]
  },
  {
   "cell_type": "code",
   "execution_count": 59,
   "id": "6dc7bc72-d9f5-44f0-ad0e-5c16745437ee",
   "metadata": {},
   "outputs": [
    {
     "data": {
      "text/plain": [
       "2825128632905.5366"
      ]
     },
     "execution_count": 59,
     "metadata": {},
     "output_type": "execute_result"
    }
   ],
   "source": [
    "poly_reg_model.intercept_"
   ]
  },
  {
   "cell_type": "markdown",
   "id": "6e1eae9f-6825-4a41-90b4-332273509c3a",
   "metadata": {},
   "source": [
    "### V.MELAKUKAN PREDIKSI"
   ]
  },
  {
   "cell_type": "markdown",
   "id": "864c87ac-f427-4ba4-9e67-cd1d4532ac76",
   "metadata": {},
   "source": [
    "#### **5.1.Preprocessing Data Pengetesan**"
   ]
  },
  {
   "cell_type": "code",
   "execution_count": 62,
   "id": "ea70610d-f9db-4014-b871-7b83b83ee36e",
   "metadata": {},
   "outputs": [],
   "source": [
    "def extractTest(data,\n",
    "                numerical_column, categorical_column, ohe_column,\n",
    "                imputer_numerical, standardizer):\n",
    "    \"\"\"\n",
    "    Fungsi untuk mengekstrak & membersihkan test data \n",
    "    :param data: <pandas dataframe> sampel data test\n",
    "    :param numerical_column: <list> kolom numerik\n",
    "    :param categorical_column: <list> kolom kategorik\n",
    "    :param ohe_column: <list> kolom one-hot-encoding dari data kategorik\n",
    "    :param imputer_numerical: <sklearn method> imputer data numerik\n",
    "    :param standardizer: <sklearn method> standardizer data\n",
    "    :return cleaned_data: <pandas dataframe> data final\n",
    "    \"\"\"\n",
    "    # Filter data\n",
    "    numerical_data = data[numerical_column]\n",
    "    categorical_data = data[categorical_column]\n",
    "\n",
    "    # Proses data numerik\n",
    "    numerical_data = pd.DataFrame(imputer_numerical.transform(numerical_data))\n",
    "    numerical_data.columns = numerical_column\n",
    "    numerical_data.index = data.index\n",
    "\n",
    "    # Proses data kategorik\n",
    "    categorical_data = categorical_data.fillna(value=\"KOSONG\")\n",
    "    categorical_data.index = data.index\n",
    "    categorical_data = pd.get_dummies(categorical_data)\n",
    "    categorical_data.reindex(index = categorical_data.index, \n",
    "                             columns = ohe_column)\n",
    "\n",
    "    # Gabungkan data\n",
    "    concat_data = pd.concat([numerical_data, categorical_data],\n",
    "                             axis = 1)\n",
    "    cleaned_data = pd.DataFrame(standardizer.transform(concat_data))\n",
    "    cleaned_data.columns = concat_data.columns\n",
    "\n",
    "    return cleaned_data\n"
   ]
  },
  {
   "cell_type": "code",
   "execution_count": 65,
   "id": "56c7d11d-25f7-4101-a542-ae9102106335",
   "metadata": {},
   "outputs": [],
   "source": [
    "X_test_clean = extractTest(data = X_test,\n",
    "                           numerical_column = numerical_column,\n",
    "                           categorical_column = ['continent'],\n",
    "                           ohe_column = ohe_columns,\n",
    "                           imputer_numerical = imputer_numerical,\n",
    "                           standardizer = standardizer)"
   ]
  },
  {
   "cell_type": "code",
   "execution_count": 66,
   "id": "42e7ead4-e0ab-44a6-bdbb-1f9c46fb4fc5",
   "metadata": {},
   "outputs": [
    {
     "data": {
      "text/html": [
       "<div>\n",
       "<style scoped>\n",
       "    .dataframe tbody tr th:only-of-type {\n",
       "        vertical-align: middle;\n",
       "    }\n",
       "\n",
       "    .dataframe tbody tr th {\n",
       "        vertical-align: top;\n",
       "    }\n",
       "\n",
       "    .dataframe thead th {\n",
       "        text-align: right;\n",
       "    }\n",
       "</style>\n",
       "<table border=\"1\" class=\"dataframe\">\n",
       "  <thead>\n",
       "    <tr style=\"text-align: right;\">\n",
       "      <th></th>\n",
       "      <th>hdi</th>\n",
       "      <th>continent_Africa</th>\n",
       "      <th>continent_Asia</th>\n",
       "      <th>continent_Europe</th>\n",
       "      <th>continent_North America</th>\n",
       "      <th>continent_Oceania</th>\n",
       "      <th>continent_South America</th>\n",
       "    </tr>\n",
       "  </thead>\n",
       "  <tbody>\n",
       "    <tr>\n",
       "      <th>0</th>\n",
       "      <td>1.538076</td>\n",
       "      <td>-0.640676</td>\n",
       "      <td>-0.536016</td>\n",
       "      <td>1.703736</td>\n",
       "      <td>-0.343441</td>\n",
       "      <td>-0.240069</td>\n",
       "      <td>-0.273434</td>\n",
       "    </tr>\n",
       "    <tr>\n",
       "      <th>1</th>\n",
       "      <td>-1.669238</td>\n",
       "      <td>1.560851</td>\n",
       "      <td>-0.536016</td>\n",
       "      <td>-0.586946</td>\n",
       "      <td>-0.343441</td>\n",
       "      <td>-0.240069</td>\n",
       "      <td>-0.273434</td>\n",
       "    </tr>\n",
       "    <tr>\n",
       "      <th>2</th>\n",
       "      <td>1.337249</td>\n",
       "      <td>-0.640676</td>\n",
       "      <td>-0.536016</td>\n",
       "      <td>1.703736</td>\n",
       "      <td>-0.343441</td>\n",
       "      <td>-0.240069</td>\n",
       "      <td>-0.273434</td>\n",
       "    </tr>\n",
       "    <tr>\n",
       "      <th>3</th>\n",
       "      <td>0.203172</td>\n",
       "      <td>-0.640676</td>\n",
       "      <td>-0.536016</td>\n",
       "      <td>-0.586946</td>\n",
       "      <td>-0.343441</td>\n",
       "      <td>4.165461</td>\n",
       "      <td>-0.273434</td>\n",
       "    </tr>\n",
       "    <tr>\n",
       "      <th>4</th>\n",
       "      <td>-1.208519</td>\n",
       "      <td>1.560851</td>\n",
       "      <td>-0.536016</td>\n",
       "      <td>-0.586946</td>\n",
       "      <td>-0.343441</td>\n",
       "      <td>-0.240069</td>\n",
       "      <td>-0.273434</td>\n",
       "    </tr>\n",
       "  </tbody>\n",
       "</table>\n",
       "</div>"
      ],
      "text/plain": [
       "        hdi  continent_Africa  continent_Asia  continent_Europe  \\\n",
       "0  1.538076         -0.640676       -0.536016          1.703736   \n",
       "1 -1.669238          1.560851       -0.536016         -0.586946   \n",
       "2  1.337249         -0.640676       -0.536016          1.703736   \n",
       "3  0.203172         -0.640676       -0.536016         -0.586946   \n",
       "4 -1.208519          1.560851       -0.536016         -0.586946   \n",
       "\n",
       "   continent_North America  continent_Oceania  continent_South America  \n",
       "0                -0.343441          -0.240069                -0.273434  \n",
       "1                -0.343441          -0.240069                -0.273434  \n",
       "2                -0.343441          -0.240069                -0.273434  \n",
       "3                -0.343441           4.165461                -0.273434  \n",
       "4                -0.343441          -0.240069                -0.273434  "
      ]
     },
     "execution_count": 66,
     "metadata": {},
     "output_type": "execute_result"
    }
   ],
   "source": [
    "X_test_clean.head()"
   ]
  },
  {
   "cell_type": "markdown",
   "id": "8244065e-a500-4452-b9d9-a0b9eeeb237b",
   "metadata": {},
   "source": [
    "#### **5.2. Feature Engineering: PCA Pada Data Pengetesan**"
   ]
  },
  {
   "cell_type": "code",
   "execution_count": 67,
   "id": "5a9c095e-e541-4aff-b456-92597d436c68",
   "metadata": {},
   "outputs": [
    {
     "data": {
      "text/plain": [
       "PCA(n_components=5)"
      ]
     },
     "execution_count": 67,
     "metadata": {},
     "output_type": "execute_result"
    }
   ],
   "source": [
    "# Bbuat objek PCA untuk x_test\n",
    "\n",
    "# Fit objek\n",
    "pca_test_object = pca_object.fit(X_test_clean)\n",
    "pca_test_object"
   ]
  },
  {
   "cell_type": "code",
   "execution_count": 68,
   "id": "45313915-af75-43bc-bf63-648aa3ce7004",
   "metadata": {},
   "outputs": [
    {
     "data": {
      "text/plain": [
       "array([[-0.62147964,  0.6359645 , -0.07420867, -0.39415379, -0.05975003,\n",
       "        -0.07593677, -0.19776658],\n",
       "       [-0.0924373 , -0.00637945, -0.17342032, -0.27299631, -0.08298508,\n",
       "        -0.07937441,  0.93467975],\n",
       "       [-0.06200004, -0.27436818,  0.81995094, -0.49829941,  0.01160313,\n",
       "        -0.01095016, -0.0013111 ],\n",
       "       [-0.00665439, -0.10085921, -0.21022605, -0.3037006 ,  0.23243235,\n",
       "         0.89345964, -0.03254473],\n",
       "       [-0.01081676, -0.10438076, -0.15980557, -0.17548743,  0.90152181,\n",
       "        -0.34480864, -0.03192841]])"
      ]
     },
     "execution_count": 68,
     "metadata": {},
     "output_type": "execute_result"
    }
   ],
   "source": [
    "# Ekstrak principal components\n",
    "pca_test_object.components_\n",
    "\n",
    "# Baris 1 --> PC 1\n",
    "# Baris 2 --> PC 2\n",
    "# Baris 3 --> PC 3\n",
    "# Baris 4 -->  PC 4\n",
    "# Baris 5 --> PC 5"
   ]
  },
  {
   "cell_type": "code",
   "execution_count": 69,
   "id": "7b7a871f-c396-41f7-a619-a1216cc8a94e",
   "metadata": {},
   "outputs": [
    {
     "data": {
      "text/plain": [
       "array([0.28175176, 0.21199262, 0.16845897, 0.15462307, 0.14923263])"
      ]
     },
     "execution_count": 69,
     "metadata": {},
     "output_type": "execute_result"
    }
   ],
   "source": [
    "# Ekstrak variance yang dijelaskan\n",
    "pca_test_object.explained_variance_ratio_"
   ]
  },
  {
   "cell_type": "code",
   "execution_count": 70,
   "id": "d9a2938f-20f7-4f5d-bb6a-1b09b67489af",
   "metadata": {},
   "outputs": [
    {
     "data": {
      "text/html": [
       "<div>\n",
       "<style scoped>\n",
       "    .dataframe tbody tr th:only-of-type {\n",
       "        vertical-align: middle;\n",
       "    }\n",
       "\n",
       "    .dataframe tbody tr th {\n",
       "        vertical-align: top;\n",
       "    }\n",
       "\n",
       "    .dataframe thead th {\n",
       "        text-align: right;\n",
       "    }\n",
       "</style>\n",
       "<table border=\"1\" class=\"dataframe\">\n",
       "  <thead>\n",
       "    <tr style=\"text-align: right;\">\n",
       "      <th></th>\n",
       "      <th>PC-1</th>\n",
       "      <th>PC-2</th>\n",
       "      <th>PC-3</th>\n",
       "      <th>PC-4</th>\n",
       "      <th>PC-5</th>\n",
       "    </tr>\n",
       "  </thead>\n",
       "  <tbody>\n",
       "    <tr>\n",
       "      <th>746</th>\n",
       "      <td>-1.905823</td>\n",
       "      <td>-0.867025</td>\n",
       "      <td>-1.218299</td>\n",
       "      <td>-0.666258</td>\n",
       "      <td>-0.375436</td>\n",
       "    </tr>\n",
       "    <tr>\n",
       "      <th>1677</th>\n",
       "      <td>2.390431</td>\n",
       "      <td>0.040754</td>\n",
       "      <td>-0.482030</td>\n",
       "      <td>-0.171278</td>\n",
       "      <td>-0.168555</td>\n",
       "    </tr>\n",
       "    <tr>\n",
       "      <th>1858</th>\n",
       "      <td>-1.781013</td>\n",
       "      <td>-0.848461</td>\n",
       "      <td>-1.205848</td>\n",
       "      <td>-0.664922</td>\n",
       "      <td>-0.373264</td>\n",
       "    </tr>\n",
       "    <tr>\n",
       "      <th>1657</th>\n",
       "      <td>-0.507868</td>\n",
       "      <td>-0.467969</td>\n",
       "      <td>-0.042331</td>\n",
       "      <td>3.974470</td>\n",
       "      <td>-1.478076</td>\n",
       "    </tr>\n",
       "    <tr>\n",
       "      <th>479</th>\n",
       "      <td>2.104103</td>\n",
       "      <td>-0.001834</td>\n",
       "      <td>-0.510594</td>\n",
       "      <td>-0.174344</td>\n",
       "      <td>-0.173538</td>\n",
       "    </tr>\n",
       "  </tbody>\n",
       "</table>\n",
       "</div>"
      ],
      "text/plain": [
       "          PC-1      PC-2      PC-3      PC-4      PC-5\n",
       "746  -1.905823 -0.867025 -1.218299 -0.666258 -0.375436\n",
       "1677  2.390431  0.040754 -0.482030 -0.171278 -0.168555\n",
       "1858 -1.781013 -0.848461 -1.205848 -0.664922 -0.373264\n",
       "1657 -0.507868 -0.467969 -0.042331  3.974470 -1.478076\n",
       "479   2.104103 -0.001834 -0.510594 -0.174344 -0.173538"
      ]
     },
     "execution_count": 70,
     "metadata": {},
     "output_type": "execute_result"
    }
   ],
   "source": [
    "X_test_pca = pca_object.transform(X_test_clean)\n",
    "X_test_pca = pd.DataFrame(data = X_test_pca,\n",
    "                                 columns = [f\"PC-{i+1}\" for i in range(5)],\n",
    "                                 index = X_test.index)\n",
    "\n",
    "X_test_pca.head()"
   ]
  },
  {
   "cell_type": "markdown",
   "id": "cbe34cab-a9ae-405a-a2ac-76417edc6222",
   "metadata": {},
   "source": [
    "#### **5.3. Prediksi Pada Data Pengetesan**"
   ]
  },
  {
   "cell_type": "code",
   "execution_count": 71,
   "id": "ce636e51-a1ef-498a-9de5-8e500a8a5413",
   "metadata": {},
   "outputs": [
    {
     "name": "stdout",
     "output_type": "stream",
     "text": [
      "3.2192835389722214\n"
     ]
    }
   ],
   "source": [
    "#membuat baseline\n",
    "baseline_pred_2 = np.mean(y_test['EFConsPerCap'])\n",
    "print(baseline_pred_2)"
   ]
  },
  {
   "cell_type": "code",
   "execution_count": 72,
   "id": "1a1b7119-008f-4603-8eb4-b80ad5e267dc",
   "metadata": {},
   "outputs": [
    {
     "name": "stdout",
     "output_type": "stream",
     "text": [
      "5.633164027370715\n"
     ]
    }
   ],
   "source": [
    "#menghitung MSE baseline\n",
    "baseline_mse_2 = mean_squared_error(y_test[\"EFConsPerCap\"], \n",
    "                                  np.ones(len(y_test[\"EFConsPerCap\"])) * baseline_pred_2)\n",
    "print(baseline_mse_2)"
   ]
  },
  {
   "cell_type": "code",
   "execution_count": 115,
   "id": "019ea8aa-0b8c-4197-b036-7fe9b5624060",
   "metadata": {},
   "outputs": [],
   "source": [
    "# Melakukan cross validation\n",
    "\n",
    "scores_poly_2 = cross_val_score(model, tes3, y_test[\"EFConsPerCap\"],scoring='neg_mean_squared_error',\n",
    "                            cv = 5, n_jobs = -1)"
   ]
  },
  {
   "cell_type": "code",
   "execution_count": 104,
   "id": "1165bedf-9b4b-4c54-bbdc-8d1f501503d2",
   "metadata": {},
   "outputs": [
    {
     "data": {
      "text/plain": [
       "array([-1.85129346, -1.76969022, -0.99251947, -2.83832257, -3.39851438])"
      ]
     },
     "execution_count": 104,
     "metadata": {},
     "output_type": "execute_result"
    }
   ],
   "source": [
    "scores_poly_2"
   ]
  },
  {
   "cell_type": "code",
   "execution_count": null,
   "id": "bdaa0f53-e8c6-415e-b291-ba17d689ecc9",
   "metadata": {},
   "outputs": [],
   "source": []
  },
  {
   "cell_type": "code",
   "execution_count": 73,
   "id": "d1609f92-709c-4ec8-809d-e17dbbe18be0",
   "metadata": {},
   "outputs": [],
   "source": [
    "#menjalankan model prediksi\n",
    "y_test_pred = model.predict(X_test_pca)"
   ]
  },
  {
   "cell_type": "code",
   "execution_count": 74,
   "id": "df698846-e74b-4855-a5e5-6b3732290c0b",
   "metadata": {},
   "outputs": [
    {
     "data": {
      "text/plain": [
       "array([-10.70072278,  -7.87686352, -10.97450019,  51.04605387,\n",
       "        -7.87663684,  24.27983051, -10.76634181,  16.19229639,\n",
       "         2.49203704,  51.26418568,   4.15349389,  -7.80274635,\n",
       "        57.31393895,  -7.44175722,   2.15678956,  21.11621425,\n",
       "       -11.8854793 ,  22.36289528,  -7.81912328,  -7.87952645,\n",
       "        -7.79924887,  -7.84208692, -11.68894166,  -7.81535623,\n",
       "        -7.47319228,  -7.71819274,  -7.88552248,  15.11631097,\n",
       "        24.34896217,   1.819112  ,  51.10051754,  48.40782781,\n",
       "       -11.20498401,  -7.78225767,  -7.8616983 ,  13.96807331,\n",
       "         2.76179624,  48.61681494,  23.45385305, -11.12167987,\n",
       "        16.6247886 , -11.27210278,  45.7333704 ,  18.8335475 ,\n",
       "       -10.61765983, -11.90456152, -12.73537831,   1.52462222,\n",
       "        51.04605387, -11.38911577, -11.20498401, -11.03697862,\n",
       "         3.93698385,  10.13470537,  19.91839917,   1.99256044,\n",
       "        19.22658417,  -7.84107953, -11.29426787,  -7.67875879,\n",
       "         5.55887725,  14.33991094,  -7.88427579, -11.96741841,\n",
       "        57.58225091,  15.38891696,  -7.81599557,  -7.33697084,\n",
       "       -11.87270009,  46.15774114,  -7.85863844, -11.78850944,\n",
       "        16.79738312,  12.22455042,  -7.85283917,  12.86224593,\n",
       "       -11.42507615, -11.20498401,  -7.82693265,  19.00004062,\n",
       "        -7.85539385,  17.94555391,  12.22455042,  19.42474498,\n",
       "        14.98028508,  15.21845161,  11.26217252,  -7.88486457,\n",
       "        15.24538283,  -7.67215135,  13.35203875, -12.18414285,\n",
       "        24.69531324, -10.99018907,  -7.87794452,  14.4642263 ,\n",
       "        -7.86758926,  12.77108384,  17.31016281, -11.46784757,\n",
       "         3.11320857,  12.76253001,  13.09532054,  -7.57412227,\n",
       "       -10.84732643,   3.30518887,   3.228085  , -11.82760913,\n",
       "       -11.43223358,   6.08280608,  16.65933198,  -7.67436537,\n",
       "       -11.09104106,  -7.87422645,   4.24914652,   2.00421604,\n",
       "        19.19376761,  11.59165632,  -7.81083444,  24.41814001,\n",
       "         3.48671438, -10.60090868,  18.57699894, -10.75000633,\n",
       "        18.67027293, -10.70896557,  19.12816913, -10.90332866,\n",
       "        -7.6155508 ,  18.08555173,  -7.82634562, -11.55214341,\n",
       "        24.66062617,  -7.88540136,  -7.86492214,  -7.85327508,\n",
       "        19.85229264,  -7.85327508,  12.55809853,  -7.50049663,\n",
       "        18.93165079,  11.92253723,  18.37710613, -11.99223787,\n",
       "         3.63092918,   2.32328176,  -7.87875858,  -7.88199558,\n",
       "        -7.8286607 ,  12.33162851,   3.86993064,  -7.76870846,\n",
       "       -11.43937947,  12.6297371 ,  13.56316706, -11.92984283,\n",
       "        19.58832841,  18.21463981,   2.63848564,  -7.88140099,\n",
       "        15.08228718, -11.78195241,  15.62290125, -11.68221144,\n",
       "       -11.35286673, -11.60054816,  -7.38905949,  -7.74095078,\n",
       "        57.07622457, -11.65517509,   1.63696382, -10.71719682,\n",
       "       -12.62679158,  -7.64231828,  -7.86853969,  -7.87473162,\n",
       "        -7.85539385,  -7.88124406,  14.6749023 ,  -7.88526862,\n",
       "        -7.86594169, -11.21248784,  -7.88459327,  14.8070461 ,\n",
       "        15.73071361,  16.16056518,  -7.77116468,  -7.84695071,\n",
       "        -7.88522793,  -7.84056806,  -7.8257636 ,  -7.88451772,\n",
       "        -7.63032443,  -7.73541715, -11.43937947,  -7.44495269,\n",
       "         1.6256777 ,  50.31531464, -10.88738575,  -7.86758926,\n",
       "        50.91009674,  13.96597958,  15.11991284,  12.76253001,\n",
       "        -7.84258293,  15.08857421,  13.07633   ,  -7.81214204,\n",
       "        16.35112562,  19.91839917,  -7.88316377,  -7.28228427,\n",
       "        -7.88241032, -12.78068479,   4.31781621, -11.20498401,\n",
       "       -11.25726832,  -7.23278781, -11.49613093,   2.873763  ,\n",
       "       -11.43223358,   3.4606436 ,  -7.85863844,  -7.7670602 ,\n",
       "        18.92941821,  -7.88518492,  11.62167867, -11.36013963,\n",
       "        14.4042361 ,  -7.85413237, -11.28689105, -11.15971858,\n",
       "         3.26658497,  19.77993537,   1.55820346,  -7.79204676,\n",
       "         3.6441089 , -11.16729169,  16.28755928,  15.7491102 ,\n",
       "        56.60301271,  -7.22889957,  13.4441495 ,  -7.88280088,\n",
       "        18.75306425,  14.23544497,  57.58225091,  44.38326797,\n",
       "        -7.84973043,  22.295103  ,  -7.87124356,  -7.86916032,\n",
       "        24.55663425, -11.03697862,  19.29225194,  -7.77835553,\n",
       "       -11.80158886,  17.21379147, -10.99018907, -12.12544264,\n",
       "        13.99962234,  18.22573429,  16.97074194,  56.36751523,\n",
       "        -7.39916547,  12.98463491,  16.03375581, -11.21998012,\n",
       "       -11.55214341,  10.19363008,  16.57397148,  -7.56873587,\n",
       "        20.1501357 ,  -7.73354951,  15.7491102 ,  -7.88459327,\n",
       "       -10.91128279, -11.38911577,  -7.88108637,  -7.88492478,\n",
       "         6.21981681,  56.42632032,   0.76019837, -12.23027169,\n",
       "        25.11245864,   3.26658497,  18.67027293,  12.82899575,\n",
       "       -11.82760913,  -7.87989306,  -7.88304622,  13.86512057,\n",
       "       -11.65517509,  16.79738312,  -7.84551864,  -7.88328002,\n",
       "        -7.8303705 ,  -7.88409973, -11.1293107 , -11.43937947,\n",
       "        11.05322843,  12.8320407 ,  -7.87856075,  57.01691144,\n",
       "         3.12592643,  16.45224492,  11.89239942,  -7.79924887,\n",
       "         3.71018067,  -7.83424633,  20.61530608,  16.21116872,\n",
       "       -11.70906305,  16.60585279,   4.08551698,  -7.87663684,\n",
       "        -7.88551388,  -7.88409973,   3.43461902, -11.60054816,\n",
       "        51.42826948,  -7.88381331, -11.39633094, -11.37465079,\n",
       "       -11.48201234,  16.44656171,  -7.88042249,  15.37103756,\n",
       "        -7.87989306,  11.80205525,  50.82866102, -10.79887422,\n",
       "       -11.05248276,  16.25579344,  22.295103  ,  -7.87617786,\n",
       "        18.18218119,  16.63774565, -10.94298386,  17.14415159,\n",
       "         3.95042913,  -7.35811805,  19.55538484,  22.15965698,\n",
       "        18.8335475 ,  -7.72883632, -12.13136462, -11.66871636,\n",
       "        14.60716647, -11.76880372,  20.9489562 ,  18.76820303,\n",
       "        19.22658417,  -7.26726242,  18.11729857,  -7.87934009,\n",
       "        19.029858  ,  -7.87875858,  -7.64937603, -11.18994172,\n",
       "        -7.59520602,  16.79738312, -10.73362467,  13.96597958,\n",
       "        13.79793897,  -7.85863844,  -7.23278781, -11.24983377,\n",
       "        49.30112656,  17.98053605,  -7.88530589,   4.22175946,\n",
       "        -7.8853723 ,  -7.47319228, -10.75817985, -12.37508693,\n",
       "        -7.8720903 ,  18.40963404,  -7.88227556,  17.87562428,\n",
       "        51.84029754, -11.02142829, -11.07565238,  17.56766111,\n",
       "        23.69407614,  -7.60547078, -10.99018907,  -7.87422645,\n",
       "       -12.13727505,  17.98767191, -10.55037813, -11.11403749,\n",
       "       -11.05248276,  -7.88530589,   4.23544722, -11.74899408,\n",
       "        49.83283142,  16.3829261 ,  -7.88124406,   3.69694322,\n",
       "         3.228085  ,  13.1286631 ,  19.63772066,   4.15349389,\n",
       "        -7.8849829 ,  -7.85196451,  16.03375581,  -7.87952645,\n",
       "         1.704923  , -11.36740099,  17.45701639,   3.29230935,\n",
       "       -10.9823504 ,  22.19350117,  24.14170574, -10.52495697,\n",
       "        14.87838691, -10.70072278, -10.80697845,  -7.81148527,\n",
       "        -7.75692818,   2.21599127,  -7.87570732, -12.28128333,\n",
       "        -7.88400673,  50.91009674,  18.71782809,  -7.85942073,\n",
       "       -11.70236747,  21.75442739,  19.25941228,  22.19350117])"
      ]
     },
     "execution_count": 74,
     "metadata": {},
     "output_type": "execute_result"
    }
   ],
   "source": [
    "y_test_pred"
   ]
  },
  {
   "cell_type": "code",
   "execution_count": 75,
   "id": "5ffffca3-0d44-4bec-9db3-476bb043f65d",
   "metadata": {},
   "outputs": [
    {
     "data": {
      "text/html": [
       "<div>\n",
       "<style scoped>\n",
       "    .dataframe tbody tr th:only-of-type {\n",
       "        vertical-align: middle;\n",
       "    }\n",
       "\n",
       "    .dataframe tbody tr th {\n",
       "        vertical-align: top;\n",
       "    }\n",
       "\n",
       "    .dataframe thead th {\n",
       "        text-align: right;\n",
       "    }\n",
       "</style>\n",
       "<table border=\"1\" class=\"dataframe\">\n",
       "  <thead>\n",
       "    <tr style=\"text-align: right;\">\n",
       "      <th></th>\n",
       "      <th>actual</th>\n",
       "      <th>prediction</th>\n",
       "    </tr>\n",
       "  </thead>\n",
       "  <tbody>\n",
       "    <tr>\n",
       "      <th>746</th>\n",
       "      <td>5.047455</td>\n",
       "      <td>-10.700723</td>\n",
       "    </tr>\n",
       "    <tr>\n",
       "      <th>1677</th>\n",
       "      <td>1.282832</td>\n",
       "      <td>-7.876864</td>\n",
       "    </tr>\n",
       "    <tr>\n",
       "      <th>1858</th>\n",
       "      <td>5.346656</td>\n",
       "      <td>-10.974500</td>\n",
       "    </tr>\n",
       "    <tr>\n",
       "      <th>1657</th>\n",
       "      <td>2.387510</td>\n",
       "      <td>51.046054</td>\n",
       "    </tr>\n",
       "    <tr>\n",
       "      <th>479</th>\n",
       "      <td>1.286801</td>\n",
       "      <td>-7.876637</td>\n",
       "    </tr>\n",
       "  </tbody>\n",
       "</table>\n",
       "</div>"
      ],
      "text/plain": [
       "        actual  prediction\n",
       "746   5.047455  -10.700723\n",
       "1677  1.282832   -7.876864\n",
       "1858  5.346656  -10.974500\n",
       "1657  2.387510   51.046054\n",
       "479   1.286801   -7.876637"
      ]
     },
     "execution_count": 75,
     "metadata": {},
     "output_type": "execute_result"
    }
   ],
   "source": [
    "#membuat dataframe komparasi hasil aktual dan prediksi\n",
    "summary_test_pred = pd.DataFrame({\"actual\": y_test['EFConsPerCap'],\n",
    "                                   \"prediction\": y_test_pred})\n",
    "\n",
    "summary_test_pred.head()"
   ]
  },
  {
   "cell_type": "code",
   "execution_count": 76,
   "id": "e6dda36d-8e38-43c5-ae8c-5f5ad9478d02",
   "metadata": {},
   "outputs": [
    {
     "data": {
      "image/png": "[encoded data removed]",
      "text/plain": [
       "<Figure size 1000x1000 with 1 Axes>"
      ]
     },
     "metadata": {},
     "output_type": "display_data"
    }
   ],
   "source": [
    "fig, ax = plt.subplots(nrows=1, ncols=1, figsize=(10, 10))\n",
    "\n",
    "ax.scatter(summary_test_pred[\"actual\"], summary_test_pred[\"prediction\"])\n",
    "ax.plot([0, 30], [0, 30], \"--k\")\n",
    "\n",
    "ax.set_xlabel(\"Actual\")\n",
    "ax.set_ylabel(\"Prediction\")\n",
    "ax.set_xlim(0, 20)\n",
    "ax.set_ylim(0, 10)\n",
    "plt.show()"
   ]
  },
  {
   "cell_type": "markdown",
   "id": "1ec270a1-0012-4b98-8a45-3b9388e7089c",
   "metadata": {},
   "source": [
    "#### **5.4. Analisis Error**"
   ]
  },
  {
   "cell_type": "code",
   "execution_count": 77,
   "id": "42393fb6-c428-457d-83b8-9c3fce922626",
   "metadata": {},
   "outputs": [
    {
     "name": "stdout",
     "output_type": "stream",
     "text": [
      "284.9123365760802\n"
     ]
    }
   ],
   "source": [
    "# Cari MSE\n",
    "prediction_test_mse = mean_squared_error(y_test_pred, y_test['EFConsPerCap'])\n",
    "print(prediction_test_mse)"
   ]
  },
  {
   "cell_type": "code",
   "execution_count": 78,
   "id": "0e9b1713-cd2a-4ff1-bb84-771da6237f56",
   "metadata": {},
   "outputs": [
    {
     "name": "stdout",
     "output_type": "stream",
     "text": [
      "MSE turun -4957.77 %\n"
     ]
    }
   ],
   "source": [
    "# Cari perbandingan dengan baseline\n",
    "comparison_mse = 100*(baseline_mse_2 - prediction_test_mse) / baseline_mse_2\n",
    "print(f\"MSE turun {comparison_mse:.2f} %\")"
   ]
  },
  {
   "cell_type": "markdown",
   "id": "74fe54cc-c177-42e1-9f12-a925c1722cc4",
   "metadata": {},
   "source": []
  },
  {
   "cell_type": "code",
   "execution_count": 111,
   "id": "52ac6fa4-3cfe-4ecd-b993-181354ed701a",
   "metadata": {},
   "outputs": [],
   "source": [
    "#menampilkan hasil regresi polinomial\n",
    "\n",
    "#fitting dan transform data training\n",
    "poly_features_test = poly.fit_transform(tes3)"
   ]
  },
  {
   "cell_type": "code",
   "execution_count": 112,
   "id": "173e5fc0-182e-410f-8abc-6947ebe5e756",
   "metadata": {},
   "outputs": [
    {
     "data": {
      "text/plain": [
       "LinearRegression()"
      ]
     },
     "execution_count": 112,
     "metadata": {},
     "output_type": "execute_result"
    }
   ],
   "source": [
    "#fitting ke regresi linear\n",
    "poly_reg_model_test = LinearRegression()\n",
    "poly_reg_model_test.fit(poly_features_test, y_test['EFConsPerCap'])"
   ]
  },
  {
   "cell_type": "code",
   "execution_count": 113,
   "id": "b691edf8-c634-4ebd-8572-a47691f61e72",
   "metadata": {},
   "outputs": [
    {
     "data": {
      "text/plain": [
       "array([ 210.17821546, -599.70324622,  716.38178717, -295.90014272])"
      ]
     },
     "execution_count": 113,
     "metadata": {},
     "output_type": "execute_result"
    }
   ],
   "source": [
    "poly_reg_model_test.coef_"
   ]
  },
  {
   "cell_type": "code",
   "execution_count": 114,
   "id": "b45a656a-2f03-4c15-9e02-ee2e6ea3830c",
   "metadata": {},
   "outputs": [
    {
     "data": {
      "text/plain": [
       "-24.999577240473073"
      ]
     },
     "execution_count": 114,
     "metadata": {},
     "output_type": "execute_result"
    }
   ],
   "source": [
    "poly_reg_model_test.intercept_"
   ]
  },
  {
   "cell_type": "code",
   "execution_count": null,
   "id": "65d10e44-fc5b-4da7-bf3d-e13e8747aacb",
   "metadata": {},
   "outputs": [],
   "source": []
  }
 ],
 "metadata": {
  "kernelspec": {
   "display_name": "Python 3 (ipykernel)",
   "language": "python",
   "name": "python3"
  },
  "language_info": {
   "codemirror_mode": {
    "name": "ipython",
    "version": 3
   },
   "file_extension": ".py",
   "mimetype": "text/x-python",
   "name": "python",
   "nbconvert_exporter": "python",
   "pygments_lexer": "ipython3",
   "version": "3.9.13"
  }
 },
 "nbformat": 4,
 "nbformat_minor": 5
}
